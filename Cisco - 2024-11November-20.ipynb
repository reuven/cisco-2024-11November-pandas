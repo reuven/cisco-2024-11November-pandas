{
 "cells": [
  {
   "cell_type": "markdown",
   "id": "dafd44fa-2be6-4c24-86dd-2c3b1f46d91a",
   "metadata": {},
   "source": [
    "# Agenda\n",
    "1. Grouping and pivot tables\n",
    "2. More with multi-indexes (e.g., stack and unstack)\n",
    "3. Joining, merging, and concatenating\n",
    "4. Working with text\n",
    "\n"
   ]
  },
  {
   "cell_type": "code",
   "execution_count": 3,
   "id": "333febc9-032e-479d-af28-659a57015b6e",
   "metadata": {},
   "outputs": [],
   "source": [
    "import pandas as pd\n",
    "\n",
    "filename = 'taxi.csv'\n",
    "\n",
    "df = pd.read_csv(filename,\n",
    "                usecols=['VendorID', 'passenger_count', 'trip_distance',\n",
    "                         'total_amount', 'payment_type'])"
   ]
  },
  {
   "cell_type": "code",
   "execution_count": 4,
   "id": "a9e079f4-f98a-4c0d-8831-5c3a386e8863",
   "metadata": {},
   "outputs": [
    {
     "data": {
      "text/html": [
       "<div>\n",
       "<style scoped>\n",
       "    .dataframe tbody tr th:only-of-type {\n",
       "        vertical-align: middle;\n",
       "    }\n",
       "\n",
       "    .dataframe tbody tr th {\n",
       "        vertical-align: top;\n",
       "    }\n",
       "\n",
       "    .dataframe thead th {\n",
       "        text-align: right;\n",
       "    }\n",
       "</style>\n",
       "<table border=\"1\" class=\"dataframe\">\n",
       "  <thead>\n",
       "    <tr style=\"text-align: right;\">\n",
       "      <th></th>\n",
       "      <th>VendorID</th>\n",
       "      <th>passenger_count</th>\n",
       "      <th>trip_distance</th>\n",
       "      <th>payment_type</th>\n",
       "      <th>total_amount</th>\n",
       "    </tr>\n",
       "  </thead>\n",
       "  <tbody>\n",
       "    <tr>\n",
       "      <th>0</th>\n",
       "      <td>2</td>\n",
       "      <td>1</td>\n",
       "      <td>1.63</td>\n",
       "      <td>2</td>\n",
       "      <td>17.80</td>\n",
       "    </tr>\n",
       "    <tr>\n",
       "      <th>1</th>\n",
       "      <td>2</td>\n",
       "      <td>1</td>\n",
       "      <td>0.46</td>\n",
       "      <td>1</td>\n",
       "      <td>8.30</td>\n",
       "    </tr>\n",
       "    <tr>\n",
       "      <th>2</th>\n",
       "      <td>2</td>\n",
       "      <td>1</td>\n",
       "      <td>0.87</td>\n",
       "      <td>1</td>\n",
       "      <td>11.00</td>\n",
       "    </tr>\n",
       "    <tr>\n",
       "      <th>3</th>\n",
       "      <td>2</td>\n",
       "      <td>1</td>\n",
       "      <td>2.13</td>\n",
       "      <td>1</td>\n",
       "      <td>17.16</td>\n",
       "    </tr>\n",
       "    <tr>\n",
       "      <th>4</th>\n",
       "      <td>1</td>\n",
       "      <td>1</td>\n",
       "      <td>1.40</td>\n",
       "      <td>2</td>\n",
       "      <td>10.30</td>\n",
       "    </tr>\n",
       "  </tbody>\n",
       "</table>\n",
       "</div>"
      ],
      "text/plain": [
       "   VendorID  passenger_count  trip_distance  payment_type  total_amount\n",
       "0         2                1           1.63             2         17.80\n",
       "1         2                1           0.46             1          8.30\n",
       "2         2                1           0.87             1         11.00\n",
       "3         2                1           2.13             1         17.16\n",
       "4         1                1           1.40             2         10.30"
      ]
     },
     "execution_count": 4,
     "metadata": {},
     "output_type": "execute_result"
    }
   ],
   "source": [
    "df.head()"
   ]
  },
  {
   "cell_type": "code",
   "execution_count": 5,
   "id": "9b347a99-0189-426c-9e6f-bff9a91044cf",
   "metadata": {},
   "outputs": [
    {
     "data": {
      "text/plain": [
       "np.float64(17.552472247224728)"
      ]
     },
     "execution_count": 5,
     "metadata": {},
     "output_type": "execute_result"
    }
   ],
   "source": [
    "# I want to know how much people paid, on average (mean) for their taxi rides\n",
    "\n",
    "df['total_amount'].mean()"
   ]
  },
  {
   "cell_type": "code",
   "execution_count": 7,
   "id": "2e43ae01-8a28-4753-b266-465062b94f28",
   "metadata": {},
   "outputs": [
    {
     "data": {
      "text/plain": [
       "np.float64(25.57)"
      ]
     },
     "execution_count": 7,
     "metadata": {},
     "output_type": "execute_result"
    }
   ],
   "source": [
    "# I want to know how much people paid, on average, for their taxi rides where there were 0 passengers\n",
    "\n",
    "(\n",
    "    df.loc[\n",
    "        df['passenger_count'] == 0,\n",
    "        'total_amount'\n",
    "       ]\n",
    "    .mean()\n",
    ")"
   ]
  },
  {
   "cell_type": "code",
   "execution_count": 8,
   "id": "40094983-52ea-40a4-b336-579f7e16ef4a",
   "metadata": {},
   "outputs": [
    {
     "data": {
      "text/plain": [
       "np.float64(17.368569446371584)"
      ]
     },
     "execution_count": 8,
     "metadata": {},
     "output_type": "execute_result"
    }
   ],
   "source": [
    "# I want to know how much people paid, on average, for their taxi rides where there were 1 passenger\n",
    "\n",
    "(\n",
    "    df.loc[\n",
    "        df['passenger_count'] == 1,\n",
    "        'total_amount'\n",
    "       ]\n",
    "    .mean()\n",
    ")"
   ]
  },
  {
   "cell_type": "code",
   "execution_count": 9,
   "id": "ef4efeac-27ed-45e9-98c2-792d6c5c86a0",
   "metadata": {},
   "outputs": [
    {
     "data": {
      "text/plain": [
       "np.float64(18.406306169078444)"
      ]
     },
     "execution_count": 9,
     "metadata": {},
     "output_type": "execute_result"
    }
   ],
   "source": [
    "# I want to know how much people paid, on average, for their taxi rides where there were 2 passengers\n",
    "\n",
    "(\n",
    "    df.loc[\n",
    "        df['passenger_count'] == 2,\n",
    "        'total_amount'\n",
    "       ]\n",
    "    .mean()\n",
    ")"
   ]
  },
  {
   "cell_type": "markdown",
   "id": "26c36e52-87d8-439c-aeb1-ff028886d108",
   "metadata": {},
   "source": [
    "# DRY -- don't repeat yourself!\n",
    "\n",
    "If you're running the same query for each distinct value in a particular column, there is a better way to do this -- to do grouping, which we run via the `groupby` method.\n",
    "\n",
    "The idea is:\n",
    "- Choose a categorical column, i.e., one with a limited number of distinct values\n",
    "- We choose a numeric column, i.e., one on which we'll want to perform the calculation\n",
    "- We choose an aggregation method, i.e., one which takes many values and returns a single value\n",
    "\n",
    "The syntax for `groupby` is:\n",
    "\n",
    "    df.groupby(CATEGORICAL)[NUMERIC].AGGFUNC()\n",
    "\n",
    "The result will be a series. The index for this series will be the distinct values of `CATEGORICAL`, sorted in ascending order. The values will be the result of invoking `AGGFUNC` on each subset of `NUMERIC`."
   ]
  },
  {
   "cell_type": "code",
   "execution_count": 10,
   "id": "9e47378f-0074-41c4-8a80-2d7b4e9c9bd3",
   "metadata": {},
   "outputs": [
    {
     "data": {
      "text/plain": [
       "passenger_count\n",
       "0    25.570000\n",
       "1    17.368569\n",
       "2    18.406306\n",
       "3    17.994704\n",
       "4    18.881648\n",
       "5    17.211269\n",
       "6    17.401355\n",
       "Name: total_amount, dtype: float64"
      ]
     },
     "execution_count": 10,
     "metadata": {},
     "output_type": "execute_result"
    }
   ],
   "source": [
    "df.groupby('passenger_count')['total_amount'].mean()"
   ]
  },
  {
   "cell_type": "markdown",
   "id": "ff89ac0b-ed66-414f-8261-b7961dff3c4a",
   "metadata": {},
   "source": [
    "Any time that you ask, \"What was the value of X for each value of Y,\" you're asking a `groupby` question:\n",
    "\n",
    "- Sales per region\n",
    "- Sales per product\n",
    "- Salary per age\n",
    "- Expenses per household"
   ]
  },
  {
   "cell_type": "markdown",
   "id": "29fd71c1-11c1-46e8-9857-439a23c703fe",
   "metadata": {},
   "source": [
    "# What aggregation methods are there?\n",
    "\n",
    "- `min`\n",
    "- `max`\n",
    "- `mean`\n",
    "- `std`\n",
    "- `median`\n",
    "- `quantile`\n",
    "- `sum`\n",
    "- `count` -- how many non-`NaN` values are there?\n",
    "- `idxmin`\n",
    "- `idxmax`\n",
    "- `value_counts`"
   ]
  },
  {
   "cell_type": "code",
   "execution_count": 11,
   "id": "fa5a2dfe-d255-4f36-9166-bcd880d4e8ac",
   "metadata": {},
   "outputs": [
    {
     "data": {
      "text/plain": [
       "passenger_count\n",
       "0    5097\n",
       "1    5719\n",
       "2    9052\n",
       "3     603\n",
       "4    1014\n",
       "5    5087\n",
       "6    7509\n",
       "Name: total_amount, dtype: int64"
      ]
     },
     "execution_count": 11,
     "metadata": {},
     "output_type": "execute_result"
    }
   ],
   "source": [
    "df.groupby('passenger_count')['total_amount'].idxmin()"
   ]
  },
  {
   "cell_type": "code",
   "execution_count": 12,
   "id": "d32deea4-0aa9-4925-8098-bc0889084268",
   "metadata": {},
   "outputs": [
    {
     "data": {
      "text/plain": [
       "passenger_count  total_amount\n",
       "0                14.75             1\n",
       "                 36.39             1\n",
       "1                7.30            210\n",
       "                 7.80            186\n",
       "                 6.80            179\n",
       "                                ... \n",
       "6                63.41             1\n",
       "                 63.55             1\n",
       "                 70.01             1\n",
       "                 72.92             1\n",
       "                 83.12             1\n",
       "Name: count, Length: 1749, dtype: int64"
      ]
     },
     "execution_count": 12,
     "metadata": {},
     "output_type": "execute_result"
    }
   ],
   "source": [
    "df.groupby('passenger_count')['total_amount'].value_counts()"
   ]
  },
  {
   "cell_type": "markdown",
   "id": "d1cf27f2-f8f4-4f8f-b63f-976efc81d639",
   "metadata": {},
   "source": [
    "# Exercise: Taxi grouping\n",
    "\n",
    "1. We're going to run a bunch of queries using `groupby` on the NYC taxi data from January 2020. (This is in the larger zipfile that I asked you to download. The filename is `nyc_taxi_2020-01.csv`.)\n",
    "2. What was the mean `total_amount` for each value of `passenger_count`?\n",
    "3. What was the max `total_amount` for each value of `passenger_count`?\n",
    "4. Create a new column, `tip_percentage`, which is the result of taking the `tip_amount` and finding its percentage of `fare_amount`. Get the mean `tip_percentage` per `passenger_count`.\n",
    "5. Compare the mean and median `total_amount` for each value of `payment_type`."
   ]
  },
  {
   "cell_type": "code",
   "execution_count": 15,
   "id": "890cc003-d581-4abc-bbee-fa2727dd226b",
   "metadata": {},
   "outputs": [
    {
     "name": "stderr",
     "output_type": "stream",
     "text": [
      "/var/folders/rr/0mnyyv811fs5vyp22gf4fxk00000gn/T/ipykernel_24291/111017737.py:3: DtypeWarning: Columns (6) have mixed types. Specify dtype option on import or set low_memory=False.\n",
      "  df = pd.read_csv(filename)\n"
     ]
    }
   ],
   "source": [
    "filename = '/Users/reuven/Courses/Current/Data/nyc_taxi_2020-01.csv'\n",
    "\n",
    "df = pd.read_csv(filename)"
   ]
  },
  {
   "cell_type": "code",
   "execution_count": 16,
   "id": "61df3349-2323-44b7-be2e-db9c87087331",
   "metadata": {},
   "outputs": [
    {
     "name": "stdout",
     "output_type": "stream",
     "text": [
      "-rw-r--r-- 1 reuven staff 567M Jun  4  2021 /Users/reuven/Courses/Current/Data/nyc_taxi_2020-01.csv\n"
     ]
    }
   ],
   "source": [
    "!ls -lh $filename"
   ]
  },
  {
   "cell_type": "code",
   "execution_count": 17,
   "id": "72c53c6d-f3f6-4a00-a4d3-d04cef86caa1",
   "metadata": {},
   "outputs": [],
   "source": [
    "df = pd.read_csv(filename, low_memory=False)"
   ]
  },
  {
   "cell_type": "code",
   "execution_count": 18,
   "id": "2eac14a5-c48d-4533-afbd-d1e1c0a6e40a",
   "metadata": {},
   "outputs": [
    {
     "data": {
      "text/html": [
       "<div>\n",
       "<style scoped>\n",
       "    .dataframe tbody tr th:only-of-type {\n",
       "        vertical-align: middle;\n",
       "    }\n",
       "\n",
       "    .dataframe tbody tr th {\n",
       "        vertical-align: top;\n",
       "    }\n",
       "\n",
       "    .dataframe thead th {\n",
       "        text-align: right;\n",
       "    }\n",
       "</style>\n",
       "<table border=\"1\" class=\"dataframe\">\n",
       "  <thead>\n",
       "    <tr style=\"text-align: right;\">\n",
       "      <th></th>\n",
       "      <th>VendorID</th>\n",
       "      <th>tpep_pickup_datetime</th>\n",
       "      <th>tpep_dropoff_datetime</th>\n",
       "      <th>passenger_count</th>\n",
       "      <th>trip_distance</th>\n",
       "      <th>RatecodeID</th>\n",
       "      <th>store_and_fwd_flag</th>\n",
       "      <th>PULocationID</th>\n",
       "      <th>DOLocationID</th>\n",
       "      <th>payment_type</th>\n",
       "      <th>fare_amount</th>\n",
       "      <th>extra</th>\n",
       "      <th>mta_tax</th>\n",
       "      <th>tip_amount</th>\n",
       "      <th>tolls_amount</th>\n",
       "      <th>improvement_surcharge</th>\n",
       "      <th>total_amount</th>\n",
       "      <th>congestion_surcharge</th>\n",
       "    </tr>\n",
       "  </thead>\n",
       "  <tbody>\n",
       "    <tr>\n",
       "      <th>0</th>\n",
       "      <td>1.0</td>\n",
       "      <td>2020-01-01 00:28:15</td>\n",
       "      <td>2020-01-01 00:33:03</td>\n",
       "      <td>1.0</td>\n",
       "      <td>1.2</td>\n",
       "      <td>1.0</td>\n",
       "      <td>N</td>\n",
       "      <td>238</td>\n",
       "      <td>239</td>\n",
       "      <td>1.0</td>\n",
       "      <td>6.0</td>\n",
       "      <td>3.0</td>\n",
       "      <td>0.5</td>\n",
       "      <td>1.47</td>\n",
       "      <td>0.0</td>\n",
       "      <td>0.3</td>\n",
       "      <td>11.27</td>\n",
       "      <td>2.5</td>\n",
       "    </tr>\n",
       "    <tr>\n",
       "      <th>1</th>\n",
       "      <td>1.0</td>\n",
       "      <td>2020-01-01 00:35:39</td>\n",
       "      <td>2020-01-01 00:43:04</td>\n",
       "      <td>1.0</td>\n",
       "      <td>1.2</td>\n",
       "      <td>1.0</td>\n",
       "      <td>N</td>\n",
       "      <td>239</td>\n",
       "      <td>238</td>\n",
       "      <td>1.0</td>\n",
       "      <td>7.0</td>\n",
       "      <td>3.0</td>\n",
       "      <td>0.5</td>\n",
       "      <td>1.50</td>\n",
       "      <td>0.0</td>\n",
       "      <td>0.3</td>\n",
       "      <td>12.30</td>\n",
       "      <td>2.5</td>\n",
       "    </tr>\n",
       "    <tr>\n",
       "      <th>2</th>\n",
       "      <td>1.0</td>\n",
       "      <td>2020-01-01 00:47:41</td>\n",
       "      <td>2020-01-01 00:53:52</td>\n",
       "      <td>1.0</td>\n",
       "      <td>0.6</td>\n",
       "      <td>1.0</td>\n",
       "      <td>N</td>\n",
       "      <td>238</td>\n",
       "      <td>238</td>\n",
       "      <td>1.0</td>\n",
       "      <td>6.0</td>\n",
       "      <td>3.0</td>\n",
       "      <td>0.5</td>\n",
       "      <td>1.00</td>\n",
       "      <td>0.0</td>\n",
       "      <td>0.3</td>\n",
       "      <td>10.80</td>\n",
       "      <td>2.5</td>\n",
       "    </tr>\n",
       "    <tr>\n",
       "      <th>3</th>\n",
       "      <td>1.0</td>\n",
       "      <td>2020-01-01 00:55:23</td>\n",
       "      <td>2020-01-01 01:00:14</td>\n",
       "      <td>1.0</td>\n",
       "      <td>0.8</td>\n",
       "      <td>1.0</td>\n",
       "      <td>N</td>\n",
       "      <td>238</td>\n",
       "      <td>151</td>\n",
       "      <td>1.0</td>\n",
       "      <td>5.5</td>\n",
       "      <td>0.5</td>\n",
       "      <td>0.5</td>\n",
       "      <td>1.36</td>\n",
       "      <td>0.0</td>\n",
       "      <td>0.3</td>\n",
       "      <td>8.16</td>\n",
       "      <td>0.0</td>\n",
       "    </tr>\n",
       "    <tr>\n",
       "      <th>4</th>\n",
       "      <td>2.0</td>\n",
       "      <td>2020-01-01 00:01:58</td>\n",
       "      <td>2020-01-01 00:04:16</td>\n",
       "      <td>1.0</td>\n",
       "      <td>0.0</td>\n",
       "      <td>1.0</td>\n",
       "      <td>N</td>\n",
       "      <td>193</td>\n",
       "      <td>193</td>\n",
       "      <td>2.0</td>\n",
       "      <td>3.5</td>\n",
       "      <td>0.5</td>\n",
       "      <td>0.5</td>\n",
       "      <td>0.00</td>\n",
       "      <td>0.0</td>\n",
       "      <td>0.3</td>\n",
       "      <td>4.80</td>\n",
       "      <td>0.0</td>\n",
       "    </tr>\n",
       "  </tbody>\n",
       "</table>\n",
       "</div>"
      ],
      "text/plain": [
       "   VendorID tpep_pickup_datetime tpep_dropoff_datetime  passenger_count  \\\n",
       "0       1.0  2020-01-01 00:28:15   2020-01-01 00:33:03              1.0   \n",
       "1       1.0  2020-01-01 00:35:39   2020-01-01 00:43:04              1.0   \n",
       "2       1.0  2020-01-01 00:47:41   2020-01-01 00:53:52              1.0   \n",
       "3       1.0  2020-01-01 00:55:23   2020-01-01 01:00:14              1.0   \n",
       "4       2.0  2020-01-01 00:01:58   2020-01-01 00:04:16              1.0   \n",
       "\n",
       "   trip_distance  RatecodeID store_and_fwd_flag  PULocationID  DOLocationID  \\\n",
       "0            1.2         1.0                  N           238           239   \n",
       "1            1.2         1.0                  N           239           238   \n",
       "2            0.6         1.0                  N           238           238   \n",
       "3            0.8         1.0                  N           238           151   \n",
       "4            0.0         1.0                  N           193           193   \n",
       "\n",
       "   payment_type  fare_amount  extra  mta_tax  tip_amount  tolls_amount  \\\n",
       "0           1.0          6.0    3.0      0.5        1.47           0.0   \n",
       "1           1.0          7.0    3.0      0.5        1.50           0.0   \n",
       "2           1.0          6.0    3.0      0.5        1.00           0.0   \n",
       "3           1.0          5.5    0.5      0.5        1.36           0.0   \n",
       "4           2.0          3.5    0.5      0.5        0.00           0.0   \n",
       "\n",
       "   improvement_surcharge  total_amount  congestion_surcharge  \n",
       "0                    0.3         11.27                   2.5  \n",
       "1                    0.3         12.30                   2.5  \n",
       "2                    0.3         10.80                   2.5  \n",
       "3                    0.3          8.16                   0.0  \n",
       "4                    0.3          4.80                   0.0  "
      ]
     },
     "execution_count": 18,
     "metadata": {},
     "output_type": "execute_result"
    }
   ],
   "source": [
    "df.head()"
   ]
  },
  {
   "cell_type": "code",
   "execution_count": 19,
   "id": "56c127d4-fb96-44db-9a17-462236bb3e52",
   "metadata": {},
   "outputs": [
    {
     "data": {
      "text/plain": [
       "VendorID                 float64\n",
       "tpep_pickup_datetime      object\n",
       "tpep_dropoff_datetime     object\n",
       "passenger_count          float64\n",
       "trip_distance            float64\n",
       "RatecodeID               float64\n",
       "store_and_fwd_flag        object\n",
       "PULocationID               int64\n",
       "DOLocationID               int64\n",
       "payment_type             float64\n",
       "fare_amount              float64\n",
       "extra                    float64\n",
       "mta_tax                  float64\n",
       "tip_amount               float64\n",
       "tolls_amount             float64\n",
       "improvement_surcharge    float64\n",
       "total_amount             float64\n",
       "congestion_surcharge     float64\n",
       "dtype: object"
      ]
     },
     "execution_count": 19,
     "metadata": {},
     "output_type": "execute_result"
    }
   ],
   "source": [
    "df.dtypes"
   ]
  },
  {
   "cell_type": "code",
   "execution_count": 20,
   "id": "45091579-74dd-45ec-99cc-ea1eaa35ecbc",
   "metadata": {
    "scrolled": true
   },
   "outputs": [
    {
     "data": {
      "text/plain": [
       "passenger_count\n",
       "0.0    18.059724\n",
       "1.0    18.343110\n",
       "2.0    19.050504\n",
       "3.0    18.736862\n",
       "4.0    19.128092\n",
       "5.0    18.234443\n",
       "6.0    18.367962\n",
       "7.0    71.143103\n",
       "8.0    58.197059\n",
       "9.0    81.244211\n",
       "Name: total_amount, dtype: float64"
      ]
     },
     "execution_count": 20,
     "metadata": {},
     "output_type": "execute_result"
    }
   ],
   "source": [
    "# What was the mean total_amount for each value of passenger_count?\n",
    "\n",
    "df.groupby('passenger_count')['total_amount'].mean()\n"
   ]
  },
  {
   "cell_type": "code",
   "execution_count": 21,
   "id": "1bc0e53f-2b0a-4716-b01f-f8c161cdd252",
   "metadata": {},
   "outputs": [
    {
     "data": {
      "text/plain": [
       "passenger_count\n",
       "1.0    4547226\n",
       "2.0     946423\n",
       "3.0     250234\n",
       "5.0     225693\n",
       "6.0     132154\n",
       "4.0     123470\n",
       "0.0     114302\n",
       "7.0         29\n",
       "9.0         19\n",
       "8.0         17\n",
       "Name: count, dtype: int64"
      ]
     },
     "execution_count": 21,
     "metadata": {},
     "output_type": "execute_result"
    }
   ],
   "source": [
    "df['passenger_count'].value_counts()"
   ]
  },
  {
   "cell_type": "code",
   "execution_count": 22,
   "id": "ac9571e0-07bf-4cd3-8533-8cf50b2fab86",
   "metadata": {
    "scrolled": true
   },
   "outputs": [
    {
     "data": {
      "text/plain": [
       "passenger_count\n",
       "0.0     435.42\n",
       "1.0    4268.30\n",
       "2.0     617.30\n",
       "3.0     499.56\n",
       "4.0     730.30\n",
       "5.0     384.66\n",
       "6.0     352.30\n",
       "7.0     101.30\n",
       "8.0     121.31\n",
       "9.0     140.06\n",
       "Name: total_amount, dtype: float64"
      ]
     },
     "execution_count": 22,
     "metadata": {},
     "output_type": "execute_result"
    }
   ],
   "source": [
    "# What was the max total_amount for each value of passenger_count?\n",
    "\n",
    "df.groupby('passenger_count')['total_amount'].max()\n"
   ]
  },
  {
   "cell_type": "code",
   "execution_count": 26,
   "id": "da52732b-edb8-43aa-8df5-d9e31f584384",
   "metadata": {},
   "outputs": [
    {
     "data": {
      "text/plain": [
       "passenger_count\n",
       "0.0    -128.30\n",
       "1.0   -1242.30\n",
       "2.0    -177.80\n",
       "3.0    -169.80\n",
       "4.0    -730.30\n",
       "5.0    -130.80\n",
       "6.0     -65.30\n",
       "7.0       8.30\n",
       "8.0       8.80\n",
       "9.0      11.76\n",
       "Name: total_amount, dtype: float64"
      ]
     },
     "execution_count": 26,
     "metadata": {},
     "output_type": "execute_result"
    }
   ],
   "source": [
    "df.groupby('passenger_count')['total_amount'].min()\n"
   ]
  },
  {
   "cell_type": "code",
   "execution_count": 25,
   "id": "db0f5727-586c-46d6-a9e5-9ea53c7d16d0",
   "metadata": {},
   "outputs": [
    {
     "data": {
      "text/plain": [
       "VendorID                                 2.0\n",
       "tpep_pickup_datetime     2020-01-21 15:38:33\n",
       "tpep_dropoff_datetime    2020-01-27 13:43:40\n",
       "passenger_count                          1.0\n",
       "trip_distance                           1.57\n",
       "RatecodeID                               1.0\n",
       "store_and_fwd_flag                         N\n",
       "PULocationID                             186\n",
       "DOLocationID                             152\n",
       "payment_type                             2.0\n",
       "fare_amount                           4265.0\n",
       "extra                                    0.0\n",
       "mta_tax                                  0.5\n",
       "tip_amount                               0.0\n",
       "tolls_amount                             0.0\n",
       "improvement_surcharge                    0.3\n",
       "total_amount                          4268.3\n",
       "congestion_surcharge                     2.5\n",
       "Name: 4049543, dtype: object"
      ]
     },
     "execution_count": 25,
     "metadata": {},
     "output_type": "execute_result"
    }
   ],
   "source": [
    "df.loc[df['total_amount'] == 4268.30].iloc[0]"
   ]
  },
  {
   "cell_type": "code",
   "execution_count": 30,
   "id": "645ed120-1719-46cf-912b-f3049f116904",
   "metadata": {
    "scrolled": true
   },
   "outputs": [
    {
     "data": {
      "text/plain": [
       "passenger_count\n",
       "0.0         inf\n",
       "1.0         inf\n",
       "2.0         inf\n",
       "3.0    0.187235\n",
       "4.0         inf\n",
       "5.0    0.200383\n",
       "6.0         inf\n",
       "7.0    0.524173\n",
       "8.0    0.138806\n",
       "9.0    0.131651\n",
       "Name: tip_percentage, dtype: float64"
      ]
     },
     "execution_count": 30,
     "metadata": {},
     "output_type": "execute_result"
    }
   ],
   "source": [
    "# Create a new column, tip_percentage, which is the result of taking the tip_amount and finding its percentage of fare_amount. \n",
    "# Get the mean tip_percentage per passenger_count.\n",
    "\n",
    "df['tip_percentage'] = df['tip_amount'] / df['fare_amount']\n",
    "\n",
    "df.groupby('passenger_count')['tip_percentage'].mean()"
   ]
  },
  {
   "cell_type": "code",
   "execution_count": 33,
   "id": "0a3ca125-91ce-47cf-aee2-6f73b1886f1e",
   "metadata": {},
   "outputs": [
    {
     "data": {
      "text/plain": [
       "VendorID                                 1.0\n",
       "tpep_pickup_datetime     2020-01-01 00:28:00\n",
       "tpep_dropoff_datetime    2020-01-01 00:28:35\n",
       "passenger_count                          1.0\n",
       "trip_distance                            0.0\n",
       "RatecodeID                               1.0\n",
       "store_and_fwd_flag                         N\n",
       "PULocationID                             166\n",
       "DOLocationID                             166\n",
       "payment_type                             3.0\n",
       "fare_amount                              0.0\n",
       "extra                                    0.0\n",
       "mta_tax                                  0.0\n",
       "tip_amount                               0.0\n",
       "tolls_amount                             0.0\n",
       "improvement_surcharge                    0.0\n",
       "total_amount                             0.0\n",
       "congestion_surcharge                     0.0\n",
       "tip_percentage                           NaN\n",
       "Name: 2318, dtype: object"
      ]
     },
     "execution_count": 33,
     "metadata": {},
     "output_type": "execute_result"
    }
   ],
   "source": [
    "df.loc[df['total_amount'] == 0].iloc[0]"
   ]
  },
  {
   "cell_type": "code",
   "execution_count": 39,
   "id": "45eba4f6-4039-4747-8418-72616843c8ed",
   "metadata": {
    "scrolled": true
   },
   "outputs": [
    {
     "data": {
      "text/plain": [
       "passenger_count\n",
       "0.0         inf\n",
       "1.0         inf\n",
       "2.0         inf\n",
       "3.0    0.187235\n",
       "4.0         inf\n",
       "5.0    0.200383\n",
       "6.0         inf\n",
       "7.0    0.524173\n",
       "8.0    0.138806\n",
       "9.0    0.131651\n",
       "Name: tip_percentage, dtype: float64"
      ]
     },
     "execution_count": 39,
     "metadata": {},
     "output_type": "execute_result"
    }
   ],
   "source": [
    "df.dropna(subset=['tip_amount', 'fare_amount', 'tip_percentage']).groupby('passenger_count')['tip_percentage'].mean()"
   ]
  },
  {
   "cell_type": "code",
   "execution_count": 41,
   "id": "3652aa00-b5dd-4782-b899-7d4a16b71ef9",
   "metadata": {
    "scrolled": true
   },
   "outputs": [
    {
     "data": {
      "text/plain": [
       "passenger_count\n",
       "0.0    0.193764\n",
       "1.0    0.209198\n",
       "2.0    0.193316\n",
       "3.0    0.187235\n",
       "4.0    0.175032\n",
       "5.0    0.200383\n",
       "6.0    0.197588\n",
       "7.0    0.524173\n",
       "8.0    0.138806\n",
       "9.0    0.131651\n",
       "Name: tip_percentage, dtype: float64"
      ]
     },
     "execution_count": 41,
     "metadata": {},
     "output_type": "execute_result"
    }
   ],
   "source": [
    "df.loc[df['fare_amount'] != 0].groupby('passenger_count')['tip_percentage'].mean()"
   ]
  },
  {
   "cell_type": "code",
   "execution_count": 42,
   "id": "1a5924b5-258a-46e5-a850-f00cffade970",
   "metadata": {},
   "outputs": [
    {
     "data": {
      "text/plain": [
       "passenger_count\n",
       "0.0    0.193764\n",
       "1.0    0.209198\n",
       "2.0    0.193316\n",
       "3.0    0.187235\n",
       "4.0    0.175032\n",
       "5.0    0.200383\n",
       "6.0    0.197588\n",
       "7.0    0.524173\n",
       "8.0    0.138806\n",
       "9.0    0.131651\n",
       "Name: tip_percentage, dtype: float64"
      ]
     },
     "execution_count": 42,
     "metadata": {},
     "output_type": "execute_result"
    }
   ],
   "source": [
    "# method chaining\n",
    "\n",
    "(\n",
    "    \n",
    "    df\n",
    "    .loc[df['fare_amount'] != 0]     # only keep rows where fare amount isn't 0\n",
    "    .groupby('passenger_count')['tip_percentage'].mean()\n",
    ")"
   ]
  },
  {
   "cell_type": "code",
   "execution_count": 43,
   "id": "1b040313-6c49-4177-9803-786b5d6793e1",
   "metadata": {},
   "outputs": [
    {
     "data": {
      "text/plain": [
       "payment_type\n",
       "1.0    19.602178\n",
       "2.0    15.516222\n",
       "3.0     9.933257\n",
       "4.0     0.890626\n",
       "5.0     0.000000\n",
       "Name: total_amount, dtype: float64"
      ]
     },
     "execution_count": 43,
     "metadata": {},
     "output_type": "execute_result"
    }
   ],
   "source": [
    "# Compare the mean and median total_amount for each value of payment_type.\n",
    "\n",
    "df.groupby('payment_type')['total_amount'].mean()"
   ]
  },
  {
   "cell_type": "code",
   "execution_count": 44,
   "id": "e7cb0a63-534a-4364-abc4-8ac60713da08",
   "metadata": {},
   "outputs": [
    {
     "data": {
      "text/plain": [
       "payment_type\n",
       "1.0    14.8\n",
       "2.0    11.8\n",
       "3.0     9.3\n",
       "4.0     0.3\n",
       "5.0     0.0\n",
       "Name: total_amount, dtype: float64"
      ]
     },
     "execution_count": 44,
     "metadata": {},
     "output_type": "execute_result"
    }
   ],
   "source": [
    "df.groupby('payment_type')['total_amount'].median()"
   ]
  },
  {
   "cell_type": "code",
   "execution_count": 46,
   "id": "da0327ea-70b9-49d8-af48-417e897cbc06",
   "metadata": {},
   "outputs": [
    {
     "data": {
      "text/html": [
       "<div>\n",
       "<style scoped>\n",
       "    .dataframe tbody tr th:only-of-type {\n",
       "        vertical-align: middle;\n",
       "    }\n",
       "\n",
       "    .dataframe tbody tr th {\n",
       "        vertical-align: top;\n",
       "    }\n",
       "\n",
       "    .dataframe thead th {\n",
       "        text-align: right;\n",
       "    }\n",
       "</style>\n",
       "<table border=\"1\" class=\"dataframe\">\n",
       "  <thead>\n",
       "    <tr style=\"text-align: right;\">\n",
       "      <th></th>\n",
       "      <th>mean</th>\n",
       "      <th>median</th>\n",
       "    </tr>\n",
       "    <tr>\n",
       "      <th>payment_type</th>\n",
       "      <th></th>\n",
       "      <th></th>\n",
       "    </tr>\n",
       "  </thead>\n",
       "  <tbody>\n",
       "    <tr>\n",
       "      <th>1.0</th>\n",
       "      <td>19.602178</td>\n",
       "      <td>14.8</td>\n",
       "    </tr>\n",
       "    <tr>\n",
       "      <th>2.0</th>\n",
       "      <td>15.516222</td>\n",
       "      <td>11.8</td>\n",
       "    </tr>\n",
       "    <tr>\n",
       "      <th>3.0</th>\n",
       "      <td>9.933257</td>\n",
       "      <td>9.3</td>\n",
       "    </tr>\n",
       "    <tr>\n",
       "      <th>4.0</th>\n",
       "      <td>0.890626</td>\n",
       "      <td>0.3</td>\n",
       "    </tr>\n",
       "    <tr>\n",
       "      <th>5.0</th>\n",
       "      <td>0.000000</td>\n",
       "      <td>0.0</td>\n",
       "    </tr>\n",
       "  </tbody>\n",
       "</table>\n",
       "</div>"
      ],
      "text/plain": [
       "                   mean  median\n",
       "payment_type                   \n",
       "1.0           19.602178    14.8\n",
       "2.0           15.516222    11.8\n",
       "3.0            9.933257     9.3\n",
       "4.0            0.890626     0.3\n",
       "5.0            0.000000     0.0"
      ]
     },
     "execution_count": 46,
     "metadata": {},
     "output_type": "execute_result"
    }
   ],
   "source": [
    "df.groupby('payment_type')['total_amount'].agg(['mean', 'median'])"
   ]
  },
  {
   "cell_type": "code",
   "execution_count": 47,
   "id": "6365511d-41fb-406b-a3ce-4bf30630ac8d",
   "metadata": {},
   "outputs": [
    {
     "data": {
      "text/plain": [
       "passenger_count  payment_type\n",
       "0.0              1.0             19.169661\n",
       "                 2.0             15.080724\n",
       "                 3.0             14.753550\n",
       "                 4.0             15.009711\n",
       "1.0              1.0             19.479882\n",
       "                 2.0             15.272954\n",
       "                 3.0              9.479660\n",
       "                 4.0              0.501119\n",
       "                 5.0              0.000000\n",
       "2.0              1.0             20.196789\n",
       "                 2.0             16.277862\n",
       "                 3.0             12.061866\n",
       "                 4.0              0.310638\n",
       "3.0              1.0             19.839760\n",
       "                 2.0             16.203684\n",
       "                 3.0             11.231576\n",
       "                 4.0              0.022131\n",
       "4.0              1.0             20.463335\n",
       "                 2.0             16.687550\n",
       "                 3.0             11.233845\n",
       "                 4.0              1.112188\n",
       "5.0              1.0             19.285617\n",
       "                 2.0             15.385476\n",
       "                 3.0             -8.708917\n",
       "                 4.0             -8.882376\n",
       "6.0              1.0             19.406970\n",
       "                 2.0             15.556227\n",
       "                 3.0             -3.133370\n",
       "                 4.0             -2.484444\n",
       "7.0              1.0             77.342174\n",
       "                 2.0             47.380000\n",
       "8.0              1.0             53.255000\n",
       "                 2.0             81.260000\n",
       "9.0              1.0             82.345556\n",
       "                 2.0             61.420000\n",
       "Name: total_amount, dtype: float64"
      ]
     },
     "execution_count": 47,
     "metadata": {},
     "output_type": "execute_result"
    }
   ],
   "source": [
    "# we see here how we can run groupby on a categorical column\n",
    "# what if I want to groupby on *two* categoricals?\n",
    "# typically, it'll be hierarchical\n",
    "# - country + region\n",
    "# - department + product\n",
    "# - year + month\n",
    "\n",
    "# let's get the mean amount paid \n",
    "# for each passenger_count + payment_type combination\n",
    "\n",
    "df.groupby(['passenger_count', 'payment_type'])['total_amount'].mean()"
   ]
  },
  {
   "cell_type": "code",
   "execution_count": 49,
   "id": "9fadc2b0-56b7-40f1-8f16-566521b8ac02",
   "metadata": {},
   "outputs": [
    {
     "data": {
      "text/plain": [
       "passenger_count\n",
       "0.0    19.169661\n",
       "1.0    19.479882\n",
       "2.0    20.196789\n",
       "3.0    19.839760\n",
       "4.0    20.463335\n",
       "5.0    19.285617\n",
       "6.0    19.406970\n",
       "7.0    77.342174\n",
       "8.0    53.255000\n",
       "9.0    82.345556\n",
       "Name: total_amount, dtype: float64"
      ]
     },
     "execution_count": 49,
     "metadata": {},
     "output_type": "execute_result"
    }
   ],
   "source": [
    "# after we perform the groupby, we can use xs to retrieve only those results\n",
    "# where payment_type == 1\n",
    "\n",
    "df.groupby(['passenger_count', 'payment_type'])['total_amount'].mean().xs(1, level='payment_type')"
   ]
  },
  {
   "cell_type": "code",
   "execution_count": null,
   "id": "8b0216ac-39cd-4709-ba6e-6c2b80b87a6b",
   "metadata": {},
   "outputs": [],
   "source": [
    "# method chaining here:\n",
    "\n",
    "(\n",
    "    df\n",
    "    .groupby(['passenger_count', 'payment_type'])['total_amount'].mean()\n",
    "    .xs(1, level='payment_type')\n",
    ")"
   ]
  },
  {
   "cell_type": "code",
   "execution_count": 53,
   "id": "c095e8c7-7252-4cf3-a769-e80b974d91a0",
   "metadata": {},
   "outputs": [
    {
     "data": {
      "text/html": [
       "<div>\n",
       "<style scoped>\n",
       "    .dataframe tbody tr th:only-of-type {\n",
       "        vertical-align: middle;\n",
       "    }\n",
       "\n",
       "    .dataframe tbody tr th {\n",
       "        vertical-align: top;\n",
       "    }\n",
       "\n",
       "    .dataframe thead th {\n",
       "        text-align: right;\n",
       "    }\n",
       "</style>\n",
       "<table border=\"1\" class=\"dataframe\">\n",
       "  <thead>\n",
       "    <tr style=\"text-align: right;\">\n",
       "      <th></th>\n",
       "      <th></th>\n",
       "      <th>VendorID</th>\n",
       "      <th>tpep_pickup_datetime</th>\n",
       "      <th>tpep_dropoff_datetime</th>\n",
       "      <th>trip_distance</th>\n",
       "      <th>RatecodeID</th>\n",
       "      <th>store_and_fwd_flag</th>\n",
       "      <th>PULocationID</th>\n",
       "      <th>DOLocationID</th>\n",
       "      <th>fare_amount</th>\n",
       "      <th>extra</th>\n",
       "      <th>mta_tax</th>\n",
       "      <th>tip_amount</th>\n",
       "      <th>tolls_amount</th>\n",
       "      <th>improvement_surcharge</th>\n",
       "      <th>total_amount</th>\n",
       "      <th>congestion_surcharge</th>\n",
       "      <th>tip_percentage</th>\n",
       "    </tr>\n",
       "    <tr>\n",
       "      <th>passenger_count</th>\n",
       "      <th>payment_type</th>\n",
       "      <th></th>\n",
       "      <th></th>\n",
       "      <th></th>\n",
       "      <th></th>\n",
       "      <th></th>\n",
       "      <th></th>\n",
       "      <th></th>\n",
       "      <th></th>\n",
       "      <th></th>\n",
       "      <th></th>\n",
       "      <th></th>\n",
       "      <th></th>\n",
       "      <th></th>\n",
       "      <th></th>\n",
       "      <th></th>\n",
       "      <th></th>\n",
       "      <th></th>\n",
       "    </tr>\n",
       "  </thead>\n",
       "  <tbody>\n",
       "    <tr>\n",
       "      <th rowspan=\"5\" valign=\"top\">1.0</th>\n",
       "      <th>1.0</th>\n",
       "      <td>1.0</td>\n",
       "      <td>2020-01-01 00:28:15</td>\n",
       "      <td>2020-01-01 00:33:03</td>\n",
       "      <td>1.20</td>\n",
       "      <td>1.0</td>\n",
       "      <td>N</td>\n",
       "      <td>238</td>\n",
       "      <td>239</td>\n",
       "      <td>6.00</td>\n",
       "      <td>3.00</td>\n",
       "      <td>0.5</td>\n",
       "      <td>1.47</td>\n",
       "      <td>0.00</td>\n",
       "      <td>0.3</td>\n",
       "      <td>11.27</td>\n",
       "      <td>2.5</td>\n",
       "      <td>0.245000</td>\n",
       "    </tr>\n",
       "    <tr>\n",
       "      <th>1.0</th>\n",
       "      <td>1.0</td>\n",
       "      <td>2020-01-01 00:35:39</td>\n",
       "      <td>2020-01-01 00:43:04</td>\n",
       "      <td>1.20</td>\n",
       "      <td>1.0</td>\n",
       "      <td>N</td>\n",
       "      <td>239</td>\n",
       "      <td>238</td>\n",
       "      <td>7.00</td>\n",
       "      <td>3.00</td>\n",
       "      <td>0.5</td>\n",
       "      <td>1.50</td>\n",
       "      <td>0.00</td>\n",
       "      <td>0.3</td>\n",
       "      <td>12.30</td>\n",
       "      <td>2.5</td>\n",
       "      <td>0.214286</td>\n",
       "    </tr>\n",
       "    <tr>\n",
       "      <th>1.0</th>\n",
       "      <td>1.0</td>\n",
       "      <td>2020-01-01 00:47:41</td>\n",
       "      <td>2020-01-01 00:53:52</td>\n",
       "      <td>0.60</td>\n",
       "      <td>1.0</td>\n",
       "      <td>N</td>\n",
       "      <td>238</td>\n",
       "      <td>238</td>\n",
       "      <td>6.00</td>\n",
       "      <td>3.00</td>\n",
       "      <td>0.5</td>\n",
       "      <td>1.00</td>\n",
       "      <td>0.00</td>\n",
       "      <td>0.3</td>\n",
       "      <td>10.80</td>\n",
       "      <td>2.5</td>\n",
       "      <td>0.166667</td>\n",
       "    </tr>\n",
       "    <tr>\n",
       "      <th>1.0</th>\n",
       "      <td>1.0</td>\n",
       "      <td>2020-01-01 00:55:23</td>\n",
       "      <td>2020-01-01 01:00:14</td>\n",
       "      <td>0.80</td>\n",
       "      <td>1.0</td>\n",
       "      <td>N</td>\n",
       "      <td>238</td>\n",
       "      <td>151</td>\n",
       "      <td>5.50</td>\n",
       "      <td>0.50</td>\n",
       "      <td>0.5</td>\n",
       "      <td>1.36</td>\n",
       "      <td>0.00</td>\n",
       "      <td>0.3</td>\n",
       "      <td>8.16</td>\n",
       "      <td>0.0</td>\n",
       "      <td>0.247273</td>\n",
       "    </tr>\n",
       "    <tr>\n",
       "      <th>2.0</th>\n",
       "      <td>2.0</td>\n",
       "      <td>2020-01-01 00:01:58</td>\n",
       "      <td>2020-01-01 00:04:16</td>\n",
       "      <td>0.00</td>\n",
       "      <td>1.0</td>\n",
       "      <td>N</td>\n",
       "      <td>193</td>\n",
       "      <td>193</td>\n",
       "      <td>3.50</td>\n",
       "      <td>0.50</td>\n",
       "      <td>0.5</td>\n",
       "      <td>0.00</td>\n",
       "      <td>0.00</td>\n",
       "      <td>0.3</td>\n",
       "      <td>4.80</td>\n",
       "      <td>0.0</td>\n",
       "      <td>0.000000</td>\n",
       "    </tr>\n",
       "    <tr>\n",
       "      <th>...</th>\n",
       "      <th>...</th>\n",
       "      <td>...</td>\n",
       "      <td>...</td>\n",
       "      <td>...</td>\n",
       "      <td>...</td>\n",
       "      <td>...</td>\n",
       "      <td>...</td>\n",
       "      <td>...</td>\n",
       "      <td>...</td>\n",
       "      <td>...</td>\n",
       "      <td>...</td>\n",
       "      <td>...</td>\n",
       "      <td>...</td>\n",
       "      <td>...</td>\n",
       "      <td>...</td>\n",
       "      <td>...</td>\n",
       "      <td>...</td>\n",
       "      <td>...</td>\n",
       "    </tr>\n",
       "    <tr>\n",
       "      <th rowspan=\"5\" valign=\"top\">NaN</th>\n",
       "      <th>NaN</th>\n",
       "      <td>NaN</td>\n",
       "      <td>2020-01-31 22:51:00</td>\n",
       "      <td>2020-01-31 23:22:00</td>\n",
       "      <td>3.24</td>\n",
       "      <td>NaN</td>\n",
       "      <td>NaN</td>\n",
       "      <td>237</td>\n",
       "      <td>234</td>\n",
       "      <td>17.59</td>\n",
       "      <td>2.75</td>\n",
       "      <td>0.5</td>\n",
       "      <td>0.00</td>\n",
       "      <td>0.00</td>\n",
       "      <td>0.3</td>\n",
       "      <td>21.14</td>\n",
       "      <td>0.0</td>\n",
       "      <td>0.000000</td>\n",
       "    </tr>\n",
       "    <tr>\n",
       "      <th>NaN</th>\n",
       "      <td>NaN</td>\n",
       "      <td>2020-01-31 22:10:00</td>\n",
       "      <td>2020-01-31 23:26:00</td>\n",
       "      <td>22.13</td>\n",
       "      <td>NaN</td>\n",
       "      <td>NaN</td>\n",
       "      <td>259</td>\n",
       "      <td>45</td>\n",
       "      <td>46.67</td>\n",
       "      <td>2.75</td>\n",
       "      <td>0.5</td>\n",
       "      <td>0.00</td>\n",
       "      <td>12.24</td>\n",
       "      <td>0.3</td>\n",
       "      <td>62.46</td>\n",
       "      <td>0.0</td>\n",
       "      <td>0.000000</td>\n",
       "    </tr>\n",
       "    <tr>\n",
       "      <th>NaN</th>\n",
       "      <td>NaN</td>\n",
       "      <td>2020-01-31 22:50:07</td>\n",
       "      <td>2020-01-31 23:17:57</td>\n",
       "      <td>10.51</td>\n",
       "      <td>NaN</td>\n",
       "      <td>NaN</td>\n",
       "      <td>137</td>\n",
       "      <td>169</td>\n",
       "      <td>48.85</td>\n",
       "      <td>2.75</td>\n",
       "      <td>0.0</td>\n",
       "      <td>0.00</td>\n",
       "      <td>0.00</td>\n",
       "      <td>0.3</td>\n",
       "      <td>51.90</td>\n",
       "      <td>0.0</td>\n",
       "      <td>0.000000</td>\n",
       "    </tr>\n",
       "    <tr>\n",
       "      <th>NaN</th>\n",
       "      <td>NaN</td>\n",
       "      <td>2020-01-31 22:25:53</td>\n",
       "      <td>2020-01-31 22:48:32</td>\n",
       "      <td>5.49</td>\n",
       "      <td>NaN</td>\n",
       "      <td>NaN</td>\n",
       "      <td>50</td>\n",
       "      <td>42</td>\n",
       "      <td>27.17</td>\n",
       "      <td>2.75</td>\n",
       "      <td>0.0</td>\n",
       "      <td>0.00</td>\n",
       "      <td>0.00</td>\n",
       "      <td>0.3</td>\n",
       "      <td>30.22</td>\n",
       "      <td>0.0</td>\n",
       "      <td>0.000000</td>\n",
       "    </tr>\n",
       "    <tr>\n",
       "      <th>NaN</th>\n",
       "      <td>NaN</td>\n",
       "      <td>2020-01-31 22:44:00</td>\n",
       "      <td>2020-01-31 23:06:00</td>\n",
       "      <td>11.60</td>\n",
       "      <td>NaN</td>\n",
       "      <td>NaN</td>\n",
       "      <td>179</td>\n",
       "      <td>205</td>\n",
       "      <td>54.56</td>\n",
       "      <td>2.75</td>\n",
       "      <td>0.5</td>\n",
       "      <td>0.00</td>\n",
       "      <td>0.00</td>\n",
       "      <td>0.3</td>\n",
       "      <td>58.11</td>\n",
       "      <td>0.0</td>\n",
       "      <td>0.000000</td>\n",
       "    </tr>\n",
       "  </tbody>\n",
       "</table>\n",
       "<p>6405008 rows × 17 columns</p>\n",
       "</div>"
      ],
      "text/plain": [
       "                              VendorID tpep_pickup_datetime  \\\n",
       "passenger_count payment_type                                  \n",
       "1.0             1.0                1.0  2020-01-01 00:28:15   \n",
       "                1.0                1.0  2020-01-01 00:35:39   \n",
       "                1.0                1.0  2020-01-01 00:47:41   \n",
       "                1.0                1.0  2020-01-01 00:55:23   \n",
       "                2.0                2.0  2020-01-01 00:01:58   \n",
       "...                                ...                  ...   \n",
       "NaN             NaN                NaN  2020-01-31 22:51:00   \n",
       "                NaN                NaN  2020-01-31 22:10:00   \n",
       "                NaN                NaN  2020-01-31 22:50:07   \n",
       "                NaN                NaN  2020-01-31 22:25:53   \n",
       "                NaN                NaN  2020-01-31 22:44:00   \n",
       "\n",
       "                             tpep_dropoff_datetime  trip_distance  RatecodeID  \\\n",
       "passenger_count payment_type                                                    \n",
       "1.0             1.0            2020-01-01 00:33:03           1.20         1.0   \n",
       "                1.0            2020-01-01 00:43:04           1.20         1.0   \n",
       "                1.0            2020-01-01 00:53:52           0.60         1.0   \n",
       "                1.0            2020-01-01 01:00:14           0.80         1.0   \n",
       "                2.0            2020-01-01 00:04:16           0.00         1.0   \n",
       "...                                            ...            ...         ...   \n",
       "NaN             NaN            2020-01-31 23:22:00           3.24         NaN   \n",
       "                NaN            2020-01-31 23:26:00          22.13         NaN   \n",
       "                NaN            2020-01-31 23:17:57          10.51         NaN   \n",
       "                NaN            2020-01-31 22:48:32           5.49         NaN   \n",
       "                NaN            2020-01-31 23:06:00          11.60         NaN   \n",
       "\n",
       "                             store_and_fwd_flag  PULocationID  DOLocationID  \\\n",
       "passenger_count payment_type                                                  \n",
       "1.0             1.0                           N           238           239   \n",
       "                1.0                           N           239           238   \n",
       "                1.0                           N           238           238   \n",
       "                1.0                           N           238           151   \n",
       "                2.0                           N           193           193   \n",
       "...                                         ...           ...           ...   \n",
       "NaN             NaN                         NaN           237           234   \n",
       "                NaN                         NaN           259            45   \n",
       "                NaN                         NaN           137           169   \n",
       "                NaN                         NaN            50            42   \n",
       "                NaN                         NaN           179           205   \n",
       "\n",
       "                              fare_amount  extra  mta_tax  tip_amount  \\\n",
       "passenger_count payment_type                                            \n",
       "1.0             1.0                  6.00   3.00      0.5        1.47   \n",
       "                1.0                  7.00   3.00      0.5        1.50   \n",
       "                1.0                  6.00   3.00      0.5        1.00   \n",
       "                1.0                  5.50   0.50      0.5        1.36   \n",
       "                2.0                  3.50   0.50      0.5        0.00   \n",
       "...                                   ...    ...      ...         ...   \n",
       "NaN             NaN                 17.59   2.75      0.5        0.00   \n",
       "                NaN                 46.67   2.75      0.5        0.00   \n",
       "                NaN                 48.85   2.75      0.0        0.00   \n",
       "                NaN                 27.17   2.75      0.0        0.00   \n",
       "                NaN                 54.56   2.75      0.5        0.00   \n",
       "\n",
       "                              tolls_amount  improvement_surcharge  \\\n",
       "passenger_count payment_type                                        \n",
       "1.0             1.0                   0.00                    0.3   \n",
       "                1.0                   0.00                    0.3   \n",
       "                1.0                   0.00                    0.3   \n",
       "                1.0                   0.00                    0.3   \n",
       "                2.0                   0.00                    0.3   \n",
       "...                                    ...                    ...   \n",
       "NaN             NaN                   0.00                    0.3   \n",
       "                NaN                  12.24                    0.3   \n",
       "                NaN                   0.00                    0.3   \n",
       "                NaN                   0.00                    0.3   \n",
       "                NaN                   0.00                    0.3   \n",
       "\n",
       "                              total_amount  congestion_surcharge  \\\n",
       "passenger_count payment_type                                       \n",
       "1.0             1.0                  11.27                   2.5   \n",
       "                1.0                  12.30                   2.5   \n",
       "                1.0                  10.80                   2.5   \n",
       "                1.0                   8.16                   0.0   \n",
       "                2.0                   4.80                   0.0   \n",
       "...                                    ...                   ...   \n",
       "NaN             NaN                  21.14                   0.0   \n",
       "                NaN                  62.46                   0.0   \n",
       "                NaN                  51.90                   0.0   \n",
       "                NaN                  30.22                   0.0   \n",
       "                NaN                  58.11                   0.0   \n",
       "\n",
       "                              tip_percentage  \n",
       "passenger_count payment_type                  \n",
       "1.0             1.0                 0.245000  \n",
       "                1.0                 0.214286  \n",
       "                1.0                 0.166667  \n",
       "                1.0                 0.247273  \n",
       "                2.0                 0.000000  \n",
       "...                                      ...  \n",
       "NaN             NaN                 0.000000  \n",
       "                NaN                 0.000000  \n",
       "                NaN                 0.000000  \n",
       "                NaN                 0.000000  \n",
       "                NaN                 0.000000  \n",
       "\n",
       "[6405008 rows x 17 columns]"
      ]
     },
     "execution_count": 53,
     "metadata": {},
     "output_type": "execute_result"
    }
   ],
   "source": [
    "df.set_index(['passenger_count', 'payment_type'])"
   ]
  },
  {
   "cell_type": "code",
   "execution_count": 54,
   "id": "2103b067-8616-4593-8227-2cc290b145e3",
   "metadata": {},
   "outputs": [
    {
     "data": {
      "text/html": [
       "<div>\n",
       "<style scoped>\n",
       "    .dataframe tbody tr th:only-of-type {\n",
       "        vertical-align: middle;\n",
       "    }\n",
       "\n",
       "    .dataframe tbody tr th {\n",
       "        vertical-align: top;\n",
       "    }\n",
       "\n",
       "    .dataframe thead th {\n",
       "        text-align: right;\n",
       "    }\n",
       "</style>\n",
       "<table border=\"1\" class=\"dataframe\">\n",
       "  <thead>\n",
       "    <tr style=\"text-align: right;\">\n",
       "      <th></th>\n",
       "      <th>total_amount</th>\n",
       "      <th>trip_distance</th>\n",
       "    </tr>\n",
       "    <tr>\n",
       "      <th>passenger_count</th>\n",
       "      <th></th>\n",
       "      <th></th>\n",
       "    </tr>\n",
       "  </thead>\n",
       "  <tbody>\n",
       "    <tr>\n",
       "      <th>0.0</th>\n",
       "      <td>18.059724</td>\n",
       "      <td>2.689548</td>\n",
       "    </tr>\n",
       "    <tr>\n",
       "      <th>1.0</th>\n",
       "      <td>18.343110</td>\n",
       "      <td>2.811050</td>\n",
       "    </tr>\n",
       "    <tr>\n",
       "      <th>2.0</th>\n",
       "      <td>19.050504</td>\n",
       "      <td>3.001117</td>\n",
       "    </tr>\n",
       "    <tr>\n",
       "      <th>3.0</th>\n",
       "      <td>18.736862</td>\n",
       "      <td>2.930363</td>\n",
       "    </tr>\n",
       "    <tr>\n",
       "      <th>4.0</th>\n",
       "      <td>19.128092</td>\n",
       "      <td>2.980372</td>\n",
       "    </tr>\n",
       "    <tr>\n",
       "      <th>5.0</th>\n",
       "      <td>18.234443</td>\n",
       "      <td>2.850356</td>\n",
       "    </tr>\n",
       "    <tr>\n",
       "      <th>6.0</th>\n",
       "      <td>18.367962</td>\n",
       "      <td>2.906041</td>\n",
       "    </tr>\n",
       "    <tr>\n",
       "      <th>7.0</th>\n",
       "      <td>71.143103</td>\n",
       "      <td>3.589655</td>\n",
       "    </tr>\n",
       "    <tr>\n",
       "      <th>8.0</th>\n",
       "      <td>58.197059</td>\n",
       "      <td>2.960000</td>\n",
       "    </tr>\n",
       "    <tr>\n",
       "      <th>9.0</th>\n",
       "      <td>81.244211</td>\n",
       "      <td>3.314737</td>\n",
       "    </tr>\n",
       "  </tbody>\n",
       "</table>\n",
       "</div>"
      ],
      "text/plain": [
       "                 total_amount  trip_distance\n",
       "passenger_count                             \n",
       "0.0                 18.059724       2.689548\n",
       "1.0                 18.343110       2.811050\n",
       "2.0                 19.050504       3.001117\n",
       "3.0                 18.736862       2.930363\n",
       "4.0                 19.128092       2.980372\n",
       "5.0                 18.234443       2.850356\n",
       "6.0                 18.367962       2.906041\n",
       "7.0                 71.143103       3.589655\n",
       "8.0                 58.197059       2.960000\n",
       "9.0                 81.244211       3.314737"
      ]
     },
     "execution_count": 54,
     "metadata": {},
     "output_type": "execute_result"
    }
   ],
   "source": [
    "# what about calculating on multiple columns?\n",
    "# if we want, we can pass a list of numeric columns on which to calculate\n",
    "\n",
    "df.groupby('passenger_count')[['total_amount', 'trip_distance']].mean()"
   ]
  },
  {
   "cell_type": "code",
   "execution_count": 55,
   "id": "c26ab0ae-ecdf-4466-abb4-036b57df49e4",
   "metadata": {},
   "outputs": [
    {
     "data": {
      "text/plain": [
       "passenger_count\n",
       "0.0    18.059724\n",
       "1.0    18.343110\n",
       "2.0    19.050504\n",
       "3.0    18.736862\n",
       "4.0    19.128092\n",
       "5.0    18.234443\n",
       "6.0    18.367962\n",
       "7.0    71.143103\n",
       "8.0    58.197059\n",
       "9.0    81.244211\n",
       "Name: total_amount, dtype: float64"
      ]
     },
     "execution_count": 55,
     "metadata": {},
     "output_type": "execute_result"
    }
   ],
   "source": [
    "# if we pass a single numeric column, then we get a series\n",
    "\n",
    "df.groupby('passenger_count')['total_amount'].mean()"
   ]
  },
  {
   "cell_type": "code",
   "execution_count": 56,
   "id": "081d53c5-c80d-458f-a6df-78915bc41965",
   "metadata": {},
   "outputs": [
    {
     "data": {
      "text/html": [
       "<div>\n",
       "<style scoped>\n",
       "    .dataframe tbody tr th:only-of-type {\n",
       "        vertical-align: middle;\n",
       "    }\n",
       "\n",
       "    .dataframe tbody tr th {\n",
       "        vertical-align: top;\n",
       "    }\n",
       "\n",
       "    .dataframe thead th {\n",
       "        text-align: right;\n",
       "    }\n",
       "</style>\n",
       "<table border=\"1\" class=\"dataframe\">\n",
       "  <thead>\n",
       "    <tr style=\"text-align: right;\">\n",
       "      <th></th>\n",
       "      <th>total_amount</th>\n",
       "    </tr>\n",
       "    <tr>\n",
       "      <th>passenger_count</th>\n",
       "      <th></th>\n",
       "    </tr>\n",
       "  </thead>\n",
       "  <tbody>\n",
       "    <tr>\n",
       "      <th>0.0</th>\n",
       "      <td>18.059724</td>\n",
       "    </tr>\n",
       "    <tr>\n",
       "      <th>1.0</th>\n",
       "      <td>18.343110</td>\n",
       "    </tr>\n",
       "    <tr>\n",
       "      <th>2.0</th>\n",
       "      <td>19.050504</td>\n",
       "    </tr>\n",
       "    <tr>\n",
       "      <th>3.0</th>\n",
       "      <td>18.736862</td>\n",
       "    </tr>\n",
       "    <tr>\n",
       "      <th>4.0</th>\n",
       "      <td>19.128092</td>\n",
       "    </tr>\n",
       "    <tr>\n",
       "      <th>5.0</th>\n",
       "      <td>18.234443</td>\n",
       "    </tr>\n",
       "    <tr>\n",
       "      <th>6.0</th>\n",
       "      <td>18.367962</td>\n",
       "    </tr>\n",
       "    <tr>\n",
       "      <th>7.0</th>\n",
       "      <td>71.143103</td>\n",
       "    </tr>\n",
       "    <tr>\n",
       "      <th>8.0</th>\n",
       "      <td>58.197059</td>\n",
       "    </tr>\n",
       "    <tr>\n",
       "      <th>9.0</th>\n",
       "      <td>81.244211</td>\n",
       "    </tr>\n",
       "  </tbody>\n",
       "</table>\n",
       "</div>"
      ],
      "text/plain": [
       "                 total_amount\n",
       "passenger_count              \n",
       "0.0                 18.059724\n",
       "1.0                 18.343110\n",
       "2.0                 19.050504\n",
       "3.0                 18.736862\n",
       "4.0                 19.128092\n",
       "5.0                 18.234443\n",
       "6.0                 18.367962\n",
       "7.0                 71.143103\n",
       "8.0                 58.197059\n",
       "9.0                 81.244211"
      ]
     },
     "execution_count": 56,
     "metadata": {},
     "output_type": "execute_result"
    }
   ],
   "source": [
    "# if we pass a single numeric column inside of a one-element list, then we get a data frame\n",
    "\n",
    "df.groupby('passenger_count')[['total_amount']].mean()"
   ]
  },
  {
   "cell_type": "markdown",
   "id": "682bdeae-6c2b-4b24-a855-3be24ca37271",
   "metadata": {},
   "source": [
    "# Summarize so far\n",
    "\n",
    "We can run `.groupby` on:\n",
    "- a categorical column\n",
    "- a numerical column\n",
    "- with an aggregation method\n",
    "\n",
    "*BUT* we can actually pass:\n",
    "- a list of categorical columns\n",
    "- a list of numeric columns\n",
    "- more than one aggregation method\n",
    "\n",
    "Doing of these gives us a data frame, rather than a series as a result.\n",
    "\n"
   ]
  },
  {
   "cell_type": "code",
   "execution_count": null,
   "id": "d7886840-68bf-44eb-8f72-0cdd59b73dc7",
   "metadata": {},
   "outputs": [],
   "source": []
  }
 ],
 "metadata": {
  "kernelspec": {
   "display_name": "Python 3 (ipykernel)",
   "language": "python",
   "name": "python3"
  },
  "language_info": {
   "codemirror_mode": {
    "name": "ipython",
    "version": 3
   },
   "file_extension": ".py",
   "mimetype": "text/x-python",
   "name": "python",
   "nbconvert_exporter": "python",
   "pygments_lexer": "ipython3",
   "version": "3.13.0"
  }
 },
 "nbformat": 4,
 "nbformat_minor": 5
}
