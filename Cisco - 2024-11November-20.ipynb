{
 "cells": [
  {
   "cell_type": "markdown",
   "id": "dafd44fa-2be6-4c24-86dd-2c3b1f46d91a",
   "metadata": {},
   "source": [
    "# Agenda\n",
    "1. Grouping and pivot tables\n",
    "2. Joining and merging\n",
    "3. Working with text\n",
    "\n"
   ]
  },
  {
   "cell_type": "code",
   "execution_count": null,
   "id": "333febc9-032e-479d-af28-659a57015b6e",
   "metadata": {},
   "outputs": [],
   "source": []
  }
 ],
 "metadata": {
  "kernelspec": {
   "display_name": "Python 3 (ipykernel)",
   "language": "python",
   "name": "python3"
  },
  "language_info": {
   "codemirror_mode": {
    "name": "ipython",
    "version": 3
   },
   "file_extension": ".py",
   "mimetype": "text/x-python",
   "name": "python",
   "nbconvert_exporter": "python",
   "pygments_lexer": "ipython3",
   "version": "3.13.0"
  }
 },
 "nbformat": 4,
 "nbformat_minor": 5
}
