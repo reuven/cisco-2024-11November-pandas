{
 "cells": [
  {
   "cell_type": "markdown",
   "id": "dafd44fa-2be6-4c24-86dd-2c3b1f46d91a",
   "metadata": {},
   "source": [
    "# Agenda\n",
    "1. Grouping and pivot tables\n",
    "2. More with multi-indexes (e.g., stack and unstack)\n",
    "3. Joining, merging, and concatenating\n",
    "4. Working with text\n",
    "\n"
   ]
  },
  {
   "cell_type": "code",
   "execution_count": 3,
   "id": "333febc9-032e-479d-af28-659a57015b6e",
   "metadata": {},
   "outputs": [],
   "source": [
    "import pandas as pd\n",
    "\n",
    "filename = 'taxi.csv'\n",
    "\n",
    "df = pd.read_csv(filename,\n",
    "                usecols=['VendorID', 'passenger_count', 'trip_distance',\n",
    "                         'total_amount', 'payment_type'])"
   ]
  },
  {
   "cell_type": "code",
   "execution_count": 4,
   "id": "a9e079f4-f98a-4c0d-8831-5c3a386e8863",
   "metadata": {},
   "outputs": [
    {
     "data": {
      "text/html": [
       "<div>\n",
       "<style scoped>\n",
       "    .dataframe tbody tr th:only-of-type {\n",
       "        vertical-align: middle;\n",
       "    }\n",
       "\n",
       "    .dataframe tbody tr th {\n",
       "        vertical-align: top;\n",
       "    }\n",
       "\n",
       "    .dataframe thead th {\n",
       "        text-align: right;\n",
       "    }\n",
       "</style>\n",
       "<table border=\"1\" class=\"dataframe\">\n",
       "  <thead>\n",
       "    <tr style=\"text-align: right;\">\n",
       "      <th></th>\n",
       "      <th>VendorID</th>\n",
       "      <th>passenger_count</th>\n",
       "      <th>trip_distance</th>\n",
       "      <th>payment_type</th>\n",
       "      <th>total_amount</th>\n",
       "    </tr>\n",
       "  </thead>\n",
       "  <tbody>\n",
       "    <tr>\n",
       "      <th>0</th>\n",
       "      <td>2</td>\n",
       "      <td>1</td>\n",
       "      <td>1.63</td>\n",
       "      <td>2</td>\n",
       "      <td>17.80</td>\n",
       "    </tr>\n",
       "    <tr>\n",
       "      <th>1</th>\n",
       "      <td>2</td>\n",
       "      <td>1</td>\n",
       "      <td>0.46</td>\n",
       "      <td>1</td>\n",
       "      <td>8.30</td>\n",
       "    </tr>\n",
       "    <tr>\n",
       "      <th>2</th>\n",
       "      <td>2</td>\n",
       "      <td>1</td>\n",
       "      <td>0.87</td>\n",
       "      <td>1</td>\n",
       "      <td>11.00</td>\n",
       "    </tr>\n",
       "    <tr>\n",
       "      <th>3</th>\n",
       "      <td>2</td>\n",
       "      <td>1</td>\n",
       "      <td>2.13</td>\n",
       "      <td>1</td>\n",
       "      <td>17.16</td>\n",
       "    </tr>\n",
       "    <tr>\n",
       "      <th>4</th>\n",
       "      <td>1</td>\n",
       "      <td>1</td>\n",
       "      <td>1.40</td>\n",
       "      <td>2</td>\n",
       "      <td>10.30</td>\n",
       "    </tr>\n",
       "  </tbody>\n",
       "</table>\n",
       "</div>"
      ],
      "text/plain": [
       "   VendorID  passenger_count  trip_distance  payment_type  total_amount\n",
       "0         2                1           1.63             2         17.80\n",
       "1         2                1           0.46             1          8.30\n",
       "2         2                1           0.87             1         11.00\n",
       "3         2                1           2.13             1         17.16\n",
       "4         1                1           1.40             2         10.30"
      ]
     },
     "execution_count": 4,
     "metadata": {},
     "output_type": "execute_result"
    }
   ],
   "source": [
    "df.head()"
   ]
  },
  {
   "cell_type": "code",
   "execution_count": 5,
   "id": "9b347a99-0189-426c-9e6f-bff9a91044cf",
   "metadata": {},
   "outputs": [
    {
     "data": {
      "text/plain": [
       "np.float64(17.552472247224728)"
      ]
     },
     "execution_count": 5,
     "metadata": {},
     "output_type": "execute_result"
    }
   ],
   "source": [
    "# I want to know how much people paid, on average (mean) for their taxi rides\n",
    "\n",
    "df['total_amount'].mean()"
   ]
  },
  {
   "cell_type": "code",
   "execution_count": 7,
   "id": "2e43ae01-8a28-4753-b266-465062b94f28",
   "metadata": {},
   "outputs": [
    {
     "data": {
      "text/plain": [
       "np.float64(25.57)"
      ]
     },
     "execution_count": 7,
     "metadata": {},
     "output_type": "execute_result"
    }
   ],
   "source": [
    "# I want to know how much people paid, on average, for their taxi rides where there were 0 passengers\n",
    "\n",
    "(\n",
    "    df.loc[\n",
    "        df['passenger_count'] == 0,\n",
    "        'total_amount'\n",
    "       ]\n",
    "    .mean()\n",
    ")"
   ]
  },
  {
   "cell_type": "code",
   "execution_count": 8,
   "id": "40094983-52ea-40a4-b336-579f7e16ef4a",
   "metadata": {},
   "outputs": [
    {
     "data": {
      "text/plain": [
       "np.float64(17.368569446371584)"
      ]
     },
     "execution_count": 8,
     "metadata": {},
     "output_type": "execute_result"
    }
   ],
   "source": [
    "# I want to know how much people paid, on average, for their taxi rides where there were 1 passenger\n",
    "\n",
    "(\n",
    "    df.loc[\n",
    "        df['passenger_count'] == 1,\n",
    "        'total_amount'\n",
    "       ]\n",
    "    .mean()\n",
    ")"
   ]
  },
  {
   "cell_type": "code",
   "execution_count": 9,
   "id": "ef4efeac-27ed-45e9-98c2-792d6c5c86a0",
   "metadata": {},
   "outputs": [
    {
     "data": {
      "text/plain": [
       "np.float64(18.406306169078444)"
      ]
     },
     "execution_count": 9,
     "metadata": {},
     "output_type": "execute_result"
    }
   ],
   "source": [
    "# I want to know how much people paid, on average, for their taxi rides where there were 2 passengers\n",
    "\n",
    "(\n",
    "    df.loc[\n",
    "        df['passenger_count'] == 2,\n",
    "        'total_amount'\n",
    "       ]\n",
    "    .mean()\n",
    ")"
   ]
  },
  {
   "cell_type": "markdown",
   "id": "26c36e52-87d8-439c-aeb1-ff028886d108",
   "metadata": {},
   "source": [
    "# DRY -- don't repeat yourself!\n",
    "\n",
    "If you're running the same query for each distinct value in a particular column, there is a better way to do this -- to do grouping, which we run via the `groupby` method.\n",
    "\n",
    "The idea is:\n",
    "- Choose a categorical column, i.e., one with a limited number of distinct values\n",
    "- We choose a numeric column, i.e., one on which we'll want to perform the calculation\n",
    "- We choose an aggregation method, i.e., one which takes many values and returns a single value\n",
    "\n",
    "The syntax for `groupby` is:\n",
    "\n",
    "    df.groupby(CATEGORICAL)[NUMERIC].AGGFUNC()\n",
    "\n",
    "The result will be a series. The index for this series will be the distinct values of `CATEGORICAL`, sorted in ascending order. The values will be the result of invoking `AGGFUNC` on each subset of `NUMERIC`."
   ]
  },
  {
   "cell_type": "code",
   "execution_count": 10,
   "id": "9e47378f-0074-41c4-8a80-2d7b4e9c9bd3",
   "metadata": {},
   "outputs": [
    {
     "data": {
      "text/plain": [
       "passenger_count\n",
       "0    25.570000\n",
       "1    17.368569\n",
       "2    18.406306\n",
       "3    17.994704\n",
       "4    18.881648\n",
       "5    17.211269\n",
       "6    17.401355\n",
       "Name: total_amount, dtype: float64"
      ]
     },
     "execution_count": 10,
     "metadata": {},
     "output_type": "execute_result"
    }
   ],
   "source": [
    "df.groupby('passenger_count')['total_amount'].mean()"
   ]
  },
  {
   "cell_type": "markdown",
   "id": "ff89ac0b-ed66-414f-8261-b7961dff3c4a",
   "metadata": {},
   "source": [
    "Any time that you ask, \"What was the value of X for each value of Y,\" you're asking a `groupby` question:\n",
    "\n",
    "- Sales per region\n",
    "- Sales per product\n",
    "- Salary per age\n",
    "- Expenses per household"
   ]
  },
  {
   "cell_type": "markdown",
   "id": "29fd71c1-11c1-46e8-9857-439a23c703fe",
   "metadata": {},
   "source": [
    "# What aggregation methods are there?\n",
    "\n",
    "- `min`\n",
    "- `max`\n",
    "- `mean`\n",
    "- `std`\n",
    "- `median`\n",
    "- `quantile`\n",
    "- `sum`\n",
    "- `count` -- how many non-`NaN` values are there?\n",
    "- `idxmin`\n",
    "- `idxmax`\n",
    "- `value_counts`"
   ]
  },
  {
   "cell_type": "code",
   "execution_count": 11,
   "id": "fa5a2dfe-d255-4f36-9166-bcd880d4e8ac",
   "metadata": {},
   "outputs": [
    {
     "data": {
      "text/plain": [
       "passenger_count\n",
       "0    5097\n",
       "1    5719\n",
       "2    9052\n",
       "3     603\n",
       "4    1014\n",
       "5    5087\n",
       "6    7509\n",
       "Name: total_amount, dtype: int64"
      ]
     },
     "execution_count": 11,
     "metadata": {},
     "output_type": "execute_result"
    }
   ],
   "source": [
    "df.groupby('passenger_count')['total_amount'].idxmin()"
   ]
  },
  {
   "cell_type": "code",
   "execution_count": 12,
   "id": "d32deea4-0aa9-4925-8098-bc0889084268",
   "metadata": {},
   "outputs": [
    {
     "data": {
      "text/plain": [
       "passenger_count  total_amount\n",
       "0                14.75             1\n",
       "                 36.39             1\n",
       "1                7.30            210\n",
       "                 7.80            186\n",
       "                 6.80            179\n",
       "                                ... \n",
       "6                63.41             1\n",
       "                 63.55             1\n",
       "                 70.01             1\n",
       "                 72.92             1\n",
       "                 83.12             1\n",
       "Name: count, Length: 1749, dtype: int64"
      ]
     },
     "execution_count": 12,
     "metadata": {},
     "output_type": "execute_result"
    }
   ],
   "source": [
    "df.groupby('passenger_count')['total_amount'].value_counts()"
   ]
  },
  {
   "cell_type": "markdown",
   "id": "d1cf27f2-f8f4-4f8f-b63f-976efc81d639",
   "metadata": {},
   "source": [
    "# Exercise: Taxi grouping\n",
    "\n",
    "1. We're going to run a bunch of queries using `groupby` on the NYC taxi data from January 2020. (This is in the larger zipfile that I asked you to download. The filename is `nyc_taxi_2020-01.csv`.)\n",
    "2. What was the mean `total_amount` for each value of `passenger_count`?\n",
    "3. What was the max `total_amount` for each value of `passenger_count`?\n",
    "4. Create a new column, `tip_percentage`, which is the result of taking the `tip_amount` and finding its percentage of `fare_amount`. Get the mean `tip_percentage` per `passenger_count`.\n",
    "5. Compare the mean and median `total_amount` for each value of `payment_type`."
   ]
  },
  {
   "cell_type": "code",
   "execution_count": 15,
   "id": "890cc003-d581-4abc-bbee-fa2727dd226b",
   "metadata": {},
   "outputs": [
    {
     "name": "stderr",
     "output_type": "stream",
     "text": [
      "/var/folders/rr/0mnyyv811fs5vyp22gf4fxk00000gn/T/ipykernel_24291/111017737.py:3: DtypeWarning: Columns (6) have mixed types. Specify dtype option on import or set low_memory=False.\n",
      "  df = pd.read_csv(filename)\n"
     ]
    }
   ],
   "source": [
    "filename = '/Users/reuven/Courses/Current/Data/nyc_taxi_2020-01.csv'\n",
    "\n",
    "df = pd.read_csv(filename)"
   ]
  },
  {
   "cell_type": "code",
   "execution_count": 16,
   "id": "61df3349-2323-44b7-be2e-db9c87087331",
   "metadata": {},
   "outputs": [
    {
     "name": "stdout",
     "output_type": "stream",
     "text": [
      "-rw-r--r-- 1 reuven staff 567M Jun  4  2021 /Users/reuven/Courses/Current/Data/nyc_taxi_2020-01.csv\n"
     ]
    }
   ],
   "source": [
    "!ls -lh $filename"
   ]
  },
  {
   "cell_type": "code",
   "execution_count": null,
   "id": "72c53c6d-f3f6-4a00-a4d3-d04cef86caa1",
   "metadata": {},
   "outputs": [],
   "source": []
  }
 ],
 "metadata": {
  "kernelspec": {
   "display_name": "Python 3 (ipykernel)",
   "language": "python",
   "name": "python3"
  },
  "language_info": {
   "codemirror_mode": {
    "name": "ipython",
    "version": 3
   },
   "file_extension": ".py",
   "mimetype": "text/x-python",
   "name": "python",
   "nbconvert_exporter": "python",
   "pygments_lexer": "ipython3",
   "version": "3.13.0"
  }
 },
 "nbformat": 4,
 "nbformat_minor": 5
}
