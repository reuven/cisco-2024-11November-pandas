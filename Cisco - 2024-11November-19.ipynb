{
 "cells": [
  {
   "cell_type": "markdown",
   "metadata": {},
   "source": [
    "# Agenda\n",
    "\n",
    "- Data frames\n",
    "    - Creating\n",
    "    - Retrieving\n",
    "    - Methods (series methods and special data frame methods)\n",
    "- Loading data\n",
    "    - CSV\n",
    "    - Excel\n",
    "    - Downloading from the Internet (retrieving files and scraping sites)"
   ]
  },
  {
   "cell_type": "code",
   "execution_count": 2,
   "metadata": {},
   "outputs": [],
   "source": [
    "import pandas as pd\n",
    "from pandas import Series, DataFrame"
   ]
  },
  {
   "cell_type": "code",
   "execution_count": 3,
   "metadata": {},
   "outputs": [],
   "source": [
    "# create a series based on any iterable in Python (usually a list or a NumPy array)\n",
    "# we can pass additional keyword arguments, especially index and dtype\n",
    "\n",
    "# Data frames are similar; we can pass a 2D set of values (a list of lists or a 2D NumPy array), and\n",
    "# also index, and also columns -- the names of the columns we want"
   ]
  },
  {
   "cell_type": "code",
   "execution_count": 4,
   "metadata": {},
   "outputs": [
    {
     "data": {
      "text/html": [
       "<div>\n",
       "<style scoped>\n",
       "    .dataframe tbody tr th:only-of-type {\n",
       "        vertical-align: middle;\n",
       "    }\n",
       "\n",
       "    .dataframe tbody tr th {\n",
       "        vertical-align: top;\n",
       "    }\n",
       "\n",
       "    .dataframe thead th {\n",
       "        text-align: right;\n",
       "    }\n",
       "</style>\n",
       "<table border=\"1\" class=\"dataframe\">\n",
       "  <thead>\n",
       "    <tr style=\"text-align: right;\">\n",
       "      <th></th>\n",
       "      <th>0</th>\n",
       "      <th>1</th>\n",
       "      <th>2</th>\n",
       "    </tr>\n",
       "  </thead>\n",
       "  <tbody>\n",
       "    <tr>\n",
       "      <th>0</th>\n",
       "      <td>10</td>\n",
       "      <td>20</td>\n",
       "      <td>30</td>\n",
       "    </tr>\n",
       "    <tr>\n",
       "      <th>1</th>\n",
       "      <td>40</td>\n",
       "      <td>50</td>\n",
       "      <td>60</td>\n",
       "    </tr>\n",
       "    <tr>\n",
       "      <th>2</th>\n",
       "      <td>70</td>\n",
       "      <td>80</td>\n",
       "      <td>90</td>\n",
       "    </tr>\n",
       "    <tr>\n",
       "      <th>3</th>\n",
       "      <td>100</td>\n",
       "      <td>110</td>\n",
       "      <td>120</td>\n",
       "    </tr>\n",
       "  </tbody>\n",
       "</table>\n",
       "</div>"
      ],
      "text/plain": [
       "     0    1    2\n",
       "0   10   20   30\n",
       "1   40   50   60\n",
       "2   70   80   90\n",
       "3  100  110  120"
      ]
     },
     "execution_count": 4,
     "metadata": {},
     "output_type": "execute_result"
    }
   ],
   "source": [
    "df = DataFrame([[10, 20, 30],\n",
    "                [40, 50, 60],\n",
    "                [70, 80, 90],\n",
    "                [100, 110, 120]])\n",
    "df"
   ]
  },
  {
   "cell_type": "code",
   "execution_count": 5,
   "metadata": {},
   "outputs": [
    {
     "data": {
      "text/plain": [
       "pandas.core.frame.DataFrame"
      ]
     },
     "execution_count": 5,
     "metadata": {},
     "output_type": "execute_result"
    }
   ],
   "source": [
    "type(df)"
   ]
  },
  {
   "cell_type": "markdown",
   "metadata": {},
   "source": [
    "# Our basic data frame\n",
    "\n",
    "- A data frame has rows and columns\n",
    "- The rows are identified with the index (i.e, the same index that we had on our series)\n",
    "- The columns are identified with names that we just call \"columns\"\n",
    "\n",
    "The key thing to remember: Each column is a Pandas series!\n",
    "\n",
    "- I can retrieve a row with `.loc` or `.iloc`, as before\n",
    "- I can retrieve a column with `[]` and the column's name"
   ]
  },
  {
   "cell_type": "code",
   "execution_count": 6,
   "metadata": {},
   "outputs": [
    {
     "data": {
      "text/plain": [
       "0    40\n",
       "1    50\n",
       "2    60\n",
       "Name: 1, dtype: int64"
      ]
     },
     "execution_count": 6,
     "metadata": {},
     "output_type": "execute_result"
    }
   ],
   "source": [
    "df.loc[1]"
   ]
  },
  {
   "cell_type": "code",
   "execution_count": 7,
   "metadata": {},
   "outputs": [
    {
     "data": {
      "text/plain": [
       "0     20\n",
       "1     50\n",
       "2     80\n",
       "3    110\n",
       "Name: 1, dtype: int64"
      ]
     },
     "execution_count": 7,
     "metadata": {},
     "output_type": "execute_result"
    }
   ],
   "source": [
    "df[1]  # this will retrieve the column"
   ]
  },
  {
   "cell_type": "code",
   "execution_count": 8,
   "metadata": {},
   "outputs": [
    {
     "name": "stdout",
     "output_type": "stream",
     "text": [
      "11.4 μs ± 129 ns per loop (mean ± std. dev. of 7 runs, 100,000 loops each)\n"
     ]
    }
   ],
   "source": [
    "%timeit df.loc[1]"
   ]
  },
  {
   "cell_type": "code",
   "execution_count": 9,
   "metadata": {},
   "outputs": [
    {
     "name": "stdout",
     "output_type": "stream",
     "text": [
      "10.3 μs ± 120 ns per loop (mean ± std. dev. of 7 runs, 100,000 loops each)\n"
     ]
    }
   ],
   "source": [
    "%timeit df.iloc[1]"
   ]
  },
  {
   "cell_type": "code",
   "execution_count": 10,
   "metadata": {},
   "outputs": [
    {
     "name": "stdout",
     "output_type": "stream",
     "text": [
      "1.33 μs ± 17.2 ns per loop (mean ± std. dev. of 7 runs, 1,000,000 loops each)\n"
     ]
    }
   ],
   "source": [
    "%timeit df[1]"
   ]
  },
  {
   "cell_type": "code",
   "execution_count": 11,
   "metadata": {},
   "outputs": [
    {
     "data": {
      "text/plain": [
       "array([[ 10,  20,  30],\n",
       "       [ 40,  50,  60],\n",
       "       [ 70,  80,  90],\n",
       "       [100, 110, 120]])"
      ]
     },
     "execution_count": 11,
     "metadata": {},
     "output_type": "execute_result"
    }
   ],
   "source": [
    "# behind the scenes of our data frame is actually a 2D NumPy array (in theory)\n",
    "\n",
    "df.values"
   ]
  },
  {
   "cell_type": "code",
   "execution_count": 12,
   "metadata": {},
   "outputs": [
    {
     "data": {
      "text/html": [
       "<div>\n",
       "<style scoped>\n",
       "    .dataframe tbody tr th:only-of-type {\n",
       "        vertical-align: middle;\n",
       "    }\n",
       "\n",
       "    .dataframe tbody tr th {\n",
       "        vertical-align: top;\n",
       "    }\n",
       "\n",
       "    .dataframe thead th {\n",
       "        text-align: right;\n",
       "    }\n",
       "</style>\n",
       "<table border=\"1\" class=\"dataframe\">\n",
       "  <thead>\n",
       "    <tr style=\"text-align: right;\">\n",
       "      <th></th>\n",
       "      <th>0</th>\n",
       "      <th>1</th>\n",
       "      <th>2</th>\n",
       "    </tr>\n",
       "  </thead>\n",
       "  <tbody>\n",
       "    <tr>\n",
       "      <th>1</th>\n",
       "      <td>40</td>\n",
       "      <td>50</td>\n",
       "      <td>60</td>\n",
       "    </tr>\n",
       "    <tr>\n",
       "      <th>3</th>\n",
       "      <td>100</td>\n",
       "      <td>110</td>\n",
       "      <td>120</td>\n",
       "    </tr>\n",
       "  </tbody>\n",
       "</table>\n",
       "</div>"
      ],
      "text/plain": [
       "     0    1    2\n",
       "1   40   50   60\n",
       "3  100  110  120"
      ]
     },
     "execution_count": 12,
     "metadata": {},
     "output_type": "execute_result"
    }
   ],
   "source": [
    "# we can retrieve in all of the ways we've already seen!\n",
    "\n",
    "df.loc[[1, 3]]  # fancy indexing"
   ]
  },
  {
   "cell_type": "code",
   "execution_count": 13,
   "metadata": {},
   "outputs": [
    {
     "data": {
      "text/html": [
       "<div>\n",
       "<style scoped>\n",
       "    .dataframe tbody tr th:only-of-type {\n",
       "        vertical-align: middle;\n",
       "    }\n",
       "\n",
       "    .dataframe tbody tr th {\n",
       "        vertical-align: top;\n",
       "    }\n",
       "\n",
       "    .dataframe thead th {\n",
       "        text-align: right;\n",
       "    }\n",
       "</style>\n",
       "<table border=\"1\" class=\"dataframe\">\n",
       "  <thead>\n",
       "    <tr style=\"text-align: right;\">\n",
       "      <th></th>\n",
       "      <th>0</th>\n",
       "      <th>1</th>\n",
       "    </tr>\n",
       "  </thead>\n",
       "  <tbody>\n",
       "    <tr>\n",
       "      <th>0</th>\n",
       "      <td>10</td>\n",
       "      <td>20</td>\n",
       "    </tr>\n",
       "    <tr>\n",
       "      <th>1</th>\n",
       "      <td>40</td>\n",
       "      <td>50</td>\n",
       "    </tr>\n",
       "    <tr>\n",
       "      <th>2</th>\n",
       "      <td>70</td>\n",
       "      <td>80</td>\n",
       "    </tr>\n",
       "    <tr>\n",
       "      <th>3</th>\n",
       "      <td>100</td>\n",
       "      <td>110</td>\n",
       "    </tr>\n",
       "  </tbody>\n",
       "</table>\n",
       "</div>"
      ],
      "text/plain": [
       "     0    1\n",
       "0   10   20\n",
       "1   40   50\n",
       "2   70   80\n",
       "3  100  110"
      ]
     },
     "execution_count": 13,
     "metadata": {},
     "output_type": "execute_result"
    }
   ],
   "source": [
    "df[[0, 1]]  # here, we retrieve two columns"
   ]
  },
  {
   "cell_type": "code",
   "execution_count": 14,
   "metadata": {},
   "outputs": [
    {
     "data": {
      "text/plain": [
       "0     20\n",
       "1     50\n",
       "2     80\n",
       "3    110\n",
       "Name: 1, dtype: int64"
      ]
     },
     "execution_count": 14,
     "metadata": {},
     "output_type": "execute_result"
    }
   ],
   "source": [
    "# if I retrieve one row, or one column, then I get a series\n",
    "df[1]"
   ]
  },
  {
   "cell_type": "code",
   "execution_count": 15,
   "metadata": {},
   "outputs": [
    {
     "data": {
      "text/html": [
       "<div>\n",
       "<style scoped>\n",
       "    .dataframe tbody tr th:only-of-type {\n",
       "        vertical-align: middle;\n",
       "    }\n",
       "\n",
       "    .dataframe tbody tr th {\n",
       "        vertical-align: top;\n",
       "    }\n",
       "\n",
       "    .dataframe thead th {\n",
       "        text-align: right;\n",
       "    }\n",
       "</style>\n",
       "<table border=\"1\" class=\"dataframe\">\n",
       "  <thead>\n",
       "    <tr style=\"text-align: right;\">\n",
       "      <th></th>\n",
       "      <th>0</th>\n",
       "      <th>1</th>\n",
       "      <th>2</th>\n",
       "    </tr>\n",
       "  </thead>\n",
       "  <tbody>\n",
       "    <tr>\n",
       "      <th>0</th>\n",
       "      <td>10</td>\n",
       "      <td>20</td>\n",
       "      <td>30</td>\n",
       "    </tr>\n",
       "    <tr>\n",
       "      <th>1</th>\n",
       "      <td>40</td>\n",
       "      <td>50</td>\n",
       "      <td>60</td>\n",
       "    </tr>\n",
       "    <tr>\n",
       "      <th>2</th>\n",
       "      <td>70</td>\n",
       "      <td>80</td>\n",
       "      <td>90</td>\n",
       "    </tr>\n",
       "    <tr>\n",
       "      <th>3</th>\n",
       "      <td>100</td>\n",
       "      <td>110</td>\n",
       "      <td>120</td>\n",
       "    </tr>\n",
       "  </tbody>\n",
       "</table>\n",
       "</div>"
      ],
      "text/plain": [
       "     0    1    2\n",
       "0   10   20   30\n",
       "1   40   50   60\n",
       "2   70   80   90\n",
       "3  100  110  120"
      ]
     },
     "execution_count": 15,
     "metadata": {},
     "output_type": "execute_result"
    }
   ],
   "source": [
    "df"
   ]
  },
  {
   "cell_type": "code",
   "execution_count": 16,
   "metadata": {},
   "outputs": [
    {
     "data": {
      "text/html": [
       "<div>\n",
       "<style scoped>\n",
       "    .dataframe tbody tr th:only-of-type {\n",
       "        vertical-align: middle;\n",
       "    }\n",
       "\n",
       "    .dataframe tbody tr th {\n",
       "        vertical-align: top;\n",
       "    }\n",
       "\n",
       "    .dataframe thead th {\n",
       "        text-align: right;\n",
       "    }\n",
       "</style>\n",
       "<table border=\"1\" class=\"dataframe\">\n",
       "  <thead>\n",
       "    <tr style=\"text-align: right;\">\n",
       "      <th></th>\n",
       "      <th>x</th>\n",
       "      <th>y</th>\n",
       "      <th>z</th>\n",
       "    </tr>\n",
       "  </thead>\n",
       "  <tbody>\n",
       "    <tr>\n",
       "      <th>a</th>\n",
       "      <td>10</td>\n",
       "      <td>20</td>\n",
       "      <td>30</td>\n",
       "    </tr>\n",
       "    <tr>\n",
       "      <th>b</th>\n",
       "      <td>40</td>\n",
       "      <td>50</td>\n",
       "      <td>60</td>\n",
       "    </tr>\n",
       "    <tr>\n",
       "      <th>c</th>\n",
       "      <td>70</td>\n",
       "      <td>80</td>\n",
       "      <td>90</td>\n",
       "    </tr>\n",
       "    <tr>\n",
       "      <th>d</th>\n",
       "      <td>100</td>\n",
       "      <td>110</td>\n",
       "      <td>120</td>\n",
       "    </tr>\n",
       "  </tbody>\n",
       "</table>\n",
       "</div>"
      ],
      "text/plain": [
       "     x    y    z\n",
       "a   10   20   30\n",
       "b   40   50   60\n",
       "c   70   80   90\n",
       "d  100  110  120"
      ]
     },
     "execution_count": 16,
     "metadata": {},
     "output_type": "execute_result"
    }
   ],
   "source": [
    "# We can name the index and the columns via keyword arguments when we create the data frame\n",
    "\n",
    "df = DataFrame([[10, 20, 30],\n",
    "                [40, 50, 60],\n",
    "                [70, 80, 90],\n",
    "                [100, 110, 120]],\n",
    "              index=list('abcd'),\n",
    "              columns=list('xyz'))\n",
    "df"
   ]
  },
  {
   "cell_type": "markdown",
   "metadata": {},
   "source": [
    "- Row names (just like the index in a series) can repeat, and that's even useful!\n",
    "- Column names cannot repeat (like the keys in a dict)\n",
    "\n",
    "You can even think of a data frame as a dict of series, where the keys are the column names and the values are Pandas series objects."
   ]
  },
  {
   "cell_type": "code",
   "execution_count": 17,
   "metadata": {},
   "outputs": [
    {
     "data": {
      "text/plain": [
       "x    40\n",
       "y    50\n",
       "z    60\n",
       "Name: b, dtype: int64"
      ]
     },
     "execution_count": 17,
     "metadata": {},
     "output_type": "execute_result"
    }
   ],
   "source": [
    "df.loc['b']"
   ]
  },
  {
   "cell_type": "code",
   "execution_count": 18,
   "metadata": {},
   "outputs": [
    {
     "data": {
      "text/plain": [
       "x    70\n",
       "y    80\n",
       "z    90\n",
       "Name: c, dtype: int64"
      ]
     },
     "execution_count": 18,
     "metadata": {},
     "output_type": "execute_result"
    }
   ],
   "source": [
    "df.iloc[2]"
   ]
  },
  {
   "cell_type": "code",
   "execution_count": 19,
   "metadata": {},
   "outputs": [
    {
     "data": {
      "text/plain": [
       "a     10\n",
       "b     40\n",
       "c     70\n",
       "d    100\n",
       "Name: x, dtype: int64"
      ]
     },
     "execution_count": 19,
     "metadata": {},
     "output_type": "execute_result"
    }
   ],
   "source": [
    "df['x']"
   ]
  },
  {
   "cell_type": "code",
   "execution_count": 20,
   "metadata": {},
   "outputs": [
    {
     "data": {
      "text/html": [
       "<div>\n",
       "<style scoped>\n",
       "    .dataframe tbody tr th:only-of-type {\n",
       "        vertical-align: middle;\n",
       "    }\n",
       "\n",
       "    .dataframe tbody tr th {\n",
       "        vertical-align: top;\n",
       "    }\n",
       "\n",
       "    .dataframe thead th {\n",
       "        text-align: right;\n",
       "    }\n",
       "</style>\n",
       "<table border=\"1\" class=\"dataframe\">\n",
       "  <thead>\n",
       "    <tr style=\"text-align: right;\">\n",
       "      <th></th>\n",
       "      <th>x</th>\n",
       "      <th>y</th>\n",
       "      <th>z</th>\n",
       "    </tr>\n",
       "  </thead>\n",
       "  <tbody>\n",
       "    <tr>\n",
       "      <th>a</th>\n",
       "      <td>10</td>\n",
       "      <td>20</td>\n",
       "      <td>30</td>\n",
       "    </tr>\n",
       "    <tr>\n",
       "      <th>b</th>\n",
       "      <td>40</td>\n",
       "      <td>50</td>\n",
       "      <td>60</td>\n",
       "    </tr>\n",
       "  </tbody>\n",
       "</table>\n",
       "</div>"
      ],
      "text/plain": [
       "    x   y   z\n",
       "a  10  20  30\n",
       "b  40  50  60"
      ]
     },
     "execution_count": 20,
     "metadata": {},
     "output_type": "execute_result"
    }
   ],
   "source": [
    "df.loc[['a', 'b']]"
   ]
  },
  {
   "cell_type": "code",
   "execution_count": 21,
   "metadata": {},
   "outputs": [
    {
     "data": {
      "text/html": [
       "<div>\n",
       "<style scoped>\n",
       "    .dataframe tbody tr th:only-of-type {\n",
       "        vertical-align: middle;\n",
       "    }\n",
       "\n",
       "    .dataframe tbody tr th {\n",
       "        vertical-align: top;\n",
       "    }\n",
       "\n",
       "    .dataframe thead th {\n",
       "        text-align: right;\n",
       "    }\n",
       "</style>\n",
       "<table border=\"1\" class=\"dataframe\">\n",
       "  <thead>\n",
       "    <tr style=\"text-align: right;\">\n",
       "      <th></th>\n",
       "      <th>x</th>\n",
       "      <th>z</th>\n",
       "    </tr>\n",
       "  </thead>\n",
       "  <tbody>\n",
       "    <tr>\n",
       "      <th>a</th>\n",
       "      <td>10</td>\n",
       "      <td>30</td>\n",
       "    </tr>\n",
       "    <tr>\n",
       "      <th>b</th>\n",
       "      <td>40</td>\n",
       "      <td>60</td>\n",
       "    </tr>\n",
       "    <tr>\n",
       "      <th>c</th>\n",
       "      <td>70</td>\n",
       "      <td>90</td>\n",
       "    </tr>\n",
       "    <tr>\n",
       "      <th>d</th>\n",
       "      <td>100</td>\n",
       "      <td>120</td>\n",
       "    </tr>\n",
       "  </tbody>\n",
       "</table>\n",
       "</div>"
      ],
      "text/plain": [
       "     x    z\n",
       "a   10   30\n",
       "b   40   60\n",
       "c   70   90\n",
       "d  100  120"
      ]
     },
     "execution_count": 21,
     "metadata": {},
     "output_type": "execute_result"
    }
   ],
   "source": [
    "df[['x', 'z']]"
   ]
  },
  {
   "cell_type": "code",
   "execution_count": 22,
   "metadata": {},
   "outputs": [
    {
     "data": {
      "text/plain": [
       "np.float64(55.0)"
      ]
     },
     "execution_count": 22,
     "metadata": {},
     "output_type": "execute_result"
    }
   ],
   "source": [
    "# if I retrieve a series, then I can run a method on it\n",
    "\n",
    "df['x'].mean()"
   ]
  },
  {
   "cell_type": "code",
   "execution_count": 23,
   "metadata": {},
   "outputs": [
    {
     "data": {
      "text/plain": [
       "count      4.000000\n",
       "mean      55.000000\n",
       "std       38.729833\n",
       "min       10.000000\n",
       "25%       32.500000\n",
       "50%       55.000000\n",
       "75%       77.500000\n",
       "max      100.000000\n",
       "Name: x, dtype: float64"
      ]
     },
     "execution_count": 23,
     "metadata": {},
     "output_type": "execute_result"
    }
   ],
   "source": [
    "df['x'].describe()"
   ]
  },
  {
   "cell_type": "code",
   "execution_count": 25,
   "metadata": {},
   "outputs": [
    {
     "data": {
      "text/plain": [
       "count     3.0\n",
       "mean     50.0\n",
       "std      10.0\n",
       "min      40.0\n",
       "25%      45.0\n",
       "50%      50.0\n",
       "75%      55.0\n",
       "max      60.0\n",
       "Name: b, dtype: float64"
      ]
     },
     "execution_count": 25,
     "metadata": {},
     "output_type": "execute_result"
    }
   ],
   "source": [
    "# I can do that for the rows\n",
    "\n",
    "df.loc['b'].describe()"
   ]
  },
  {
   "cell_type": "markdown",
   "metadata": {},
   "source": [
    "As a general rule, any method that we can run on a series can also be run on a data frame. We'll get one result per column, and the results will either be a series (if we get one value per column) or a data frame (if we get a series back from the method)."
   ]
  },
  {
   "cell_type": "code",
   "execution_count": 26,
   "metadata": {},
   "outputs": [
    {
     "data": {
      "text/plain": [
       "x    55.0\n",
       "y    65.0\n",
       "z    75.0\n",
       "dtype: float64"
      ]
     },
     "execution_count": 26,
     "metadata": {},
     "output_type": "execute_result"
    }
   ],
   "source": [
    "df.mean()   # this will calculate the mean for each column"
   ]
  },
  {
   "cell_type": "code",
   "execution_count": 27,
   "metadata": {},
   "outputs": [
    {
     "data": {
      "text/html": [
       "<div>\n",
       "<style scoped>\n",
       "    .dataframe tbody tr th:only-of-type {\n",
       "        vertical-align: middle;\n",
       "    }\n",
       "\n",
       "    .dataframe tbody tr th {\n",
       "        vertical-align: top;\n",
       "    }\n",
       "\n",
       "    .dataframe thead th {\n",
       "        text-align: right;\n",
       "    }\n",
       "</style>\n",
       "<table border=\"1\" class=\"dataframe\">\n",
       "  <thead>\n",
       "    <tr style=\"text-align: right;\">\n",
       "      <th></th>\n",
       "      <th>x</th>\n",
       "      <th>y</th>\n",
       "      <th>z</th>\n",
       "    </tr>\n",
       "  </thead>\n",
       "  <tbody>\n",
       "    <tr>\n",
       "      <th>count</th>\n",
       "      <td>4.000000</td>\n",
       "      <td>4.000000</td>\n",
       "      <td>4.000000</td>\n",
       "    </tr>\n",
       "    <tr>\n",
       "      <th>mean</th>\n",
       "      <td>55.000000</td>\n",
       "      <td>65.000000</td>\n",
       "      <td>75.000000</td>\n",
       "    </tr>\n",
       "    <tr>\n",
       "      <th>std</th>\n",
       "      <td>38.729833</td>\n",
       "      <td>38.729833</td>\n",
       "      <td>38.729833</td>\n",
       "    </tr>\n",
       "    <tr>\n",
       "      <th>min</th>\n",
       "      <td>10.000000</td>\n",
       "      <td>20.000000</td>\n",
       "      <td>30.000000</td>\n",
       "    </tr>\n",
       "    <tr>\n",
       "      <th>25%</th>\n",
       "      <td>32.500000</td>\n",
       "      <td>42.500000</td>\n",
       "      <td>52.500000</td>\n",
       "    </tr>\n",
       "    <tr>\n",
       "      <th>50%</th>\n",
       "      <td>55.000000</td>\n",
       "      <td>65.000000</td>\n",
       "      <td>75.000000</td>\n",
       "    </tr>\n",
       "    <tr>\n",
       "      <th>75%</th>\n",
       "      <td>77.500000</td>\n",
       "      <td>87.500000</td>\n",
       "      <td>97.500000</td>\n",
       "    </tr>\n",
       "    <tr>\n",
       "      <th>max</th>\n",
       "      <td>100.000000</td>\n",
       "      <td>110.000000</td>\n",
       "      <td>120.000000</td>\n",
       "    </tr>\n",
       "  </tbody>\n",
       "</table>\n",
       "</div>"
      ],
      "text/plain": [
       "                x           y           z\n",
       "count    4.000000    4.000000    4.000000\n",
       "mean    55.000000   65.000000   75.000000\n",
       "std     38.729833   38.729833   38.729833\n",
       "min     10.000000   20.000000   30.000000\n",
       "25%     32.500000   42.500000   52.500000\n",
       "50%     55.000000   65.000000   75.000000\n",
       "75%     77.500000   87.500000   97.500000\n",
       "max    100.000000  110.000000  120.000000"
      ]
     },
     "execution_count": 27,
     "metadata": {},
     "output_type": "execute_result"
    }
   ],
   "source": [
    "df.describe()   # this will invoke describe on each column"
   ]
  },
  {
   "cell_type": "code",
   "execution_count": 28,
   "metadata": {},
   "outputs": [
    {
     "data": {
      "text/html": [
       "<div>\n",
       "<style scoped>\n",
       "    .dataframe tbody tr th:only-of-type {\n",
       "        vertical-align: middle;\n",
       "    }\n",
       "\n",
       "    .dataframe tbody tr th {\n",
       "        vertical-align: top;\n",
       "    }\n",
       "\n",
       "    .dataframe thead th {\n",
       "        text-align: right;\n",
       "    }\n",
       "</style>\n",
       "<table border=\"1\" class=\"dataframe\">\n",
       "  <thead>\n",
       "    <tr style=\"text-align: right;\">\n",
       "      <th></th>\n",
       "      <th>x</th>\n",
       "      <th>y</th>\n",
       "      <th>z</th>\n",
       "    </tr>\n",
       "  </thead>\n",
       "  <tbody>\n",
       "    <tr>\n",
       "      <th>a</th>\n",
       "      <td>10</td>\n",
       "      <td>20</td>\n",
       "      <td>30</td>\n",
       "    </tr>\n",
       "    <tr>\n",
       "      <th>b</th>\n",
       "      <td>40</td>\n",
       "      <td>50</td>\n",
       "      <td>60</td>\n",
       "    </tr>\n",
       "    <tr>\n",
       "      <th>c</th>\n",
       "      <td>70</td>\n",
       "      <td>80</td>\n",
       "      <td>90</td>\n",
       "    </tr>\n",
       "    <tr>\n",
       "      <th>d</th>\n",
       "      <td>100</td>\n",
       "      <td>110</td>\n",
       "      <td>120</td>\n",
       "    </tr>\n",
       "  </tbody>\n",
       "</table>\n",
       "</div>"
      ],
      "text/plain": [
       "     x    y    z\n",
       "a   10   20   30\n",
       "b   40   50   60\n",
       "c   70   80   90\n",
       "d  100  110  120"
      ]
     },
     "execution_count": 28,
     "metadata": {},
     "output_type": "execute_result"
    }
   ],
   "source": [
    "df"
   ]
  },
  {
   "cell_type": "code",
   "execution_count": 30,
   "metadata": {},
   "outputs": [
    {
     "data": {
      "text/plain": [
       "np.int64(50)"
      ]
     },
     "execution_count": 30,
     "metadata": {},
     "output_type": "execute_result"
    }
   ],
   "source": [
    "# we've seen how we can retrieve either a row or a column.\n",
    "# but how can we retrieve an individual value?\n",
    "\n",
    "df.loc['b'].loc['y']"
   ]
  },
  {
   "cell_type": "code",
   "execution_count": 31,
   "metadata": {},
   "outputs": [
    {
     "data": {
      "text/plain": [
       "np.int64(50)"
      ]
     },
     "execution_count": 31,
     "metadata": {},
     "output_type": "execute_result"
    }
   ],
   "source": [
    "# even worse:\n",
    "\n",
    "df.loc['b']['y']"
   ]
  },
  {
   "cell_type": "code",
   "execution_count": 32,
   "metadata": {},
   "outputs": [
    {
     "data": {
      "text/plain": [
       "np.int64(50)"
      ]
     },
     "execution_count": 32,
     "metadata": {},
     "output_type": "execute_result"
    }
   ],
   "source": [
    "# better is to use the 2-argument version of .loc, where you specify the row and the column\n",
    "\n",
    "df.loc['b', 'y']"
   ]
  },
  {
   "cell_type": "code",
   "execution_count": 33,
   "metadata": {},
   "outputs": [
    {
     "data": {
      "text/plain": [
       "x    220\n",
       "y    260\n",
       "z    300\n",
       "dtype: int64"
      ]
     },
     "execution_count": 33,
     "metadata": {},
     "output_type": "execute_result"
    }
   ],
   "source": [
    "df.sum()"
   ]
  },
  {
   "cell_type": "code",
   "execution_count": 34,
   "metadata": {},
   "outputs": [
    {
     "data": {
      "text/plain": [
       "a     60\n",
       "b    150\n",
       "c    240\n",
       "d    330\n",
       "dtype: int64"
      ]
     },
     "execution_count": 34,
     "metadata": {},
     "output_type": "execute_result"
    }
   ],
   "source": [
    "# what if I want to sum across the rows?\n",
    "\n",
    "df.sum(axis='columns')"
   ]
  },
  {
   "cell_type": "code",
   "execution_count": 35,
   "metadata": {},
   "outputs": [
    {
     "data": {
      "text/html": [
       "<div>\n",
       "<style scoped>\n",
       "    .dataframe tbody tr th:only-of-type {\n",
       "        vertical-align: middle;\n",
       "    }\n",
       "\n",
       "    .dataframe tbody tr th {\n",
       "        vertical-align: top;\n",
       "    }\n",
       "\n",
       "    .dataframe thead th {\n",
       "        text-align: right;\n",
       "    }\n",
       "</style>\n",
       "<table border=\"1\" class=\"dataframe\">\n",
       "  <thead>\n",
       "    <tr style=\"text-align: right;\">\n",
       "      <th></th>\n",
       "      <th>x</th>\n",
       "      <th>y</th>\n",
       "      <th>z</th>\n",
       "    </tr>\n",
       "  </thead>\n",
       "  <tbody>\n",
       "    <tr>\n",
       "      <th>a</th>\n",
       "      <td>10</td>\n",
       "      <td>20</td>\n",
       "      <td>30.5</td>\n",
       "    </tr>\n",
       "    <tr>\n",
       "      <th>b</th>\n",
       "      <td>40</td>\n",
       "      <td>50</td>\n",
       "      <td>60.0</td>\n",
       "    </tr>\n",
       "    <tr>\n",
       "      <th>c</th>\n",
       "      <td>70</td>\n",
       "      <td>80</td>\n",
       "      <td>90.0</td>\n",
       "    </tr>\n",
       "    <tr>\n",
       "      <th>d</th>\n",
       "      <td>100</td>\n",
       "      <td>110</td>\n",
       "      <td>120.0</td>\n",
       "    </tr>\n",
       "  </tbody>\n",
       "</table>\n",
       "</div>"
      ],
      "text/plain": [
       "     x    y      z\n",
       "a   10   20   30.5\n",
       "b   40   50   60.0\n",
       "c   70   80   90.0\n",
       "d  100  110  120.0"
      ]
     },
     "execution_count": 35,
     "metadata": {},
     "output_type": "execute_result"
    }
   ],
   "source": [
    "df = DataFrame([[10, 20, 30.5],\n",
    "                [40, 50, 60],\n",
    "                [70, 80, 90],\n",
    "                [100, 110, 120]],\n",
    "              index=list('abcd'),\n",
    "              columns=list('xyz'))\n",
    "df"
   ]
  },
  {
   "cell_type": "code",
   "execution_count": 36,
   "metadata": {},
   "outputs": [
    {
     "data": {
      "text/plain": [
       "x      int64\n",
       "y      int64\n",
       "z    float64\n",
       "dtype: object"
      ]
     },
     "execution_count": 36,
     "metadata": {},
     "output_type": "execute_result"
    }
   ],
   "source": [
    "df.dtypes   # get the dtype of each column"
   ]
  },
  {
   "cell_type": "code",
   "execution_count": 37,
   "metadata": {},
   "outputs": [
    {
     "data": {
      "text/plain": [
       "x    70.0\n",
       "y    80.0\n",
       "z    90.0\n",
       "Name: c, dtype: float64"
      ]
     },
     "execution_count": 37,
     "metadata": {},
     "output_type": "execute_result"
    }
   ],
   "source": [
    "# what happens when we retrieve row 'c'?\n",
    "\n",
    "df.loc['c']"
   ]
  },
  {
   "cell_type": "code",
   "execution_count": 38,
   "metadata": {},
   "outputs": [
    {
     "name": "stderr",
     "output_type": "stream",
     "text": [
      "/var/folders/rr/0mnyyv811fs5vyp22gf4fxk00000gn/T/ipykernel_26269/590399145.py:4: FutureWarning: ChainedAssignmentError: behaviour will change in pandas 3.0!\n",
      "You are setting values through chained assignment. Currently this works in certain cases, but when using Copy-on-Write (which will become the default behaviour in pandas 3.0) this will never work to update the original DataFrame or Series, because the intermediate object on which we are setting values will behave as a copy.\n",
      "A typical example is when you are setting values in a column of a DataFrame, like:\n",
      "\n",
      "df[\"col\"][row_indexer] = value\n",
      "\n",
      "Use `df.loc[row_indexer, \"col\"] = values` instead, to perform the assignment in a single step and ensure this keeps updating the original `df`.\n",
      "\n",
      "See the caveats in the documentation: https://pandas.pydata.org/pandas-docs/stable/user_guide/indexing.html#returning-a-view-versus-a-copy\n",
      "\n",
      "  df.loc['c'].loc['z'] = 999\n",
      "/var/folders/rr/0mnyyv811fs5vyp22gf4fxk00000gn/T/ipykernel_26269/590399145.py:4: SettingWithCopyWarning: \n",
      "A value is trying to be set on a copy of a slice from a DataFrame\n",
      "\n",
      "See the caveats in the documentation: https://pandas.pydata.org/pandas-docs/stable/user_guide/indexing.html#returning-a-view-versus-a-copy\n",
      "  df.loc['c'].loc['z'] = 999\n"
     ]
    }
   ],
   "source": [
    "# what if I want to assign back to a value?\n",
    "\n",
    "# this is a bad way to do it, as you'll see!\n",
    "df.loc['c'].loc['z'] = 999 "
   ]
  },
  {
   "cell_type": "code",
   "execution_count": 39,
   "metadata": {},
   "outputs": [
    {
     "data": {
      "text/html": [
       "<div>\n",
       "<style scoped>\n",
       "    .dataframe tbody tr th:only-of-type {\n",
       "        vertical-align: middle;\n",
       "    }\n",
       "\n",
       "    .dataframe tbody tr th {\n",
       "        vertical-align: top;\n",
       "    }\n",
       "\n",
       "    .dataframe thead th {\n",
       "        text-align: right;\n",
       "    }\n",
       "</style>\n",
       "<table border=\"1\" class=\"dataframe\">\n",
       "  <thead>\n",
       "    <tr style=\"text-align: right;\">\n",
       "      <th></th>\n",
       "      <th>x</th>\n",
       "      <th>y</th>\n",
       "      <th>z</th>\n",
       "    </tr>\n",
       "  </thead>\n",
       "  <tbody>\n",
       "    <tr>\n",
       "      <th>a</th>\n",
       "      <td>10</td>\n",
       "      <td>20</td>\n",
       "      <td>30.5</td>\n",
       "    </tr>\n",
       "    <tr>\n",
       "      <th>b</th>\n",
       "      <td>40</td>\n",
       "      <td>50</td>\n",
       "      <td>60.0</td>\n",
       "    </tr>\n",
       "    <tr>\n",
       "      <th>c</th>\n",
       "      <td>70</td>\n",
       "      <td>80</td>\n",
       "      <td>90.0</td>\n",
       "    </tr>\n",
       "    <tr>\n",
       "      <th>d</th>\n",
       "      <td>100</td>\n",
       "      <td>110</td>\n",
       "      <td>120.0</td>\n",
       "    </tr>\n",
       "  </tbody>\n",
       "</table>\n",
       "</div>"
      ],
      "text/plain": [
       "     x    y      z\n",
       "a   10   20   30.5\n",
       "b   40   50   60.0\n",
       "c   70   80   90.0\n",
       "d  100  110  120.0"
      ]
     },
     "execution_count": 39,
     "metadata": {},
     "output_type": "execute_result"
    }
   ],
   "source": [
    "df"
   ]
  },
  {
   "cell_type": "code",
   "execution_count": 40,
   "metadata": {},
   "outputs": [],
   "source": [
    "# the solution is always to use the two-argument version of .loc,\n",
    "# which guarantees that we'll assign back to the original data frame\n",
    "\n",
    "df.loc['c', 'z'] = 999 "
   ]
  },
  {
   "cell_type": "code",
   "execution_count": 41,
   "metadata": {},
   "outputs": [
    {
     "data": {
      "text/html": [
       "<div>\n",
       "<style scoped>\n",
       "    .dataframe tbody tr th:only-of-type {\n",
       "        vertical-align: middle;\n",
       "    }\n",
       "\n",
       "    .dataframe tbody tr th {\n",
       "        vertical-align: top;\n",
       "    }\n",
       "\n",
       "    .dataframe thead th {\n",
       "        text-align: right;\n",
       "    }\n",
       "</style>\n",
       "<table border=\"1\" class=\"dataframe\">\n",
       "  <thead>\n",
       "    <tr style=\"text-align: right;\">\n",
       "      <th></th>\n",
       "      <th>x</th>\n",
       "      <th>y</th>\n",
       "      <th>z</th>\n",
       "    </tr>\n",
       "  </thead>\n",
       "  <tbody>\n",
       "    <tr>\n",
       "      <th>a</th>\n",
       "      <td>10</td>\n",
       "      <td>20</td>\n",
       "      <td>30.5</td>\n",
       "    </tr>\n",
       "    <tr>\n",
       "      <th>b</th>\n",
       "      <td>40</td>\n",
       "      <td>50</td>\n",
       "      <td>60.0</td>\n",
       "    </tr>\n",
       "    <tr>\n",
       "      <th>c</th>\n",
       "      <td>70</td>\n",
       "      <td>80</td>\n",
       "      <td>999.0</td>\n",
       "    </tr>\n",
       "    <tr>\n",
       "      <th>d</th>\n",
       "      <td>100</td>\n",
       "      <td>110</td>\n",
       "      <td>120.0</td>\n",
       "    </tr>\n",
       "  </tbody>\n",
       "</table>\n",
       "</div>"
      ],
      "text/plain": [
       "     x    y      z\n",
       "a   10   20   30.5\n",
       "b   40   50   60.0\n",
       "c   70   80  999.0\n",
       "d  100  110  120.0"
      ]
     },
     "execution_count": 41,
     "metadata": {},
     "output_type": "execute_result"
    }
   ],
   "source": [
    "df"
   ]
  },
  {
   "cell_type": "markdown",
   "metadata": {},
   "source": [
    "# Exercise: Simple data frame\n",
    "\n",
    "1. Create a 5x5 data frame in which the rows are `abcde` and the columns are `vwxyz`. The values can be random integers from 0-1,000. (You can use a 2D NumPy array to initialize the values.)\n",
    "2. Retrieve row `b`\n",
    "3. Retrieve rows `b` and `d`\n",
    "4. Retrieve rows `b`, `c`, and `d`\n",
    "5. Retrieve column `w`\n",
    "6. Retrieve columns `w` and `y`\n",
    "7. Retrieve columns `w`, `x`, and `y`\n",
    "8. Retrieve the item at row `e`, column `v`\n",
    "9. Update the value at row e`, column `z` to be 123.456"
   ]
  },
  {
   "cell_type": "code",
   "execution_count": 42,
   "metadata": {},
   "outputs": [
    {
     "data": {
      "text/plain": [
       "array([[ 92, 855, 155, 443, 455],\n",
       "       [386, 725, 796, 590, 586],\n",
       "       [756, 567, 363, 394, 451],\n",
       "       [449, 357,   3, 378, 714]])"
      ]
     },
     "execution_count": 42,
     "metadata": {},
     "output_type": "execute_result"
    }
   ],
   "source": [
    "import numpy as np\n",
    "\n",
    "np.random.randint(0, 1000, 20).reshape(4, 5)"
   ]
  },
  {
   "cell_type": "code",
   "execution_count": 43,
   "metadata": {},
   "outputs": [
    {
     "data": {
      "text/plain": [
       "array([[444, 675, 888, 800, 967],\n",
       "       [174, 391, 834, 520, 112],\n",
       "       [976, 750, 342, 754, 295],\n",
       "       [367, 243, 289, 455,  79]])"
      ]
     },
     "execution_count": 43,
     "metadata": {},
     "output_type": "execute_result"
    }
   ],
   "source": [
    "np.random.randint(0, 1000, [4,5])"
   ]
  },
  {
   "cell_type": "code",
   "execution_count": 44,
   "metadata": {},
   "outputs": [
    {
     "data": {
      "text/html": [
       "<div>\n",
       "<style scoped>\n",
       "    .dataframe tbody tr th:only-of-type {\n",
       "        vertical-align: middle;\n",
       "    }\n",
       "\n",
       "    .dataframe tbody tr th {\n",
       "        vertical-align: top;\n",
       "    }\n",
       "\n",
       "    .dataframe thead th {\n",
       "        text-align: right;\n",
       "    }\n",
       "</style>\n",
       "<table border=\"1\" class=\"dataframe\">\n",
       "  <thead>\n",
       "    <tr style=\"text-align: right;\">\n",
       "      <th></th>\n",
       "      <th>v</th>\n",
       "      <th>w</th>\n",
       "      <th>x</th>\n",
       "      <th>y</th>\n",
       "      <th>z</th>\n",
       "    </tr>\n",
       "  </thead>\n",
       "  <tbody>\n",
       "    <tr>\n",
       "      <th>a</th>\n",
       "      <td>684</td>\n",
       "      <td>559</td>\n",
       "      <td>629</td>\n",
       "      <td>192</td>\n",
       "      <td>835</td>\n",
       "    </tr>\n",
       "    <tr>\n",
       "      <th>b</th>\n",
       "      <td>763</td>\n",
       "      <td>707</td>\n",
       "      <td>359</td>\n",
       "      <td>9</td>\n",
       "      <td>723</td>\n",
       "    </tr>\n",
       "    <tr>\n",
       "      <th>c</th>\n",
       "      <td>277</td>\n",
       "      <td>754</td>\n",
       "      <td>804</td>\n",
       "      <td>599</td>\n",
       "      <td>70</td>\n",
       "    </tr>\n",
       "    <tr>\n",
       "      <th>d</th>\n",
       "      <td>472</td>\n",
       "      <td>600</td>\n",
       "      <td>396</td>\n",
       "      <td>314</td>\n",
       "      <td>705</td>\n",
       "    </tr>\n",
       "    <tr>\n",
       "      <th>e</th>\n",
       "      <td>486</td>\n",
       "      <td>551</td>\n",
       "      <td>87</td>\n",
       "      <td>174</td>\n",
       "      <td>600</td>\n",
       "    </tr>\n",
       "  </tbody>\n",
       "</table>\n",
       "</div>"
      ],
      "text/plain": [
       "     v    w    x    y    z\n",
       "a  684  559  629  192  835\n",
       "b  763  707  359    9  723\n",
       "c  277  754  804  599   70\n",
       "d  472  600  396  314  705\n",
       "e  486  551   87  174  600"
      ]
     },
     "execution_count": 44,
     "metadata": {},
     "output_type": "execute_result"
    }
   ],
   "source": [
    "np.random.seed(0)\n",
    "\n",
    "df = DataFrame(np.random.randint(0, 1000, [5,5]),\n",
    "               index=list('abcde'),\n",
    "               columns=list('vwxyz'))\n",
    "df"
   ]
  },
  {
   "cell_type": "code",
   "execution_count": 45,
   "metadata": {
    "scrolled": true
   },
   "outputs": [
    {
     "data": {
      "text/plain": [
       "v    763\n",
       "w    707\n",
       "x    359\n",
       "y      9\n",
       "z    723\n",
       "Name: b, dtype: int64"
      ]
     },
     "execution_count": 45,
     "metadata": {},
     "output_type": "execute_result"
    }
   ],
   "source": [
    "# Retrieve row b\n",
    "\n",
    "df.loc['b']"
   ]
  },
  {
   "cell_type": "code",
   "execution_count": 46,
   "metadata": {},
   "outputs": [
    {
     "name": "stdout",
     "output_type": "stream",
     "text": [
      "12.2 μs ± 70 ns per loop (mean ± std. dev. of 7 runs, 100,000 loops each)\n"
     ]
    }
   ],
   "source": [
    "%timeit df.loc['b']"
   ]
  },
  {
   "cell_type": "code",
   "execution_count": 47,
   "metadata": {},
   "outputs": [
    {
     "name": "stdout",
     "output_type": "stream",
     "text": [
      "10.6 μs ± 177 ns per loop (mean ± std. dev. of 7 runs, 100,000 loops each)\n"
     ]
    }
   ],
   "source": [
    "%timeit df.iloc[1]"
   ]
  },
  {
   "cell_type": "code",
   "execution_count": 48,
   "metadata": {},
   "outputs": [
    {
     "data": {
      "text/html": [
       "<div>\n",
       "<style scoped>\n",
       "    .dataframe tbody tr th:only-of-type {\n",
       "        vertical-align: middle;\n",
       "    }\n",
       "\n",
       "    .dataframe tbody tr th {\n",
       "        vertical-align: top;\n",
       "    }\n",
       "\n",
       "    .dataframe thead th {\n",
       "        text-align: right;\n",
       "    }\n",
       "</style>\n",
       "<table border=\"1\" class=\"dataframe\">\n",
       "  <thead>\n",
       "    <tr style=\"text-align: right;\">\n",
       "      <th></th>\n",
       "      <th>v</th>\n",
       "      <th>w</th>\n",
       "      <th>x</th>\n",
       "      <th>y</th>\n",
       "      <th>z</th>\n",
       "    </tr>\n",
       "  </thead>\n",
       "  <tbody>\n",
       "    <tr>\n",
       "      <th>b</th>\n",
       "      <td>763</td>\n",
       "      <td>707</td>\n",
       "      <td>359</td>\n",
       "      <td>9</td>\n",
       "      <td>723</td>\n",
       "    </tr>\n",
       "    <tr>\n",
       "      <th>d</th>\n",
       "      <td>472</td>\n",
       "      <td>600</td>\n",
       "      <td>396</td>\n",
       "      <td>314</td>\n",
       "      <td>705</td>\n",
       "    </tr>\n",
       "  </tbody>\n",
       "</table>\n",
       "</div>"
      ],
      "text/plain": [
       "     v    w    x    y    z\n",
       "b  763  707  359    9  723\n",
       "d  472  600  396  314  705"
      ]
     },
     "execution_count": 48,
     "metadata": {},
     "output_type": "execute_result"
    }
   ],
   "source": [
    "# Retrieve rows b and d\n",
    "\n",
    "df.loc[['b', 'd']]"
   ]
  },
  {
   "cell_type": "code",
   "execution_count": 49,
   "metadata": {},
   "outputs": [
    {
     "data": {
      "text/html": [
       "<div>\n",
       "<style scoped>\n",
       "    .dataframe tbody tr th:only-of-type {\n",
       "        vertical-align: middle;\n",
       "    }\n",
       "\n",
       "    .dataframe tbody tr th {\n",
       "        vertical-align: top;\n",
       "    }\n",
       "\n",
       "    .dataframe thead th {\n",
       "        text-align: right;\n",
       "    }\n",
       "</style>\n",
       "<table border=\"1\" class=\"dataframe\">\n",
       "  <thead>\n",
       "    <tr style=\"text-align: right;\">\n",
       "      <th></th>\n",
       "      <th>v</th>\n",
       "      <th>w</th>\n",
       "      <th>x</th>\n",
       "      <th>y</th>\n",
       "      <th>z</th>\n",
       "    </tr>\n",
       "  </thead>\n",
       "  <tbody>\n",
       "    <tr>\n",
       "      <th>b</th>\n",
       "      <td>763</td>\n",
       "      <td>707</td>\n",
       "      <td>359</td>\n",
       "      <td>9</td>\n",
       "      <td>723</td>\n",
       "    </tr>\n",
       "    <tr>\n",
       "      <th>c</th>\n",
       "      <td>277</td>\n",
       "      <td>754</td>\n",
       "      <td>804</td>\n",
       "      <td>599</td>\n",
       "      <td>70</td>\n",
       "    </tr>\n",
       "    <tr>\n",
       "      <th>d</th>\n",
       "      <td>472</td>\n",
       "      <td>600</td>\n",
       "      <td>396</td>\n",
       "      <td>314</td>\n",
       "      <td>705</td>\n",
       "    </tr>\n",
       "  </tbody>\n",
       "</table>\n",
       "</div>"
      ],
      "text/plain": [
       "     v    w    x    y    z\n",
       "b  763  707  359    9  723\n",
       "c  277  754  804  599   70\n",
       "d  472  600  396  314  705"
      ]
     },
     "execution_count": 49,
     "metadata": {},
     "output_type": "execute_result"
    }
   ],
   "source": [
    "# Retrieve rows b, c, and d\n",
    "\n",
    "df.loc['b':'d']  # use a slice, up to and including (with df.loc)"
   ]
  },
  {
   "cell_type": "code",
   "execution_count": 52,
   "metadata": {
    "scrolled": true
   },
   "outputs": [
    {
     "name": "stdout",
     "output_type": "stream",
     "text": [
      "1.57 μs ± 10.3 ns per loop (mean ± std. dev. of 7 runs, 1,000,000 loops each)\n"
     ]
    }
   ],
   "source": [
    "# Retrieve column w\n",
    "\n",
    "%timeit df['w']"
   ]
  },
  {
   "cell_type": "code",
   "execution_count": 53,
   "metadata": {},
   "outputs": [
    {
     "name": "stdout",
     "output_type": "stream",
     "text": [
      "2.92 μs ± 21 ns per loop (mean ± std. dev. of 7 runs, 100,000 loops each)\n"
     ]
    }
   ],
   "source": [
    "# you can also use a different syntax, \"dot syntax,\" to retrieve a column\n",
    "\n",
    "%timeit df.w"
   ]
  },
  {
   "cell_type": "code",
   "execution_count": 54,
   "metadata": {},
   "outputs": [
    {
     "data": {
      "text/html": [
       "<div>\n",
       "<style scoped>\n",
       "    .dataframe tbody tr th:only-of-type {\n",
       "        vertical-align: middle;\n",
       "    }\n",
       "\n",
       "    .dataframe tbody tr th {\n",
       "        vertical-align: top;\n",
       "    }\n",
       "\n",
       "    .dataframe thead th {\n",
       "        text-align: right;\n",
       "    }\n",
       "</style>\n",
       "<table border=\"1\" class=\"dataframe\">\n",
       "  <thead>\n",
       "    <tr style=\"text-align: right;\">\n",
       "      <th></th>\n",
       "      <th>w</th>\n",
       "      <th>y</th>\n",
       "    </tr>\n",
       "  </thead>\n",
       "  <tbody>\n",
       "    <tr>\n",
       "      <th>a</th>\n",
       "      <td>559</td>\n",
       "      <td>192</td>\n",
       "    </tr>\n",
       "    <tr>\n",
       "      <th>b</th>\n",
       "      <td>707</td>\n",
       "      <td>9</td>\n",
       "    </tr>\n",
       "    <tr>\n",
       "      <th>c</th>\n",
       "      <td>754</td>\n",
       "      <td>599</td>\n",
       "    </tr>\n",
       "    <tr>\n",
       "      <th>d</th>\n",
       "      <td>600</td>\n",
       "      <td>314</td>\n",
       "    </tr>\n",
       "    <tr>\n",
       "      <th>e</th>\n",
       "      <td>551</td>\n",
       "      <td>174</td>\n",
       "    </tr>\n",
       "  </tbody>\n",
       "</table>\n",
       "</div>"
      ],
      "text/plain": [
       "     w    y\n",
       "a  559  192\n",
       "b  707    9\n",
       "c  754  599\n",
       "d  600  314\n",
       "e  551  174"
      ]
     },
     "execution_count": 54,
     "metadata": {},
     "output_type": "execute_result"
    }
   ],
   "source": [
    "# Retrieve columns w and y\n",
    "\n",
    "df[['w', 'y']]"
   ]
  },
  {
   "cell_type": "code",
   "execution_count": 55,
   "metadata": {},
   "outputs": [
    {
     "data": {
      "text/html": [
       "<div>\n",
       "<style scoped>\n",
       "    .dataframe tbody tr th:only-of-type {\n",
       "        vertical-align: middle;\n",
       "    }\n",
       "\n",
       "    .dataframe tbody tr th {\n",
       "        vertical-align: top;\n",
       "    }\n",
       "\n",
       "    .dataframe thead th {\n",
       "        text-align: right;\n",
       "    }\n",
       "</style>\n",
       "<table border=\"1\" class=\"dataframe\">\n",
       "  <thead>\n",
       "    <tr style=\"text-align: right;\">\n",
       "      <th></th>\n",
       "      <th>w</th>\n",
       "      <th>x</th>\n",
       "      <th>y</th>\n",
       "    </tr>\n",
       "  </thead>\n",
       "  <tbody>\n",
       "    <tr>\n",
       "      <th>a</th>\n",
       "      <td>559</td>\n",
       "      <td>629</td>\n",
       "      <td>192</td>\n",
       "    </tr>\n",
       "    <tr>\n",
       "      <th>b</th>\n",
       "      <td>707</td>\n",
       "      <td>359</td>\n",
       "      <td>9</td>\n",
       "    </tr>\n",
       "    <tr>\n",
       "      <th>c</th>\n",
       "      <td>754</td>\n",
       "      <td>804</td>\n",
       "      <td>599</td>\n",
       "    </tr>\n",
       "    <tr>\n",
       "      <th>d</th>\n",
       "      <td>600</td>\n",
       "      <td>396</td>\n",
       "      <td>314</td>\n",
       "    </tr>\n",
       "    <tr>\n",
       "      <th>e</th>\n",
       "      <td>551</td>\n",
       "      <td>87</td>\n",
       "      <td>174</td>\n",
       "    </tr>\n",
       "  </tbody>\n",
       "</table>\n",
       "</div>"
      ],
      "text/plain": [
       "     w    x    y\n",
       "a  559  629  192\n",
       "b  707  359    9\n",
       "c  754  804  599\n",
       "d  600  396  314\n",
       "e  551   87  174"
      ]
     },
     "execution_count": 55,
     "metadata": {},
     "output_type": "execute_result"
    }
   ],
   "source": [
    "# Retrieve columns w, x, and y\n",
    "\n",
    "df[['w', 'x', 'y']]"
   ]
  },
  {
   "cell_type": "code",
   "execution_count": 56,
   "metadata": {},
   "outputs": [
    {
     "data": {
      "text/html": [
       "<div>\n",
       "<style scoped>\n",
       "    .dataframe tbody tr th:only-of-type {\n",
       "        vertical-align: middle;\n",
       "    }\n",
       "\n",
       "    .dataframe tbody tr th {\n",
       "        vertical-align: top;\n",
       "    }\n",
       "\n",
       "    .dataframe thead th {\n",
       "        text-align: right;\n",
       "    }\n",
       "</style>\n",
       "<table border=\"1\" class=\"dataframe\">\n",
       "  <thead>\n",
       "    <tr style=\"text-align: right;\">\n",
       "      <th></th>\n",
       "      <th>v</th>\n",
       "      <th>w</th>\n",
       "      <th>x</th>\n",
       "      <th>y</th>\n",
       "      <th>z</th>\n",
       "    </tr>\n",
       "  </thead>\n",
       "  <tbody>\n",
       "  </tbody>\n",
       "</table>\n",
       "</div>"
      ],
      "text/plain": [
       "Empty DataFrame\n",
       "Columns: [v, w, x, y, z]\n",
       "Index: []"
      ]
     },
     "execution_count": 56,
     "metadata": {},
     "output_type": "execute_result"
    }
   ],
   "source": [
    "df['w':'y']  # if you give a slice to [], Pandas looks for that slice ON THE ROWS!"
   ]
  },
  {
   "cell_type": "code",
   "execution_count": 57,
   "metadata": {},
   "outputs": [
    {
     "data": {
      "text/plain": [
       "np.int64(486)"
      ]
     },
     "execution_count": 57,
     "metadata": {},
     "output_type": "execute_result"
    }
   ],
   "source": [
    "# Retrieve the item at row e, column v\n",
    "\n",
    "df.loc[ 'e',    # row selector\n",
    "        'v']    # column selector\n"
   ]
  },
  {
   "cell_type": "code",
   "execution_count": 58,
   "metadata": {},
   "outputs": [
    {
     "data": {
      "text/html": [
       "<div>\n",
       "<style scoped>\n",
       "    .dataframe tbody tr th:only-of-type {\n",
       "        vertical-align: middle;\n",
       "    }\n",
       "\n",
       "    .dataframe tbody tr th {\n",
       "        vertical-align: top;\n",
       "    }\n",
       "\n",
       "    .dataframe thead th {\n",
       "        text-align: right;\n",
       "    }\n",
       "</style>\n",
       "<table border=\"1\" class=\"dataframe\">\n",
       "  <thead>\n",
       "    <tr style=\"text-align: right;\">\n",
       "      <th></th>\n",
       "      <th>v</th>\n",
       "      <th>z</th>\n",
       "    </tr>\n",
       "  </thead>\n",
       "  <tbody>\n",
       "    <tr>\n",
       "      <th>b</th>\n",
       "      <td>763</td>\n",
       "      <td>723</td>\n",
       "    </tr>\n",
       "    <tr>\n",
       "      <th>e</th>\n",
       "      <td>486</td>\n",
       "      <td>600</td>\n",
       "    </tr>\n",
       "  </tbody>\n",
       "</table>\n",
       "</div>"
      ],
      "text/plain": [
       "     v    z\n",
       "b  763  723\n",
       "e  486  600"
      ]
     },
     "execution_count": 58,
     "metadata": {},
     "output_type": "execute_result"
    }
   ],
   "source": [
    "df.loc[ ['b', 'e']   # row selector is two rows\n",
    "    ,\n",
    "        ['v', 'z']   # column selector\n",
    "]"
   ]
  },
  {
   "cell_type": "code",
   "execution_count": 59,
   "metadata": {},
   "outputs": [
    {
     "name": "stderr",
     "output_type": "stream",
     "text": [
      "/var/folders/rr/0mnyyv811fs5vyp22gf4fxk00000gn/T/ipykernel_26269/3297010828.py:3: FutureWarning: Setting an item of incompatible dtype is deprecated and will raise an error in a future version of pandas. Value '123.456' has dtype incompatible with int64, please explicitly cast to a compatible dtype first.\n",
      "  df.loc['e', 'z'] = 123.456\n"
     ]
    }
   ],
   "source": [
    "# Update the value at row e, column z` to be 123.456\n",
    "\n",
    "df.loc['e', 'z'] = 123.456"
   ]
  },
  {
   "cell_type": "code",
   "execution_count": 60,
   "metadata": {},
   "outputs": [
    {
     "data": {
      "text/plain": [
       "v      int64\n",
       "w      int64\n",
       "x      int64\n",
       "y      int64\n",
       "z    float64\n",
       "dtype: object"
      ]
     },
     "execution_count": 60,
     "metadata": {},
     "output_type": "execute_result"
    }
   ],
   "source": [
    "df.dtypes"
   ]
  },
  {
   "cell_type": "code",
   "execution_count": 61,
   "metadata": {},
   "outputs": [
    {
     "data": {
      "text/html": [
       "<div>\n",
       "<style scoped>\n",
       "    .dataframe tbody tr th:only-of-type {\n",
       "        vertical-align: middle;\n",
       "    }\n",
       "\n",
       "    .dataframe tbody tr th {\n",
       "        vertical-align: top;\n",
       "    }\n",
       "\n",
       "    .dataframe thead th {\n",
       "        text-align: right;\n",
       "    }\n",
       "</style>\n",
       "<table border=\"1\" class=\"dataframe\">\n",
       "  <thead>\n",
       "    <tr style=\"text-align: right;\">\n",
       "      <th></th>\n",
       "      <th>v</th>\n",
       "      <th>w</th>\n",
       "      <th>x</th>\n",
       "      <th>y</th>\n",
       "      <th>z</th>\n",
       "    </tr>\n",
       "  </thead>\n",
       "  <tbody>\n",
       "    <tr>\n",
       "      <th>a</th>\n",
       "      <td>684</td>\n",
       "      <td>559</td>\n",
       "      <td>629</td>\n",
       "      <td>192</td>\n",
       "      <td>835</td>\n",
       "    </tr>\n",
       "    <tr>\n",
       "      <th>b</th>\n",
       "      <td>763</td>\n",
       "      <td>707</td>\n",
       "      <td>359</td>\n",
       "      <td>9</td>\n",
       "      <td>723</td>\n",
       "    </tr>\n",
       "    <tr>\n",
       "      <th>c</th>\n",
       "      <td>277</td>\n",
       "      <td>754</td>\n",
       "      <td>804</td>\n",
       "      <td>599</td>\n",
       "      <td>70</td>\n",
       "    </tr>\n",
       "    <tr>\n",
       "      <th>d</th>\n",
       "      <td>472</td>\n",
       "      <td>600</td>\n",
       "      <td>396</td>\n",
       "      <td>314</td>\n",
       "      <td>705</td>\n",
       "    </tr>\n",
       "    <tr>\n",
       "      <th>e</th>\n",
       "      <td>486</td>\n",
       "      <td>551</td>\n",
       "      <td>87</td>\n",
       "      <td>174</td>\n",
       "      <td>600</td>\n",
       "    </tr>\n",
       "  </tbody>\n",
       "</table>\n",
       "</div>"
      ],
      "text/plain": [
       "     v    w    x    y    z\n",
       "a  684  559  629  192  835\n",
       "b  763  707  359    9  723\n",
       "c  277  754  804  599   70\n",
       "d  472  600  396  314  705\n",
       "e  486  551   87  174  600"
      ]
     },
     "execution_count": 61,
     "metadata": {},
     "output_type": "execute_result"
    }
   ],
   "source": [
    "# how should we update that column/value to avoid the problem?\n",
    "# answer: replace the column with a new version of itself using float\n",
    "\n",
    "np.random.seed(0)\n",
    "\n",
    "df = DataFrame(np.random.randint(0, 1000, [5,5]),\n",
    "               index=list('abcde'),\n",
    "               columns=list('vwxyz'))\n",
    "df"
   ]
  },
  {
   "cell_type": "code",
   "execution_count": 62,
   "metadata": {},
   "outputs": [
    {
     "data": {
      "text/plain": [
       "v    int64\n",
       "w    int64\n",
       "x    int64\n",
       "y    int64\n",
       "z    int64\n",
       "dtype: object"
      ]
     },
     "execution_count": 62,
     "metadata": {},
     "output_type": "execute_result"
    }
   ],
   "source": [
    "df.dtypes"
   ]
  },
  {
   "cell_type": "code",
   "execution_count": 63,
   "metadata": {},
   "outputs": [
    {
     "data": {
      "text/html": [
       "<div>\n",
       "<style scoped>\n",
       "    .dataframe tbody tr th:only-of-type {\n",
       "        vertical-align: middle;\n",
       "    }\n",
       "\n",
       "    .dataframe tbody tr th {\n",
       "        vertical-align: top;\n",
       "    }\n",
       "\n",
       "    .dataframe thead th {\n",
       "        text-align: right;\n",
       "    }\n",
       "</style>\n",
       "<table border=\"1\" class=\"dataframe\">\n",
       "  <thead>\n",
       "    <tr style=\"text-align: right;\">\n",
       "      <th></th>\n",
       "      <th>v</th>\n",
       "      <th>w</th>\n",
       "      <th>x</th>\n",
       "      <th>y</th>\n",
       "      <th>z</th>\n",
       "      <th>u</th>\n",
       "    </tr>\n",
       "  </thead>\n",
       "  <tbody>\n",
       "    <tr>\n",
       "      <th>a</th>\n",
       "      <td>684</td>\n",
       "      <td>559</td>\n",
       "      <td>629</td>\n",
       "      <td>192</td>\n",
       "      <td>835</td>\n",
       "      <td>10</td>\n",
       "    </tr>\n",
       "    <tr>\n",
       "      <th>b</th>\n",
       "      <td>763</td>\n",
       "      <td>707</td>\n",
       "      <td>359</td>\n",
       "      <td>9</td>\n",
       "      <td>723</td>\n",
       "      <td>20</td>\n",
       "    </tr>\n",
       "    <tr>\n",
       "      <th>c</th>\n",
       "      <td>277</td>\n",
       "      <td>754</td>\n",
       "      <td>804</td>\n",
       "      <td>599</td>\n",
       "      <td>70</td>\n",
       "      <td>30</td>\n",
       "    </tr>\n",
       "    <tr>\n",
       "      <th>d</th>\n",
       "      <td>472</td>\n",
       "      <td>600</td>\n",
       "      <td>396</td>\n",
       "      <td>314</td>\n",
       "      <td>705</td>\n",
       "      <td>40</td>\n",
       "    </tr>\n",
       "    <tr>\n",
       "      <th>e</th>\n",
       "      <td>486</td>\n",
       "      <td>551</td>\n",
       "      <td>87</td>\n",
       "      <td>174</td>\n",
       "      <td>600</td>\n",
       "      <td>50</td>\n",
       "    </tr>\n",
       "  </tbody>\n",
       "</table>\n",
       "</div>"
      ],
      "text/plain": [
       "     v    w    x    y    z   u\n",
       "a  684  559  629  192  835  10\n",
       "b  763  707  359    9  723  20\n",
       "c  277  754  804  599   70  30\n",
       "d  472  600  396  314  705  40\n",
       "e  486  551   87  174  600  50"
      ]
     },
     "execution_count": 63,
     "metadata": {},
     "output_type": "execute_result"
    }
   ],
   "source": [
    "# you can add a new column to a data frame via assignment\n",
    "df['u'] = [10, 20, 30, 40, 50]   # needs to be the same length as the other columns\n",
    "\n",
    "df"
   ]
  },
  {
   "cell_type": "code",
   "execution_count": 64,
   "metadata": {},
   "outputs": [
    {
     "data": {
      "text/html": [
       "<div>\n",
       "<style scoped>\n",
       "    .dataframe tbody tr th:only-of-type {\n",
       "        vertical-align: middle;\n",
       "    }\n",
       "\n",
       "    .dataframe tbody tr th {\n",
       "        vertical-align: top;\n",
       "    }\n",
       "\n",
       "    .dataframe thead th {\n",
       "        text-align: right;\n",
       "    }\n",
       "</style>\n",
       "<table border=\"1\" class=\"dataframe\">\n",
       "  <thead>\n",
       "    <tr style=\"text-align: right;\">\n",
       "      <th></th>\n",
       "      <th>v</th>\n",
       "      <th>w</th>\n",
       "      <th>x</th>\n",
       "      <th>y</th>\n",
       "      <th>z</th>\n",
       "      <th>u</th>\n",
       "    </tr>\n",
       "  </thead>\n",
       "  <tbody>\n",
       "    <tr>\n",
       "      <th>a</th>\n",
       "      <td>684</td>\n",
       "      <td>559</td>\n",
       "      <td>629</td>\n",
       "      <td>192</td>\n",
       "      <td>835</td>\n",
       "      <td>100</td>\n",
       "    </tr>\n",
       "    <tr>\n",
       "      <th>b</th>\n",
       "      <td>763</td>\n",
       "      <td>707</td>\n",
       "      <td>359</td>\n",
       "      <td>9</td>\n",
       "      <td>723</td>\n",
       "      <td>200</td>\n",
       "    </tr>\n",
       "    <tr>\n",
       "      <th>c</th>\n",
       "      <td>277</td>\n",
       "      <td>754</td>\n",
       "      <td>804</td>\n",
       "      <td>599</td>\n",
       "      <td>70</td>\n",
       "      <td>300</td>\n",
       "    </tr>\n",
       "    <tr>\n",
       "      <th>d</th>\n",
       "      <td>472</td>\n",
       "      <td>600</td>\n",
       "      <td>396</td>\n",
       "      <td>314</td>\n",
       "      <td>705</td>\n",
       "      <td>400</td>\n",
       "    </tr>\n",
       "    <tr>\n",
       "      <th>e</th>\n",
       "      <td>486</td>\n",
       "      <td>551</td>\n",
       "      <td>87</td>\n",
       "      <td>174</td>\n",
       "      <td>600</td>\n",
       "      <td>500</td>\n",
       "    </tr>\n",
       "  </tbody>\n",
       "</table>\n",
       "</div>"
      ],
      "text/plain": [
       "     v    w    x    y    z    u\n",
       "a  684  559  629  192  835  100\n",
       "b  763  707  359    9  723  200\n",
       "c  277  754  804  599   70  300\n",
       "d  472  600  396  314  705  400\n",
       "e  486  551   87  174  600  500"
      ]
     },
     "execution_count": 64,
     "metadata": {},
     "output_type": "execute_result"
    }
   ],
   "source": [
    "# what if I assign to a column that already exists? It's replaced.\n",
    "\n",
    "df['u'] = [100 ,200, 300, 400, 500]\n",
    "df"
   ]
  },
  {
   "cell_type": "code",
   "execution_count": 65,
   "metadata": {},
   "outputs": [
    {
     "data": {
      "text/html": [
       "<div>\n",
       "<style scoped>\n",
       "    .dataframe tbody tr th:only-of-type {\n",
       "        vertical-align: middle;\n",
       "    }\n",
       "\n",
       "    .dataframe tbody tr th {\n",
       "        vertical-align: top;\n",
       "    }\n",
       "\n",
       "    .dataframe thead th {\n",
       "        text-align: right;\n",
       "    }\n",
       "</style>\n",
       "<table border=\"1\" class=\"dataframe\">\n",
       "  <thead>\n",
       "    <tr style=\"text-align: right;\">\n",
       "      <th></th>\n",
       "      <th>v</th>\n",
       "      <th>w</th>\n",
       "      <th>x</th>\n",
       "      <th>y</th>\n",
       "      <th>z</th>\n",
       "      <th>u</th>\n",
       "    </tr>\n",
       "  </thead>\n",
       "  <tbody>\n",
       "    <tr>\n",
       "      <th>a</th>\n",
       "      <td>684</td>\n",
       "      <td>559</td>\n",
       "      <td>629</td>\n",
       "      <td>192</td>\n",
       "      <td>835</td>\n",
       "      <td>100.0</td>\n",
       "    </tr>\n",
       "    <tr>\n",
       "      <th>b</th>\n",
       "      <td>763</td>\n",
       "      <td>707</td>\n",
       "      <td>359</td>\n",
       "      <td>9</td>\n",
       "      <td>723</td>\n",
       "      <td>200.0</td>\n",
       "    </tr>\n",
       "    <tr>\n",
       "      <th>c</th>\n",
       "      <td>277</td>\n",
       "      <td>754</td>\n",
       "      <td>804</td>\n",
       "      <td>599</td>\n",
       "      <td>70</td>\n",
       "      <td>300.0</td>\n",
       "    </tr>\n",
       "    <tr>\n",
       "      <th>d</th>\n",
       "      <td>472</td>\n",
       "      <td>600</td>\n",
       "      <td>396</td>\n",
       "      <td>314</td>\n",
       "      <td>705</td>\n",
       "      <td>400.0</td>\n",
       "    </tr>\n",
       "    <tr>\n",
       "      <th>e</th>\n",
       "      <td>486</td>\n",
       "      <td>551</td>\n",
       "      <td>87</td>\n",
       "      <td>174</td>\n",
       "      <td>600</td>\n",
       "      <td>500.0</td>\n",
       "    </tr>\n",
       "  </tbody>\n",
       "</table>\n",
       "</div>"
      ],
      "text/plain": [
       "     v    w    x    y    z      u\n",
       "a  684  559  629  192  835  100.0\n",
       "b  763  707  359    9  723  200.0\n",
       "c  277  754  804  599   70  300.0\n",
       "d  472  600  396  314  705  400.0\n",
       "e  486  551   87  174  600  500.0"
      ]
     },
     "execution_count": 65,
     "metadata": {},
     "output_type": "execute_result"
    }
   ],
   "source": [
    "# I can do the same, but using the output of .astype\n",
    "\n",
    "df['u'] = df['u'].astype(np.float64)\n",
    "df"
   ]
  },
  {
   "cell_type": "code",
   "execution_count": 66,
   "metadata": {},
   "outputs": [],
   "source": [
    "df.loc['e', 'u'] = 123.456\n"
   ]
  },
  {
   "cell_type": "code",
   "execution_count": 67,
   "metadata": {},
   "outputs": [
    {
     "data": {
      "text/html": [
       "<div>\n",
       "<style scoped>\n",
       "    .dataframe tbody tr th:only-of-type {\n",
       "        vertical-align: middle;\n",
       "    }\n",
       "\n",
       "    .dataframe tbody tr th {\n",
       "        vertical-align: top;\n",
       "    }\n",
       "\n",
       "    .dataframe thead th {\n",
       "        text-align: right;\n",
       "    }\n",
       "</style>\n",
       "<table border=\"1\" class=\"dataframe\">\n",
       "  <thead>\n",
       "    <tr style=\"text-align: right;\">\n",
       "      <th></th>\n",
       "      <th>v</th>\n",
       "      <th>w</th>\n",
       "      <th>x</th>\n",
       "      <th>y</th>\n",
       "      <th>z</th>\n",
       "      <th>u</th>\n",
       "    </tr>\n",
       "  </thead>\n",
       "  <tbody>\n",
       "    <tr>\n",
       "      <th>a</th>\n",
       "      <td>684</td>\n",
       "      <td>559</td>\n",
       "      <td>629</td>\n",
       "      <td>192</td>\n",
       "      <td>835</td>\n",
       "      <td>100.000</td>\n",
       "    </tr>\n",
       "    <tr>\n",
       "      <th>b</th>\n",
       "      <td>763</td>\n",
       "      <td>707</td>\n",
       "      <td>359</td>\n",
       "      <td>9</td>\n",
       "      <td>723</td>\n",
       "      <td>200.000</td>\n",
       "    </tr>\n",
       "    <tr>\n",
       "      <th>c</th>\n",
       "      <td>277</td>\n",
       "      <td>754</td>\n",
       "      <td>804</td>\n",
       "      <td>599</td>\n",
       "      <td>70</td>\n",
       "      <td>300.000</td>\n",
       "    </tr>\n",
       "    <tr>\n",
       "      <th>d</th>\n",
       "      <td>472</td>\n",
       "      <td>600</td>\n",
       "      <td>396</td>\n",
       "      <td>314</td>\n",
       "      <td>705</td>\n",
       "      <td>400.000</td>\n",
       "    </tr>\n",
       "    <tr>\n",
       "      <th>e</th>\n",
       "      <td>486</td>\n",
       "      <td>551</td>\n",
       "      <td>87</td>\n",
       "      <td>174</td>\n",
       "      <td>600</td>\n",
       "      <td>123.456</td>\n",
       "    </tr>\n",
       "  </tbody>\n",
       "</table>\n",
       "</div>"
      ],
      "text/plain": [
       "     v    w    x    y    z        u\n",
       "a  684  559  629  192  835  100.000\n",
       "b  763  707  359    9  723  200.000\n",
       "c  277  754  804  599   70  300.000\n",
       "d  472  600  396  314  705  400.000\n",
       "e  486  551   87  174  600  123.456"
      ]
     },
     "execution_count": 67,
     "metadata": {},
     "output_type": "execute_result"
    }
   ],
   "source": [
    "df"
   ]
  },
  {
   "cell_type": "markdown",
   "metadata": {},
   "source": [
    "# Other ways to create data frames\n",
    "\n",
    "You aren't going to be creating a *lot* of data frames manually; most will be based on data you read from elsewhere. But let's just look at a few techniques we can use for when you do need to create them.\n",
    "\n",
    "1. List of lists (we've seen this)\n",
    "2. List of dicts (the keys indicate which columns we're adding to)\n",
    "3. Dict of lists (the keys indicate the column names, and the lists are the values)\n",
    "4. Dict of series (same as above, but using a series rather than a list)"
   ]
  },
  {
   "cell_type": "code",
   "execution_count": 70,
   "metadata": {},
   "outputs": [
    {
     "data": {
      "text/html": [
       "<div>\n",
       "<style scoped>\n",
       "    .dataframe tbody tr th:only-of-type {\n",
       "        vertical-align: middle;\n",
       "    }\n",
       "\n",
       "    .dataframe tbody tr th {\n",
       "        vertical-align: top;\n",
       "    }\n",
       "\n",
       "    .dataframe thead th {\n",
       "        text-align: right;\n",
       "    }\n",
       "</style>\n",
       "<table border=\"1\" class=\"dataframe\">\n",
       "  <thead>\n",
       "    <tr style=\"text-align: right;\">\n",
       "      <th></th>\n",
       "      <th>a</th>\n",
       "      <th>b</th>\n",
       "      <th>c</th>\n",
       "      <th>d</th>\n",
       "    </tr>\n",
       "  </thead>\n",
       "  <tbody>\n",
       "    <tr>\n",
       "      <th>x</th>\n",
       "      <td>10</td>\n",
       "      <td>20</td>\n",
       "      <td>30.0</td>\n",
       "      <td>NaN</td>\n",
       "    </tr>\n",
       "    <tr>\n",
       "      <th>y</th>\n",
       "      <td>100</td>\n",
       "      <td>200</td>\n",
       "      <td>300.0</td>\n",
       "      <td>NaN</td>\n",
       "    </tr>\n",
       "    <tr>\n",
       "      <th>z</th>\n",
       "      <td>1000</td>\n",
       "      <td>2000</td>\n",
       "      <td>NaN</td>\n",
       "      <td>4000.0</td>\n",
       "    </tr>\n",
       "  </tbody>\n",
       "</table>\n",
       "</div>"
      ],
      "text/plain": [
       "      a     b      c       d\n",
       "x    10    20   30.0     NaN\n",
       "y   100   200  300.0     NaN\n",
       "z  1000  2000    NaN  4000.0"
      ]
     },
     "execution_count": 70,
     "metadata": {},
     "output_type": "execute_result"
    }
   ],
   "source": [
    "# list of dicts\n",
    "# the union of all keys across all lists will be our column names\n",
    "# any missing key-value intersection is given nan as a value\n",
    "\n",
    "df = DataFrame([{'a':10, 'b':20, 'c':30},\n",
    "                {'a':100, 'b':200, 'c':300},\n",
    "                {'a':1000, 'b':2000, 'd':4000}],\n",
    "              index=list('xyz'))\n",
    "df"
   ]
  },
  {
   "cell_type": "code",
   "execution_count": 72,
   "metadata": {},
   "outputs": [
    {
     "data": {
      "text/html": [
       "<div>\n",
       "<style scoped>\n",
       "    .dataframe tbody tr th:only-of-type {\n",
       "        vertical-align: middle;\n",
       "    }\n",
       "\n",
       "    .dataframe tbody tr th {\n",
       "        vertical-align: top;\n",
       "    }\n",
       "\n",
       "    .dataframe thead th {\n",
       "        text-align: right;\n",
       "    }\n",
       "</style>\n",
       "<table border=\"1\" class=\"dataframe\">\n",
       "  <thead>\n",
       "    <tr style=\"text-align: right;\">\n",
       "      <th></th>\n",
       "      <th>a</th>\n",
       "      <th>b</th>\n",
       "      <th>c</th>\n",
       "    </tr>\n",
       "  </thead>\n",
       "  <tbody>\n",
       "    <tr>\n",
       "      <th>v</th>\n",
       "      <td>10</td>\n",
       "      <td>100</td>\n",
       "      <td>1000</td>\n",
       "    </tr>\n",
       "    <tr>\n",
       "      <th>w</th>\n",
       "      <td>20</td>\n",
       "      <td>200</td>\n",
       "      <td>2000</td>\n",
       "    </tr>\n",
       "    <tr>\n",
       "      <th>x</th>\n",
       "      <td>30</td>\n",
       "      <td>300</td>\n",
       "      <td>3000</td>\n",
       "    </tr>\n",
       "    <tr>\n",
       "      <th>y</th>\n",
       "      <td>40</td>\n",
       "      <td>400</td>\n",
       "      <td>4000</td>\n",
       "    </tr>\n",
       "    <tr>\n",
       "      <th>z</th>\n",
       "      <td>50</td>\n",
       "      <td>500</td>\n",
       "      <td>5000</td>\n",
       "    </tr>\n",
       "  </tbody>\n",
       "</table>\n",
       "</div>"
      ],
      "text/plain": [
       "    a    b     c\n",
       "v  10  100  1000\n",
       "w  20  200  2000\n",
       "x  30  300  3000\n",
       "y  40  400  4000\n",
       "z  50  500  5000"
      ]
     },
     "execution_count": 72,
     "metadata": {},
     "output_type": "execute_result"
    }
   ],
   "source": [
    "# dict of lists\n",
    "# here, we're just defining the data frame as as dict whose values are lists/series\n",
    "\n",
    "df = DataFrame({'a':[10, 20, 30, 40, 50],\n",
    "                'b':[100, 200, 300, 400, 500],\n",
    "                'c':[1000, 2000, 3000, 4000, 5000]},\n",
    "              index=list('vwxyz'))\n",
    "df"
   ]
  },
  {
   "cell_type": "code",
   "execution_count": 73,
   "metadata": {},
   "outputs": [
    {
     "data": {
      "text/html": [
       "<div>\n",
       "<style scoped>\n",
       "    .dataframe tbody tr th:only-of-type {\n",
       "        vertical-align: middle;\n",
       "    }\n",
       "\n",
       "    .dataframe tbody tr th {\n",
       "        vertical-align: top;\n",
       "    }\n",
       "\n",
       "    .dataframe thead th {\n",
       "        text-align: right;\n",
       "    }\n",
       "</style>\n",
       "<table border=\"1\" class=\"dataframe\">\n",
       "  <thead>\n",
       "    <tr style=\"text-align: right;\">\n",
       "      <th></th>\n",
       "      <th>x</th>\n",
       "      <th>y</th>\n",
       "      <th>y</th>\n",
       "    </tr>\n",
       "  </thead>\n",
       "  <tbody>\n",
       "    <tr>\n",
       "      <th>a</th>\n",
       "      <td>81</td>\n",
       "      <td>37</td>\n",
       "      <td>25</td>\n",
       "    </tr>\n",
       "    <tr>\n",
       "      <th>a</th>\n",
       "      <td>77</td>\n",
       "      <td>72</td>\n",
       "      <td>9</td>\n",
       "    </tr>\n",
       "    <tr>\n",
       "      <th>b</th>\n",
       "      <td>20</td>\n",
       "      <td>80</td>\n",
       "      <td>69</td>\n",
       "    </tr>\n",
       "  </tbody>\n",
       "</table>\n",
       "</div>"
      ],
      "text/plain": [
       "    x   y   y\n",
       "a  81  37  25\n",
       "a  77  72   9\n",
       "b  20  80  69"
      ]
     },
     "execution_count": 73,
     "metadata": {},
     "output_type": "execute_result"
    }
   ],
   "source": [
    "# what happens if a data frame has repeated column names?\n",
    "\n",
    "df = DataFrame(np.random.randint(0, 100, [3, 3]),\n",
    "               index=list('aab'),\n",
    "               columns=list('xyy'))\n",
    "df"
   ]
  },
  {
   "cell_type": "code",
   "execution_count": 74,
   "metadata": {},
   "outputs": [
    {
     "data": {
      "text/html": [
       "<div>\n",
       "<style scoped>\n",
       "    .dataframe tbody tr th:only-of-type {\n",
       "        vertical-align: middle;\n",
       "    }\n",
       "\n",
       "    .dataframe tbody tr th {\n",
       "        vertical-align: top;\n",
       "    }\n",
       "\n",
       "    .dataframe thead th {\n",
       "        text-align: right;\n",
       "    }\n",
       "</style>\n",
       "<table border=\"1\" class=\"dataframe\">\n",
       "  <thead>\n",
       "    <tr style=\"text-align: right;\">\n",
       "      <th></th>\n",
       "      <th>y</th>\n",
       "      <th>y</th>\n",
       "    </tr>\n",
       "  </thead>\n",
       "  <tbody>\n",
       "    <tr>\n",
       "      <th>a</th>\n",
       "      <td>37</td>\n",
       "      <td>25</td>\n",
       "    </tr>\n",
       "    <tr>\n",
       "      <th>a</th>\n",
       "      <td>72</td>\n",
       "      <td>9</td>\n",
       "    </tr>\n",
       "    <tr>\n",
       "      <th>b</th>\n",
       "      <td>80</td>\n",
       "      <td>69</td>\n",
       "    </tr>\n",
       "  </tbody>\n",
       "</table>\n",
       "</div>"
      ],
      "text/plain": [
       "    y   y\n",
       "a  37  25\n",
       "a  72   9\n",
       "b  80  69"
      ]
     },
     "execution_count": 74,
     "metadata": {},
     "output_type": "execute_result"
    }
   ],
   "source": [
    "df['y']"
   ]
  },
  {
   "cell_type": "code",
   "execution_count": 75,
   "metadata": {},
   "outputs": [
    {
     "data": {
      "text/html": [
       "<div>\n",
       "<style scoped>\n",
       "    .dataframe tbody tr th:only-of-type {\n",
       "        vertical-align: middle;\n",
       "    }\n",
       "\n",
       "    .dataframe tbody tr th {\n",
       "        vertical-align: top;\n",
       "    }\n",
       "\n",
       "    .dataframe thead th {\n",
       "        text-align: right;\n",
       "    }\n",
       "</style>\n",
       "<table border=\"1\" class=\"dataframe\">\n",
       "  <thead>\n",
       "    <tr style=\"text-align: right;\">\n",
       "      <th></th>\n",
       "      <th>x</th>\n",
       "      <th>y</th>\n",
       "      <th>y</th>\n",
       "    </tr>\n",
       "  </thead>\n",
       "  <tbody>\n",
       "    <tr>\n",
       "      <th>a</th>\n",
       "      <td>81</td>\n",
       "      <td>10</td>\n",
       "      <td>10</td>\n",
       "    </tr>\n",
       "    <tr>\n",
       "      <th>a</th>\n",
       "      <td>77</td>\n",
       "      <td>20</td>\n",
       "      <td>20</td>\n",
       "    </tr>\n",
       "    <tr>\n",
       "      <th>b</th>\n",
       "      <td>20</td>\n",
       "      <td>30</td>\n",
       "      <td>30</td>\n",
       "    </tr>\n",
       "  </tbody>\n",
       "</table>\n",
       "</div>"
      ],
      "text/plain": [
       "    x   y   y\n",
       "a  81  10  10\n",
       "a  77  20  20\n",
       "b  20  30  30"
      ]
     },
     "execution_count": 75,
     "metadata": {},
     "output_type": "execute_result"
    }
   ],
   "source": [
    "df['y'] = [10, 20, 30]\n",
    "df"
   ]
  },
  {
   "cell_type": "code",
   "execution_count": 77,
   "metadata": {},
   "outputs": [
    {
     "data": {
      "text/plain": [
       "array([False, False,  True])"
      ]
     },
     "execution_count": 77,
     "metadata": {},
     "output_type": "execute_result"
    }
   ],
   "source": [
    "df.columns.duplicated()"
   ]
  },
  {
   "cell_type": "markdown",
   "metadata": {},
   "source": [
    "# Exercise: Semi-realistic example\n",
    "\n",
    "1. Create a data frame with two columns, `age` and `shoesize`. Each row will represent a different person in your family. The index for each row should be the name of the person, and the two columns should be the age and shoe size for that person. Create this twice, first using a list of dicts and then using a dict of lists.\n",
    "2. What is the mean age in your family? How much does this differ from the median? Ask the same about the shoe size. "
   ]
  },
  {
   "cell_type": "code",
   "execution_count": 80,
   "metadata": {},
   "outputs": [
    {
     "data": {
      "text/html": [
       "<div>\n",
       "<style scoped>\n",
       "    .dataframe tbody tr th:only-of-type {\n",
       "        vertical-align: middle;\n",
       "    }\n",
       "\n",
       "    .dataframe tbody tr th {\n",
       "        vertical-align: top;\n",
       "    }\n",
       "\n",
       "    .dataframe thead th {\n",
       "        text-align: right;\n",
       "    }\n",
       "</style>\n",
       "<table border=\"1\" class=\"dataframe\">\n",
       "  <thead>\n",
       "    <tr style=\"text-align: right;\">\n",
       "      <th></th>\n",
       "      <th>age</th>\n",
       "      <th>shoesize</th>\n",
       "    </tr>\n",
       "  </thead>\n",
       "  <tbody>\n",
       "    <tr>\n",
       "      <th>Atara</th>\n",
       "      <td>23</td>\n",
       "      <td>40</td>\n",
       "    </tr>\n",
       "    <tr>\n",
       "      <th>Shikma</th>\n",
       "      <td>21</td>\n",
       "      <td>40</td>\n",
       "    </tr>\n",
       "    <tr>\n",
       "      <th>Amotz</th>\n",
       "      <td>19</td>\n",
       "      <td>44</td>\n",
       "    </tr>\n",
       "    <tr>\n",
       "      <th>Reuven</th>\n",
       "      <td>54</td>\n",
       "      <td>46</td>\n",
       "    </tr>\n",
       "  </tbody>\n",
       "</table>\n",
       "</div>"
      ],
      "text/plain": [
       "        age  shoesize\n",
       "Atara    23        40\n",
       "Shikma   21        40\n",
       "Amotz    19        44\n",
       "Reuven   54        46"
      ]
     },
     "execution_count": 80,
     "metadata": {},
     "output_type": "execute_result"
    }
   ],
   "source": [
    "# list of dicts -- we describe the rows\n",
    "\n",
    "df = DataFrame([{'age': 23, 'shoesize':40},\n",
    "                {'age': 21, 'shoesize': 40},\n",
    "                {'age': 19, 'shoesize':44},\n",
    "                {'age': 54, 'shoesize':46}],\n",
    "              index=['Atara', 'Shikma', 'Amotz', 'Reuven'])\n",
    "df"
   ]
  },
  {
   "cell_type": "code",
   "execution_count": 81,
   "metadata": {},
   "outputs": [
    {
     "data": {
      "text/plain": [
       "age         54\n",
       "shoesize    46\n",
       "Name: Reuven, dtype: int64"
      ]
     },
     "execution_count": 81,
     "metadata": {},
     "output_type": "execute_result"
    }
   ],
   "source": [
    "df.loc['Reuven']"
   ]
  },
  {
   "cell_type": "code",
   "execution_count": 82,
   "metadata": {},
   "outputs": [
    {
     "data": {
      "text/html": [
       "<div>\n",
       "<style scoped>\n",
       "    .dataframe tbody tr th:only-of-type {\n",
       "        vertical-align: middle;\n",
       "    }\n",
       "\n",
       "    .dataframe tbody tr th {\n",
       "        vertical-align: top;\n",
       "    }\n",
       "\n",
       "    .dataframe thead th {\n",
       "        text-align: right;\n",
       "    }\n",
       "</style>\n",
       "<table border=\"1\" class=\"dataframe\">\n",
       "  <thead>\n",
       "    <tr style=\"text-align: right;\">\n",
       "      <th></th>\n",
       "      <th>age</th>\n",
       "      <th>shoesize</th>\n",
       "    </tr>\n",
       "  </thead>\n",
       "  <tbody>\n",
       "    <tr>\n",
       "      <th>Atara</th>\n",
       "      <td>23</td>\n",
       "      <td>40</td>\n",
       "    </tr>\n",
       "    <tr>\n",
       "      <th>Shikma</th>\n",
       "      <td>21</td>\n",
       "      <td>40</td>\n",
       "    </tr>\n",
       "    <tr>\n",
       "      <th>Amotz</th>\n",
       "      <td>19</td>\n",
       "      <td>44</td>\n",
       "    </tr>\n",
       "    <tr>\n",
       "      <th>Reuven</th>\n",
       "      <td>54</td>\n",
       "      <td>46</td>\n",
       "    </tr>\n",
       "  </tbody>\n",
       "</table>\n",
       "</div>"
      ],
      "text/plain": [
       "        age  shoesize\n",
       "Atara    23        40\n",
       "Shikma   21        40\n",
       "Amotz    19        44\n",
       "Reuven   54        46"
      ]
     },
     "execution_count": 82,
     "metadata": {},
     "output_type": "execute_result"
    }
   ],
   "source": [
    "# create this as a dict of lists\n",
    "\n",
    "df = DataFrame({'age':[23, 21, 19, 54],\n",
    "                'shoesize':[40, 40, 44, 46]},\n",
    "               index=['Atara', 'Shikma', 'Amotz', 'Reuven'])\n",
    "df"
   ]
  },
  {
   "cell_type": "code",
   "execution_count": 83,
   "metadata": {},
   "outputs": [
    {
     "data": {
      "text/plain": [
       "np.float64(29.25)"
      ]
     },
     "execution_count": 83,
     "metadata": {},
     "output_type": "execute_result"
    }
   ],
   "source": [
    "df['age'].mean()"
   ]
  },
  {
   "cell_type": "code",
   "execution_count": 84,
   "metadata": {},
   "outputs": [
    {
     "data": {
      "text/plain": [
       "np.float64(22.0)"
      ]
     },
     "execution_count": 84,
     "metadata": {},
     "output_type": "execute_result"
    }
   ],
   "source": [
    "df['age'].median()"
   ]
  },
  {
   "cell_type": "code",
   "execution_count": 85,
   "metadata": {},
   "outputs": [
    {
     "data": {
      "text/plain": [
       "np.float64(42.5)"
      ]
     },
     "execution_count": 85,
     "metadata": {},
     "output_type": "execute_result"
    }
   ],
   "source": [
    "df['shoesize'].mean()"
   ]
  },
  {
   "cell_type": "code",
   "execution_count": 86,
   "metadata": {},
   "outputs": [
    {
     "data": {
      "text/plain": [
       "np.float64(42.0)"
      ]
     },
     "execution_count": 86,
     "metadata": {},
     "output_type": "execute_result"
    }
   ],
   "source": [
    "df['shoesize'].median()"
   ]
  },
  {
   "cell_type": "code",
   "execution_count": 87,
   "metadata": {},
   "outputs": [
    {
     "data": {
      "text/plain": [
       "age         29.25\n",
       "shoesize    42.50\n",
       "dtype: float64"
      ]
     },
     "execution_count": 87,
     "metadata": {},
     "output_type": "execute_result"
    }
   ],
   "source": [
    "df.mean()"
   ]
  },
  {
   "cell_type": "code",
   "execution_count": 88,
   "metadata": {},
   "outputs": [
    {
     "data": {
      "text/plain": [
       "age         22.0\n",
       "shoesize    42.0\n",
       "dtype: float64"
      ]
     },
     "execution_count": 88,
     "metadata": {},
     "output_type": "execute_result"
    }
   ],
   "source": [
    "df.median()"
   ]
  },
  {
   "cell_type": "code",
   "execution_count": 89,
   "metadata": {},
   "outputs": [
    {
     "data": {
      "text/html": [
       "<div>\n",
       "<style scoped>\n",
       "    .dataframe tbody tr th:only-of-type {\n",
       "        vertical-align: middle;\n",
       "    }\n",
       "\n",
       "    .dataframe tbody tr th {\n",
       "        vertical-align: top;\n",
       "    }\n",
       "\n",
       "    .dataframe thead th {\n",
       "        text-align: right;\n",
       "    }\n",
       "</style>\n",
       "<table border=\"1\" class=\"dataframe\">\n",
       "  <thead>\n",
       "    <tr style=\"text-align: right;\">\n",
       "      <th></th>\n",
       "      <th>age</th>\n",
       "      <th>shoesize</th>\n",
       "    </tr>\n",
       "  </thead>\n",
       "  <tbody>\n",
       "    <tr>\n",
       "      <th>count</th>\n",
       "      <td>4.000000</td>\n",
       "      <td>4.0</td>\n",
       "    </tr>\n",
       "    <tr>\n",
       "      <th>mean</th>\n",
       "      <td>29.250000</td>\n",
       "      <td>42.5</td>\n",
       "    </tr>\n",
       "    <tr>\n",
       "      <th>std</th>\n",
       "      <td>16.580611</td>\n",
       "      <td>3.0</td>\n",
       "    </tr>\n",
       "    <tr>\n",
       "      <th>min</th>\n",
       "      <td>19.000000</td>\n",
       "      <td>40.0</td>\n",
       "    </tr>\n",
       "    <tr>\n",
       "      <th>25%</th>\n",
       "      <td>20.500000</td>\n",
       "      <td>40.0</td>\n",
       "    </tr>\n",
       "    <tr>\n",
       "      <th>50%</th>\n",
       "      <td>22.000000</td>\n",
       "      <td>42.0</td>\n",
       "    </tr>\n",
       "    <tr>\n",
       "      <th>75%</th>\n",
       "      <td>30.750000</td>\n",
       "      <td>44.5</td>\n",
       "    </tr>\n",
       "    <tr>\n",
       "      <th>max</th>\n",
       "      <td>54.000000</td>\n",
       "      <td>46.0</td>\n",
       "    </tr>\n",
       "  </tbody>\n",
       "</table>\n",
       "</div>"
      ],
      "text/plain": [
       "             age  shoesize\n",
       "count   4.000000       4.0\n",
       "mean   29.250000      42.5\n",
       "std    16.580611       3.0\n",
       "min    19.000000      40.0\n",
       "25%    20.500000      40.0\n",
       "50%    22.000000      42.0\n",
       "75%    30.750000      44.5\n",
       "max    54.000000      46.0"
      ]
     },
     "execution_count": 89,
     "metadata": {},
     "output_type": "execute_result"
    }
   ],
   "source": [
    "df.describe()"
   ]
  },
  {
   "cell_type": "code",
   "execution_count": 91,
   "metadata": {},
   "outputs": [
    {
     "data": {
      "text/html": [
       "<div>\n",
       "<style scoped>\n",
       "    .dataframe tbody tr th:only-of-type {\n",
       "        vertical-align: middle;\n",
       "    }\n",
       "\n",
       "    .dataframe tbody tr th {\n",
       "        vertical-align: top;\n",
       "    }\n",
       "\n",
       "    .dataframe thead th {\n",
       "        text-align: right;\n",
       "    }\n",
       "</style>\n",
       "<table border=\"1\" class=\"dataframe\">\n",
       "  <thead>\n",
       "    <tr style=\"text-align: right;\">\n",
       "      <th></th>\n",
       "      <th>age</th>\n",
       "      <th>shoesize</th>\n",
       "    </tr>\n",
       "  </thead>\n",
       "  <tbody>\n",
       "    <tr>\n",
       "      <th>mean</th>\n",
       "      <td>29.25</td>\n",
       "      <td>42.5</td>\n",
       "    </tr>\n",
       "    <tr>\n",
       "      <th>50%</th>\n",
       "      <td>22.00</td>\n",
       "      <td>42.0</td>\n",
       "    </tr>\n",
       "  </tbody>\n",
       "</table>\n",
       "</div>"
      ],
      "text/plain": [
       "        age  shoesize\n",
       "mean  29.25      42.5\n",
       "50%   22.00      42.0"
      ]
     },
     "execution_count": 91,
     "metadata": {},
     "output_type": "execute_result"
    }
   ],
   "source": [
    "# df.describe returns a data frame!\n",
    "# I can choose which rows I want\n",
    "\n",
    "df.describe().loc[['mean', '50%']]"
   ]
  },
  {
   "cell_type": "code",
   "execution_count": 93,
   "metadata": {},
   "outputs": [
    {
     "name": "stdout",
     "output_type": "stream",
     "text": [
      "1.39 ms ± 33.6 μs per loop (mean ± std. dev. of 7 runs, 1,000 loops each)\n"
     ]
    }
   ],
   "source": [
    "%timeit df.describe().loc[['mean', '50%']]"
   ]
  },
  {
   "cell_type": "code",
   "execution_count": 92,
   "metadata": {},
   "outputs": [
    {
     "data": {
      "text/html": [
       "<div>\n",
       "<style scoped>\n",
       "    .dataframe tbody tr th:only-of-type {\n",
       "        vertical-align: middle;\n",
       "    }\n",
       "\n",
       "    .dataframe tbody tr th {\n",
       "        vertical-align: top;\n",
       "    }\n",
       "\n",
       "    .dataframe thead th {\n",
       "        text-align: right;\n",
       "    }\n",
       "</style>\n",
       "<table border=\"1\" class=\"dataframe\">\n",
       "  <thead>\n",
       "    <tr style=\"text-align: right;\">\n",
       "      <th></th>\n",
       "      <th>age</th>\n",
       "      <th>shoesize</th>\n",
       "    </tr>\n",
       "  </thead>\n",
       "  <tbody>\n",
       "    <tr>\n",
       "      <th>mean</th>\n",
       "      <td>24.510076</td>\n",
       "      <td>32.75</td>\n",
       "    </tr>\n",
       "    <tr>\n",
       "      <th>median</th>\n",
       "      <td>21.250000</td>\n",
       "      <td>41.00</td>\n",
       "    </tr>\n",
       "  </tbody>\n",
       "</table>\n",
       "</div>"
      ],
      "text/plain": [
       "              age  shoesize\n",
       "mean    24.510076     32.75\n",
       "median  21.250000     41.00"
      ]
     },
     "execution_count": 92,
     "metadata": {},
     "output_type": "execute_result"
    }
   ],
   "source": [
    "# the 'agg' method lets us run more than one aggregation method, and returns the results for all\n",
    "df.describe().agg(['mean', 'median'])"
   ]
  },
  {
   "cell_type": "code",
   "execution_count": 94,
   "metadata": {},
   "outputs": [
    {
     "name": "stdout",
     "output_type": "stream",
     "text": [
      "1.99 ms ± 83.1 μs per loop (mean ± std. dev. of 7 runs, 100 loops each)\n"
     ]
    }
   ],
   "source": [
    "%timeit df.describe().agg(['mean', 'median'])"
   ]
  },
  {
   "cell_type": "markdown",
   "metadata": {},
   "source": [
    "# A few more convenience methods on data frames"
   ]
  },
  {
   "cell_type": "code",
   "execution_count": 96,
   "metadata": {},
   "outputs": [
    {
     "data": {
      "text/html": [
       "<div>\n",
       "<style scoped>\n",
       "    .dataframe tbody tr th:only-of-type {\n",
       "        vertical-align: middle;\n",
       "    }\n",
       "\n",
       "    .dataframe tbody tr th {\n",
       "        vertical-align: top;\n",
       "    }\n",
       "\n",
       "    .dataframe thead th {\n",
       "        text-align: right;\n",
       "    }\n",
       "</style>\n",
       "<table border=\"1\" class=\"dataframe\">\n",
       "  <thead>\n",
       "    <tr style=\"text-align: right;\">\n",
       "      <th></th>\n",
       "      <th>q</th>\n",
       "      <th>r</th>\n",
       "      <th>s</th>\n",
       "      <th>t</th>\n",
       "      <th>u</th>\n",
       "      <th>v</th>\n",
       "      <th>w</th>\n",
       "      <th>x</th>\n",
       "      <th>y</th>\n",
       "      <th>z</th>\n",
       "    </tr>\n",
       "  </thead>\n",
       "  <tbody>\n",
       "    <tr>\n",
       "      <th>a</th>\n",
       "      <td>684</td>\n",
       "      <td>559</td>\n",
       "      <td>629</td>\n",
       "      <td>192</td>\n",
       "      <td>835</td>\n",
       "      <td>763</td>\n",
       "      <td>707</td>\n",
       "      <td>359</td>\n",
       "      <td>9</td>\n",
       "      <td>723</td>\n",
       "    </tr>\n",
       "    <tr>\n",
       "      <th>b</th>\n",
       "      <td>277</td>\n",
       "      <td>754</td>\n",
       "      <td>804</td>\n",
       "      <td>599</td>\n",
       "      <td>70</td>\n",
       "      <td>472</td>\n",
       "      <td>600</td>\n",
       "      <td>396</td>\n",
       "      <td>314</td>\n",
       "      <td>705</td>\n",
       "    </tr>\n",
       "    <tr>\n",
       "      <th>c</th>\n",
       "      <td>486</td>\n",
       "      <td>551</td>\n",
       "      <td>87</td>\n",
       "      <td>174</td>\n",
       "      <td>600</td>\n",
       "      <td>849</td>\n",
       "      <td>677</td>\n",
       "      <td>537</td>\n",
       "      <td>845</td>\n",
       "      <td>72</td>\n",
       "    </tr>\n",
       "    <tr>\n",
       "      <th>d</th>\n",
       "      <td>777</td>\n",
       "      <td>916</td>\n",
       "      <td>115</td>\n",
       "      <td>976</td>\n",
       "      <td>755</td>\n",
       "      <td>709</td>\n",
       "      <td>847</td>\n",
       "      <td>431</td>\n",
       "      <td>448</td>\n",
       "      <td>850</td>\n",
       "    </tr>\n",
       "    <tr>\n",
       "      <th>e</th>\n",
       "      <td>99</td>\n",
       "      <td>984</td>\n",
       "      <td>177</td>\n",
       "      <td>755</td>\n",
       "      <td>797</td>\n",
       "      <td>659</td>\n",
       "      <td>147</td>\n",
       "      <td>910</td>\n",
       "      <td>423</td>\n",
       "      <td>288</td>\n",
       "    </tr>\n",
       "    <tr>\n",
       "      <th>f</th>\n",
       "      <td>961</td>\n",
       "      <td>265</td>\n",
       "      <td>697</td>\n",
       "      <td>639</td>\n",
       "      <td>544</td>\n",
       "      <td>543</td>\n",
       "      <td>714</td>\n",
       "      <td>244</td>\n",
       "      <td>151</td>\n",
       "      <td>675</td>\n",
       "    </tr>\n",
       "    <tr>\n",
       "      <th>g</th>\n",
       "      <td>510</td>\n",
       "      <td>459</td>\n",
       "      <td>882</td>\n",
       "      <td>183</td>\n",
       "      <td>28</td>\n",
       "      <td>802</td>\n",
       "      <td>128</td>\n",
       "      <td>128</td>\n",
       "      <td>932</td>\n",
       "      <td>53</td>\n",
       "    </tr>\n",
       "    <tr>\n",
       "      <th>h</th>\n",
       "      <td>901</td>\n",
       "      <td>550</td>\n",
       "      <td>488</td>\n",
       "      <td>756</td>\n",
       "      <td>273</td>\n",
       "      <td>335</td>\n",
       "      <td>388</td>\n",
       "      <td>617</td>\n",
       "      <td>42</td>\n",
       "      <td>442</td>\n",
       "    </tr>\n",
       "  </tbody>\n",
       "</table>\n",
       "</div>"
      ],
      "text/plain": [
       "     q    r    s    t    u    v    w    x    y    z\n",
       "a  684  559  629  192  835  763  707  359    9  723\n",
       "b  277  754  804  599   70  472  600  396  314  705\n",
       "c  486  551   87  174  600  849  677  537  845   72\n",
       "d  777  916  115  976  755  709  847  431  448  850\n",
       "e   99  984  177  755  797  659  147  910  423  288\n",
       "f  961  265  697  639  544  543  714  244  151  675\n",
       "g  510  459  882  183   28  802  128  128  932   53\n",
       "h  901  550  488  756  273  335  388  617   42  442"
      ]
     },
     "execution_count": 96,
     "metadata": {},
     "output_type": "execute_result"
    }
   ],
   "source": [
    "# head and tail also work!\n",
    "\n",
    "np.random.seed(0)\n",
    "df = DataFrame(np.random.randint(0, 1000, [8, 10]),\n",
    "               index=list('abcdefgh'),\n",
    "               columns=list('qrstuvwxyz'))\n",
    "df"
   ]
  },
  {
   "cell_type": "code",
   "execution_count": 97,
   "metadata": {},
   "outputs": [
    {
     "data": {
      "text/html": [
       "<div>\n",
       "<style scoped>\n",
       "    .dataframe tbody tr th:only-of-type {\n",
       "        vertical-align: middle;\n",
       "    }\n",
       "\n",
       "    .dataframe tbody tr th {\n",
       "        vertical-align: top;\n",
       "    }\n",
       "\n",
       "    .dataframe thead th {\n",
       "        text-align: right;\n",
       "    }\n",
       "</style>\n",
       "<table border=\"1\" class=\"dataframe\">\n",
       "  <thead>\n",
       "    <tr style=\"text-align: right;\">\n",
       "      <th></th>\n",
       "      <th>q</th>\n",
       "      <th>r</th>\n",
       "      <th>s</th>\n",
       "      <th>t</th>\n",
       "      <th>u</th>\n",
       "      <th>v</th>\n",
       "      <th>w</th>\n",
       "      <th>x</th>\n",
       "      <th>y</th>\n",
       "      <th>z</th>\n",
       "    </tr>\n",
       "  </thead>\n",
       "  <tbody>\n",
       "    <tr>\n",
       "      <th>a</th>\n",
       "      <td>684</td>\n",
       "      <td>559</td>\n",
       "      <td>629</td>\n",
       "      <td>192</td>\n",
       "      <td>835</td>\n",
       "      <td>763</td>\n",
       "      <td>707</td>\n",
       "      <td>359</td>\n",
       "      <td>9</td>\n",
       "      <td>723</td>\n",
       "    </tr>\n",
       "    <tr>\n",
       "      <th>b</th>\n",
       "      <td>277</td>\n",
       "      <td>754</td>\n",
       "      <td>804</td>\n",
       "      <td>599</td>\n",
       "      <td>70</td>\n",
       "      <td>472</td>\n",
       "      <td>600</td>\n",
       "      <td>396</td>\n",
       "      <td>314</td>\n",
       "      <td>705</td>\n",
       "    </tr>\n",
       "    <tr>\n",
       "      <th>c</th>\n",
       "      <td>486</td>\n",
       "      <td>551</td>\n",
       "      <td>87</td>\n",
       "      <td>174</td>\n",
       "      <td>600</td>\n",
       "      <td>849</td>\n",
       "      <td>677</td>\n",
       "      <td>537</td>\n",
       "      <td>845</td>\n",
       "      <td>72</td>\n",
       "    </tr>\n",
       "    <tr>\n",
       "      <th>d</th>\n",
       "      <td>777</td>\n",
       "      <td>916</td>\n",
       "      <td>115</td>\n",
       "      <td>976</td>\n",
       "      <td>755</td>\n",
       "      <td>709</td>\n",
       "      <td>847</td>\n",
       "      <td>431</td>\n",
       "      <td>448</td>\n",
       "      <td>850</td>\n",
       "    </tr>\n",
       "    <tr>\n",
       "      <th>e</th>\n",
       "      <td>99</td>\n",
       "      <td>984</td>\n",
       "      <td>177</td>\n",
       "      <td>755</td>\n",
       "      <td>797</td>\n",
       "      <td>659</td>\n",
       "      <td>147</td>\n",
       "      <td>910</td>\n",
       "      <td>423</td>\n",
       "      <td>288</td>\n",
       "    </tr>\n",
       "  </tbody>\n",
       "</table>\n",
       "</div>"
      ],
      "text/plain": [
       "     q    r    s    t    u    v    w    x    y    z\n",
       "a  684  559  629  192  835  763  707  359    9  723\n",
       "b  277  754  804  599   70  472  600  396  314  705\n",
       "c  486  551   87  174  600  849  677  537  845   72\n",
       "d  777  916  115  976  755  709  847  431  448  850\n",
       "e   99  984  177  755  797  659  147  910  423  288"
      ]
     },
     "execution_count": 97,
     "metadata": {},
     "output_type": "execute_result"
    }
   ],
   "source": [
    "df.head()   # returns the first 5 rows"
   ]
  },
  {
   "cell_type": "code",
   "execution_count": 98,
   "metadata": {},
   "outputs": [
    {
     "data": {
      "text/html": [
       "<div>\n",
       "<style scoped>\n",
       "    .dataframe tbody tr th:only-of-type {\n",
       "        vertical-align: middle;\n",
       "    }\n",
       "\n",
       "    .dataframe tbody tr th {\n",
       "        vertical-align: top;\n",
       "    }\n",
       "\n",
       "    .dataframe thead th {\n",
       "        text-align: right;\n",
       "    }\n",
       "</style>\n",
       "<table border=\"1\" class=\"dataframe\">\n",
       "  <thead>\n",
       "    <tr style=\"text-align: right;\">\n",
       "      <th></th>\n",
       "      <th>q</th>\n",
       "      <th>r</th>\n",
       "      <th>s</th>\n",
       "      <th>t</th>\n",
       "      <th>u</th>\n",
       "      <th>v</th>\n",
       "      <th>w</th>\n",
       "      <th>x</th>\n",
       "      <th>y</th>\n",
       "      <th>z</th>\n",
       "    </tr>\n",
       "  </thead>\n",
       "  <tbody>\n",
       "    <tr>\n",
       "      <th>a</th>\n",
       "      <td>684</td>\n",
       "      <td>559</td>\n",
       "      <td>629</td>\n",
       "      <td>192</td>\n",
       "      <td>835</td>\n",
       "      <td>763</td>\n",
       "      <td>707</td>\n",
       "      <td>359</td>\n",
       "      <td>9</td>\n",
       "      <td>723</td>\n",
       "    </tr>\n",
       "    <tr>\n",
       "      <th>b</th>\n",
       "      <td>277</td>\n",
       "      <td>754</td>\n",
       "      <td>804</td>\n",
       "      <td>599</td>\n",
       "      <td>70</td>\n",
       "      <td>472</td>\n",
       "      <td>600</td>\n",
       "      <td>396</td>\n",
       "      <td>314</td>\n",
       "      <td>705</td>\n",
       "    </tr>\n",
       "  </tbody>\n",
       "</table>\n",
       "</div>"
      ],
      "text/plain": [
       "     q    r    s    t    u    v    w    x    y    z\n",
       "a  684  559  629  192  835  763  707  359    9  723\n",
       "b  277  754  804  599   70  472  600  396  314  705"
      ]
     },
     "execution_count": 98,
     "metadata": {},
     "output_type": "execute_result"
    }
   ],
   "source": [
    "df.head(2)"
   ]
  },
  {
   "cell_type": "code",
   "execution_count": 99,
   "metadata": {},
   "outputs": [
    {
     "data": {
      "text/html": [
       "<div>\n",
       "<style scoped>\n",
       "    .dataframe tbody tr th:only-of-type {\n",
       "        vertical-align: middle;\n",
       "    }\n",
       "\n",
       "    .dataframe tbody tr th {\n",
       "        vertical-align: top;\n",
       "    }\n",
       "\n",
       "    .dataframe thead th {\n",
       "        text-align: right;\n",
       "    }\n",
       "</style>\n",
       "<table border=\"1\" class=\"dataframe\">\n",
       "  <thead>\n",
       "    <tr style=\"text-align: right;\">\n",
       "      <th></th>\n",
       "      <th>q</th>\n",
       "      <th>r</th>\n",
       "      <th>s</th>\n",
       "      <th>t</th>\n",
       "      <th>u</th>\n",
       "      <th>v</th>\n",
       "      <th>w</th>\n",
       "      <th>x</th>\n",
       "      <th>y</th>\n",
       "      <th>z</th>\n",
       "    </tr>\n",
       "  </thead>\n",
       "  <tbody>\n",
       "    <tr>\n",
       "      <th>d</th>\n",
       "      <td>777</td>\n",
       "      <td>916</td>\n",
       "      <td>115</td>\n",
       "      <td>976</td>\n",
       "      <td>755</td>\n",
       "      <td>709</td>\n",
       "      <td>847</td>\n",
       "      <td>431</td>\n",
       "      <td>448</td>\n",
       "      <td>850</td>\n",
       "    </tr>\n",
       "    <tr>\n",
       "      <th>e</th>\n",
       "      <td>99</td>\n",
       "      <td>984</td>\n",
       "      <td>177</td>\n",
       "      <td>755</td>\n",
       "      <td>797</td>\n",
       "      <td>659</td>\n",
       "      <td>147</td>\n",
       "      <td>910</td>\n",
       "      <td>423</td>\n",
       "      <td>288</td>\n",
       "    </tr>\n",
       "    <tr>\n",
       "      <th>f</th>\n",
       "      <td>961</td>\n",
       "      <td>265</td>\n",
       "      <td>697</td>\n",
       "      <td>639</td>\n",
       "      <td>544</td>\n",
       "      <td>543</td>\n",
       "      <td>714</td>\n",
       "      <td>244</td>\n",
       "      <td>151</td>\n",
       "      <td>675</td>\n",
       "    </tr>\n",
       "    <tr>\n",
       "      <th>g</th>\n",
       "      <td>510</td>\n",
       "      <td>459</td>\n",
       "      <td>882</td>\n",
       "      <td>183</td>\n",
       "      <td>28</td>\n",
       "      <td>802</td>\n",
       "      <td>128</td>\n",
       "      <td>128</td>\n",
       "      <td>932</td>\n",
       "      <td>53</td>\n",
       "    </tr>\n",
       "    <tr>\n",
       "      <th>h</th>\n",
       "      <td>901</td>\n",
       "      <td>550</td>\n",
       "      <td>488</td>\n",
       "      <td>756</td>\n",
       "      <td>273</td>\n",
       "      <td>335</td>\n",
       "      <td>388</td>\n",
       "      <td>617</td>\n",
       "      <td>42</td>\n",
       "      <td>442</td>\n",
       "    </tr>\n",
       "  </tbody>\n",
       "</table>\n",
       "</div>"
      ],
      "text/plain": [
       "     q    r    s    t    u    v    w    x    y    z\n",
       "d  777  916  115  976  755  709  847  431  448  850\n",
       "e   99  984  177  755  797  659  147  910  423  288\n",
       "f  961  265  697  639  544  543  714  244  151  675\n",
       "g  510  459  882  183   28  802  128  128  932   53\n",
       "h  901  550  488  756  273  335  388  617   42  442"
      ]
     },
     "execution_count": 99,
     "metadata": {},
     "output_type": "execute_result"
    }
   ],
   "source": [
    "df.tail()"
   ]
  },
  {
   "cell_type": "code",
   "execution_count": 100,
   "metadata": {},
   "outputs": [
    {
     "data": {
      "text/plain": [
       "q    int64\n",
       "r    int64\n",
       "s    int64\n",
       "t    int64\n",
       "u    int64\n",
       "v    int64\n",
       "w    int64\n",
       "x    int64\n",
       "y    int64\n",
       "z    int64\n",
       "dtype: object"
      ]
     },
     "execution_count": 100,
     "metadata": {},
     "output_type": "execute_result"
    }
   ],
   "source": [
    "df.dtypes  # which dtype for each column?"
   ]
  },
  {
   "cell_type": "code",
   "execution_count": 101,
   "metadata": {},
   "outputs": [
    {
     "name": "stdout",
     "output_type": "stream",
     "text": [
      "<class 'pandas.core.frame.DataFrame'>\n",
      "Index: 8 entries, a to h\n",
      "Data columns (total 10 columns):\n",
      " #   Column  Non-Null Count  Dtype\n",
      "---  ------  --------------  -----\n",
      " 0   q       8 non-null      int64\n",
      " 1   r       8 non-null      int64\n",
      " 2   s       8 non-null      int64\n",
      " 3   t       8 non-null      int64\n",
      " 4   u       8 non-null      int64\n",
      " 5   v       8 non-null      int64\n",
      " 6   w       8 non-null      int64\n",
      " 7   x       8 non-null      int64\n",
      " 8   y       8 non-null      int64\n",
      " 9   z       8 non-null      int64\n",
      "dtypes: int64(10)\n",
      "memory usage: 704.0+ bytes\n"
     ]
    }
   ],
   "source": [
    "# this gives us information about the data frame itself \n",
    "\n",
    "df.info()  "
   ]
  },
  {
   "cell_type": "code",
   "execution_count": 103,
   "metadata": {},
   "outputs": [],
   "source": [
    "# what about nan?\n",
    "\n",
    "df.loc['a', 't'] = np.nan\n",
    "df.loc['a', 'z'] = np.nan\n",
    "df.loc['b', 'u'] = np.nan\n",
    "df.loc['c', 'w'] = np.nan\n",
    "df.loc['f', 'q'] = np.nan\n",
    "df.loc['g', 'q'] = np.nan\n"
   ]
  },
  {
   "cell_type": "code",
   "execution_count": 104,
   "metadata": {},
   "outputs": [
    {
     "data": {
      "text/html": [
       "<div>\n",
       "<style scoped>\n",
       "    .dataframe tbody tr th:only-of-type {\n",
       "        vertical-align: middle;\n",
       "    }\n",
       "\n",
       "    .dataframe tbody tr th {\n",
       "        vertical-align: top;\n",
       "    }\n",
       "\n",
       "    .dataframe thead th {\n",
       "        text-align: right;\n",
       "    }\n",
       "</style>\n",
       "<table border=\"1\" class=\"dataframe\">\n",
       "  <thead>\n",
       "    <tr style=\"text-align: right;\">\n",
       "      <th></th>\n",
       "      <th>q</th>\n",
       "      <th>r</th>\n",
       "      <th>s</th>\n",
       "      <th>t</th>\n",
       "      <th>u</th>\n",
       "      <th>v</th>\n",
       "      <th>w</th>\n",
       "      <th>x</th>\n",
       "      <th>y</th>\n",
       "      <th>z</th>\n",
       "    </tr>\n",
       "  </thead>\n",
       "  <tbody>\n",
       "    <tr>\n",
       "      <th>a</th>\n",
       "      <td>684.0</td>\n",
       "      <td>559</td>\n",
       "      <td>629</td>\n",
       "      <td>NaN</td>\n",
       "      <td>835.0</td>\n",
       "      <td>763</td>\n",
       "      <td>707.0</td>\n",
       "      <td>359</td>\n",
       "      <td>9</td>\n",
       "      <td>NaN</td>\n",
       "    </tr>\n",
       "    <tr>\n",
       "      <th>b</th>\n",
       "      <td>277.0</td>\n",
       "      <td>754</td>\n",
       "      <td>804</td>\n",
       "      <td>599.0</td>\n",
       "      <td>NaN</td>\n",
       "      <td>472</td>\n",
       "      <td>600.0</td>\n",
       "      <td>396</td>\n",
       "      <td>314</td>\n",
       "      <td>705.0</td>\n",
       "    </tr>\n",
       "    <tr>\n",
       "      <th>c</th>\n",
       "      <td>486.0</td>\n",
       "      <td>551</td>\n",
       "      <td>87</td>\n",
       "      <td>174.0</td>\n",
       "      <td>600.0</td>\n",
       "      <td>849</td>\n",
       "      <td>NaN</td>\n",
       "      <td>537</td>\n",
       "      <td>845</td>\n",
       "      <td>72.0</td>\n",
       "    </tr>\n",
       "    <tr>\n",
       "      <th>d</th>\n",
       "      <td>777.0</td>\n",
       "      <td>916</td>\n",
       "      <td>115</td>\n",
       "      <td>976.0</td>\n",
       "      <td>755.0</td>\n",
       "      <td>709</td>\n",
       "      <td>847.0</td>\n",
       "      <td>431</td>\n",
       "      <td>448</td>\n",
       "      <td>850.0</td>\n",
       "    </tr>\n",
       "    <tr>\n",
       "      <th>e</th>\n",
       "      <td>99.0</td>\n",
       "      <td>984</td>\n",
       "      <td>177</td>\n",
       "      <td>755.0</td>\n",
       "      <td>797.0</td>\n",
       "      <td>659</td>\n",
       "      <td>147.0</td>\n",
       "      <td>910</td>\n",
       "      <td>423</td>\n",
       "      <td>288.0</td>\n",
       "    </tr>\n",
       "    <tr>\n",
       "      <th>f</th>\n",
       "      <td>NaN</td>\n",
       "      <td>265</td>\n",
       "      <td>697</td>\n",
       "      <td>639.0</td>\n",
       "      <td>544.0</td>\n",
       "      <td>543</td>\n",
       "      <td>714.0</td>\n",
       "      <td>244</td>\n",
       "      <td>151</td>\n",
       "      <td>675.0</td>\n",
       "    </tr>\n",
       "    <tr>\n",
       "      <th>g</th>\n",
       "      <td>NaN</td>\n",
       "      <td>459</td>\n",
       "      <td>882</td>\n",
       "      <td>183.0</td>\n",
       "      <td>28.0</td>\n",
       "      <td>802</td>\n",
       "      <td>128.0</td>\n",
       "      <td>128</td>\n",
       "      <td>932</td>\n",
       "      <td>53.0</td>\n",
       "    </tr>\n",
       "    <tr>\n",
       "      <th>h</th>\n",
       "      <td>901.0</td>\n",
       "      <td>550</td>\n",
       "      <td>488</td>\n",
       "      <td>756.0</td>\n",
       "      <td>273.0</td>\n",
       "      <td>335</td>\n",
       "      <td>388.0</td>\n",
       "      <td>617</td>\n",
       "      <td>42</td>\n",
       "      <td>442.0</td>\n",
       "    </tr>\n",
       "  </tbody>\n",
       "</table>\n",
       "</div>"
      ],
      "text/plain": [
       "       q    r    s      t      u    v      w    x    y      z\n",
       "a  684.0  559  629    NaN  835.0  763  707.0  359    9    NaN\n",
       "b  277.0  754  804  599.0    NaN  472  600.0  396  314  705.0\n",
       "c  486.0  551   87  174.0  600.0  849    NaN  537  845   72.0\n",
       "d  777.0  916  115  976.0  755.0  709  847.0  431  448  850.0\n",
       "e   99.0  984  177  755.0  797.0  659  147.0  910  423  288.0\n",
       "f    NaN  265  697  639.0  544.0  543  714.0  244  151  675.0\n",
       "g    NaN  459  882  183.0   28.0  802  128.0  128  932   53.0\n",
       "h  901.0  550  488  756.0  273.0  335  388.0  617   42  442.0"
      ]
     },
     "execution_count": 104,
     "metadata": {},
     "output_type": "execute_result"
    }
   ],
   "source": [
    "df"
   ]
  },
  {
   "cell_type": "code",
   "execution_count": 105,
   "metadata": {},
   "outputs": [
    {
     "data": {
      "text/plain": [
       "q    float64\n",
       "r      int64\n",
       "s      int64\n",
       "t    float64\n",
       "u    float64\n",
       "v      int64\n",
       "w    float64\n",
       "x      int64\n",
       "y      int64\n",
       "z    float64\n",
       "dtype: object"
      ]
     },
     "execution_count": 105,
     "metadata": {},
     "output_type": "execute_result"
    }
   ],
   "source": [
    "df.dtypes"
   ]
  },
  {
   "cell_type": "code",
   "execution_count": 106,
   "metadata": {},
   "outputs": [],
   "source": [
    "# how do we deal with missing data?\n",
    "# - dropna\n",
    "# - fillna"
   ]
  },
  {
   "cell_type": "code",
   "execution_count": 107,
   "metadata": {},
   "outputs": [
    {
     "data": {
      "text/html": [
       "<div>\n",
       "<style scoped>\n",
       "    .dataframe tbody tr th:only-of-type {\n",
       "        vertical-align: middle;\n",
       "    }\n",
       "\n",
       "    .dataframe tbody tr th {\n",
       "        vertical-align: top;\n",
       "    }\n",
       "\n",
       "    .dataframe thead th {\n",
       "        text-align: right;\n",
       "    }\n",
       "</style>\n",
       "<table border=\"1\" class=\"dataframe\">\n",
       "  <thead>\n",
       "    <tr style=\"text-align: right;\">\n",
       "      <th></th>\n",
       "      <th>q</th>\n",
       "      <th>r</th>\n",
       "      <th>s</th>\n",
       "      <th>t</th>\n",
       "      <th>u</th>\n",
       "      <th>v</th>\n",
       "      <th>w</th>\n",
       "      <th>x</th>\n",
       "      <th>y</th>\n",
       "      <th>z</th>\n",
       "    </tr>\n",
       "  </thead>\n",
       "  <tbody>\n",
       "    <tr>\n",
       "      <th>d</th>\n",
       "      <td>777.0</td>\n",
       "      <td>916</td>\n",
       "      <td>115</td>\n",
       "      <td>976.0</td>\n",
       "      <td>755.0</td>\n",
       "      <td>709</td>\n",
       "      <td>847.0</td>\n",
       "      <td>431</td>\n",
       "      <td>448</td>\n",
       "      <td>850.0</td>\n",
       "    </tr>\n",
       "    <tr>\n",
       "      <th>e</th>\n",
       "      <td>99.0</td>\n",
       "      <td>984</td>\n",
       "      <td>177</td>\n",
       "      <td>755.0</td>\n",
       "      <td>797.0</td>\n",
       "      <td>659</td>\n",
       "      <td>147.0</td>\n",
       "      <td>910</td>\n",
       "      <td>423</td>\n",
       "      <td>288.0</td>\n",
       "    </tr>\n",
       "    <tr>\n",
       "      <th>h</th>\n",
       "      <td>901.0</td>\n",
       "      <td>550</td>\n",
       "      <td>488</td>\n",
       "      <td>756.0</td>\n",
       "      <td>273.0</td>\n",
       "      <td>335</td>\n",
       "      <td>388.0</td>\n",
       "      <td>617</td>\n",
       "      <td>42</td>\n",
       "      <td>442.0</td>\n",
       "    </tr>\n",
       "  </tbody>\n",
       "</table>\n",
       "</div>"
      ],
      "text/plain": [
       "       q    r    s      t      u    v      w    x    y      z\n",
       "d  777.0  916  115  976.0  755.0  709  847.0  431  448  850.0\n",
       "e   99.0  984  177  755.0  797.0  659  147.0  910  423  288.0\n",
       "h  901.0  550  488  756.0  273.0  335  388.0  617   42  442.0"
      ]
     },
     "execution_count": 107,
     "metadata": {},
     "output_type": "execute_result"
    }
   ],
   "source": [
    "df.dropna()     # any row with a nan value is removed "
   ]
  },
  {
   "cell_type": "code",
   "execution_count": 108,
   "metadata": {},
   "outputs": [
    {
     "data": {
      "text/html": [
       "<div>\n",
       "<style scoped>\n",
       "    .dataframe tbody tr th:only-of-type {\n",
       "        vertical-align: middle;\n",
       "    }\n",
       "\n",
       "    .dataframe tbody tr th {\n",
       "        vertical-align: top;\n",
       "    }\n",
       "\n",
       "    .dataframe thead th {\n",
       "        text-align: right;\n",
       "    }\n",
       "</style>\n",
       "<table border=\"1\" class=\"dataframe\">\n",
       "  <thead>\n",
       "    <tr style=\"text-align: right;\">\n",
       "      <th></th>\n",
       "      <th>q</th>\n",
       "      <th>r</th>\n",
       "      <th>s</th>\n",
       "      <th>t</th>\n",
       "      <th>u</th>\n",
       "      <th>v</th>\n",
       "      <th>w</th>\n",
       "      <th>x</th>\n",
       "      <th>y</th>\n",
       "      <th>z</th>\n",
       "    </tr>\n",
       "  </thead>\n",
       "  <tbody>\n",
       "    <tr>\n",
       "      <th>b</th>\n",
       "      <td>277.0</td>\n",
       "      <td>754</td>\n",
       "      <td>804</td>\n",
       "      <td>599.0</td>\n",
       "      <td>NaN</td>\n",
       "      <td>472</td>\n",
       "      <td>600.0</td>\n",
       "      <td>396</td>\n",
       "      <td>314</td>\n",
       "      <td>705.0</td>\n",
       "    </tr>\n",
       "    <tr>\n",
       "      <th>c</th>\n",
       "      <td>486.0</td>\n",
       "      <td>551</td>\n",
       "      <td>87</td>\n",
       "      <td>174.0</td>\n",
       "      <td>600.0</td>\n",
       "      <td>849</td>\n",
       "      <td>NaN</td>\n",
       "      <td>537</td>\n",
       "      <td>845</td>\n",
       "      <td>72.0</td>\n",
       "    </tr>\n",
       "    <tr>\n",
       "      <th>d</th>\n",
       "      <td>777.0</td>\n",
       "      <td>916</td>\n",
       "      <td>115</td>\n",
       "      <td>976.0</td>\n",
       "      <td>755.0</td>\n",
       "      <td>709</td>\n",
       "      <td>847.0</td>\n",
       "      <td>431</td>\n",
       "      <td>448</td>\n",
       "      <td>850.0</td>\n",
       "    </tr>\n",
       "    <tr>\n",
       "      <th>e</th>\n",
       "      <td>99.0</td>\n",
       "      <td>984</td>\n",
       "      <td>177</td>\n",
       "      <td>755.0</td>\n",
       "      <td>797.0</td>\n",
       "      <td>659</td>\n",
       "      <td>147.0</td>\n",
       "      <td>910</td>\n",
       "      <td>423</td>\n",
       "      <td>288.0</td>\n",
       "    </tr>\n",
       "    <tr>\n",
       "      <th>f</th>\n",
       "      <td>NaN</td>\n",
       "      <td>265</td>\n",
       "      <td>697</td>\n",
       "      <td>639.0</td>\n",
       "      <td>544.0</td>\n",
       "      <td>543</td>\n",
       "      <td>714.0</td>\n",
       "      <td>244</td>\n",
       "      <td>151</td>\n",
       "      <td>675.0</td>\n",
       "    </tr>\n",
       "    <tr>\n",
       "      <th>g</th>\n",
       "      <td>NaN</td>\n",
       "      <td>459</td>\n",
       "      <td>882</td>\n",
       "      <td>183.0</td>\n",
       "      <td>28.0</td>\n",
       "      <td>802</td>\n",
       "      <td>128.0</td>\n",
       "      <td>128</td>\n",
       "      <td>932</td>\n",
       "      <td>53.0</td>\n",
       "    </tr>\n",
       "    <tr>\n",
       "      <th>h</th>\n",
       "      <td>901.0</td>\n",
       "      <td>550</td>\n",
       "      <td>488</td>\n",
       "      <td>756.0</td>\n",
       "      <td>273.0</td>\n",
       "      <td>335</td>\n",
       "      <td>388.0</td>\n",
       "      <td>617</td>\n",
       "      <td>42</td>\n",
       "      <td>442.0</td>\n",
       "    </tr>\n",
       "  </tbody>\n",
       "</table>\n",
       "</div>"
      ],
      "text/plain": [
       "       q    r    s      t      u    v      w    x    y      z\n",
       "b  277.0  754  804  599.0    NaN  472  600.0  396  314  705.0\n",
       "c  486.0  551   87  174.0  600.0  849    NaN  537  845   72.0\n",
       "d  777.0  916  115  976.0  755.0  709  847.0  431  448  850.0\n",
       "e   99.0  984  177  755.0  797.0  659  147.0  910  423  288.0\n",
       "f    NaN  265  697  639.0  544.0  543  714.0  244  151  675.0\n",
       "g    NaN  459  882  183.0   28.0  802  128.0  128  932   53.0\n",
       "h  901.0  550  488  756.0  273.0  335  388.0  617   42  442.0"
      ]
     },
     "execution_count": 108,
     "metadata": {},
     "output_type": "execute_result"
    }
   ],
   "source": [
    "# is this what we want?  Sometimes... \n",
    "# we can tell dropna which columns it should pay attention to, and also how many good values are needed to keep the row\n",
    "\n",
    "df.dropna(thresh=9)  # as long as we have 9 columns, it's OK to have 1 nan value"
   ]
  },
  {
   "cell_type": "code",
   "execution_count": 110,
   "metadata": {},
   "outputs": [
    {
     "data": {
      "text/html": [
       "<div>\n",
       "<style scoped>\n",
       "    .dataframe tbody tr th:only-of-type {\n",
       "        vertical-align: middle;\n",
       "    }\n",
       "\n",
       "    .dataframe tbody tr th {\n",
       "        vertical-align: top;\n",
       "    }\n",
       "\n",
       "    .dataframe thead th {\n",
       "        text-align: right;\n",
       "    }\n",
       "</style>\n",
       "<table border=\"1\" class=\"dataframe\">\n",
       "  <thead>\n",
       "    <tr style=\"text-align: right;\">\n",
       "      <th></th>\n",
       "      <th>q</th>\n",
       "      <th>r</th>\n",
       "      <th>s</th>\n",
       "      <th>t</th>\n",
       "      <th>u</th>\n",
       "      <th>v</th>\n",
       "      <th>w</th>\n",
       "      <th>x</th>\n",
       "      <th>y</th>\n",
       "      <th>z</th>\n",
       "    </tr>\n",
       "  </thead>\n",
       "  <tbody>\n",
       "    <tr>\n",
       "      <th>d</th>\n",
       "      <td>777.0</td>\n",
       "      <td>916</td>\n",
       "      <td>115</td>\n",
       "      <td>976.0</td>\n",
       "      <td>755.0</td>\n",
       "      <td>709</td>\n",
       "      <td>847.0</td>\n",
       "      <td>431</td>\n",
       "      <td>448</td>\n",
       "      <td>850.0</td>\n",
       "    </tr>\n",
       "    <tr>\n",
       "      <th>e</th>\n",
       "      <td>99.0</td>\n",
       "      <td>984</td>\n",
       "      <td>177</td>\n",
       "      <td>755.0</td>\n",
       "      <td>797.0</td>\n",
       "      <td>659</td>\n",
       "      <td>147.0</td>\n",
       "      <td>910</td>\n",
       "      <td>423</td>\n",
       "      <td>288.0</td>\n",
       "    </tr>\n",
       "    <tr>\n",
       "      <th>h</th>\n",
       "      <td>901.0</td>\n",
       "      <td>550</td>\n",
       "      <td>488</td>\n",
       "      <td>756.0</td>\n",
       "      <td>273.0</td>\n",
       "      <td>335</td>\n",
       "      <td>388.0</td>\n",
       "      <td>617</td>\n",
       "      <td>42</td>\n",
       "      <td>442.0</td>\n",
       "    </tr>\n",
       "  </tbody>\n",
       "</table>\n",
       "</div>"
      ],
      "text/plain": [
       "       q    r    s      t      u    v      w    x    y      z\n",
       "d  777.0  916  115  976.0  755.0  709  847.0  431  448  850.0\n",
       "e   99.0  984  177  755.0  797.0  659  147.0  910  423  288.0\n",
       "h  901.0  550  488  756.0  273.0  335  388.0  617   42  442.0"
      ]
     },
     "execution_count": 110,
     "metadata": {},
     "output_type": "execute_result"
    }
   ],
   "source": [
    "df.dropna(thresh=10)   # this means: all values must be good, no nans need apply"
   ]
  },
  {
   "cell_type": "code",
   "execution_count": 111,
   "metadata": {
    "scrolled": true
   },
   "outputs": [
    {
     "data": {
      "text/html": [
       "<div>\n",
       "<style scoped>\n",
       "    .dataframe tbody tr th:only-of-type {\n",
       "        vertical-align: middle;\n",
       "    }\n",
       "\n",
       "    .dataframe tbody tr th {\n",
       "        vertical-align: top;\n",
       "    }\n",
       "\n",
       "    .dataframe thead th {\n",
       "        text-align: right;\n",
       "    }\n",
       "</style>\n",
       "<table border=\"1\" class=\"dataframe\">\n",
       "  <thead>\n",
       "    <tr style=\"text-align: right;\">\n",
       "      <th></th>\n",
       "      <th>q</th>\n",
       "      <th>r</th>\n",
       "      <th>s</th>\n",
       "      <th>t</th>\n",
       "      <th>u</th>\n",
       "      <th>v</th>\n",
       "      <th>w</th>\n",
       "      <th>x</th>\n",
       "      <th>y</th>\n",
       "      <th>z</th>\n",
       "    </tr>\n",
       "  </thead>\n",
       "  <tbody>\n",
       "    <tr>\n",
       "      <th>a</th>\n",
       "      <td>684.0</td>\n",
       "      <td>559</td>\n",
       "      <td>629</td>\n",
       "      <td>NaN</td>\n",
       "      <td>835.0</td>\n",
       "      <td>763</td>\n",
       "      <td>707.0</td>\n",
       "      <td>359</td>\n",
       "      <td>9</td>\n",
       "      <td>NaN</td>\n",
       "    </tr>\n",
       "    <tr>\n",
       "      <th>c</th>\n",
       "      <td>486.0</td>\n",
       "      <td>551</td>\n",
       "      <td>87</td>\n",
       "      <td>174.0</td>\n",
       "      <td>600.0</td>\n",
       "      <td>849</td>\n",
       "      <td>NaN</td>\n",
       "      <td>537</td>\n",
       "      <td>845</td>\n",
       "      <td>72.0</td>\n",
       "    </tr>\n",
       "    <tr>\n",
       "      <th>d</th>\n",
       "      <td>777.0</td>\n",
       "      <td>916</td>\n",
       "      <td>115</td>\n",
       "      <td>976.0</td>\n",
       "      <td>755.0</td>\n",
       "      <td>709</td>\n",
       "      <td>847.0</td>\n",
       "      <td>431</td>\n",
       "      <td>448</td>\n",
       "      <td>850.0</td>\n",
       "    </tr>\n",
       "    <tr>\n",
       "      <th>e</th>\n",
       "      <td>99.0</td>\n",
       "      <td>984</td>\n",
       "      <td>177</td>\n",
       "      <td>755.0</td>\n",
       "      <td>797.0</td>\n",
       "      <td>659</td>\n",
       "      <td>147.0</td>\n",
       "      <td>910</td>\n",
       "      <td>423</td>\n",
       "      <td>288.0</td>\n",
       "    </tr>\n",
       "    <tr>\n",
       "      <th>h</th>\n",
       "      <td>901.0</td>\n",
       "      <td>550</td>\n",
       "      <td>488</td>\n",
       "      <td>756.0</td>\n",
       "      <td>273.0</td>\n",
       "      <td>335</td>\n",
       "      <td>388.0</td>\n",
       "      <td>617</td>\n",
       "      <td>42</td>\n",
       "      <td>442.0</td>\n",
       "    </tr>\n",
       "  </tbody>\n",
       "</table>\n",
       "</div>"
      ],
      "text/plain": [
       "       q    r    s      t      u    v      w    x    y      z\n",
       "a  684.0  559  629    NaN  835.0  763  707.0  359    9    NaN\n",
       "c  486.0  551   87  174.0  600.0  849    NaN  537  845   72.0\n",
       "d  777.0  916  115  976.0  755.0  709  847.0  431  448  850.0\n",
       "e   99.0  984  177  755.0  797.0  659  147.0  910  423  288.0\n",
       "h  901.0  550  488  756.0  273.0  335  388.0  617   42  442.0"
      ]
     },
     "execution_count": 111,
     "metadata": {},
     "output_type": "execute_result"
    }
   ],
   "source": [
    "# I can use the \"subset\" keyword argument to restrict which columns we care about having nan\n",
    "\n",
    "df.dropna(subset=['q', 'u'])"
   ]
  },
  {
   "cell_type": "code",
   "execution_count": 113,
   "metadata": {
    "scrolled": true
   },
   "outputs": [
    {
     "data": {
      "text/html": [
       "<div>\n",
       "<style scoped>\n",
       "    .dataframe tbody tr th:only-of-type {\n",
       "        vertical-align: middle;\n",
       "    }\n",
       "\n",
       "    .dataframe tbody tr th {\n",
       "        vertical-align: top;\n",
       "    }\n",
       "\n",
       "    .dataframe thead th {\n",
       "        text-align: right;\n",
       "    }\n",
       "</style>\n",
       "<table border=\"1\" class=\"dataframe\">\n",
       "  <thead>\n",
       "    <tr style=\"text-align: right;\">\n",
       "      <th></th>\n",
       "      <th>r</th>\n",
       "      <th>s</th>\n",
       "      <th>v</th>\n",
       "      <th>x</th>\n",
       "      <th>y</th>\n",
       "    </tr>\n",
       "  </thead>\n",
       "  <tbody>\n",
       "    <tr>\n",
       "      <th>a</th>\n",
       "      <td>559</td>\n",
       "      <td>629</td>\n",
       "      <td>763</td>\n",
       "      <td>359</td>\n",
       "      <td>9</td>\n",
       "    </tr>\n",
       "    <tr>\n",
       "      <th>b</th>\n",
       "      <td>754</td>\n",
       "      <td>804</td>\n",
       "      <td>472</td>\n",
       "      <td>396</td>\n",
       "      <td>314</td>\n",
       "    </tr>\n",
       "    <tr>\n",
       "      <th>c</th>\n",
       "      <td>551</td>\n",
       "      <td>87</td>\n",
       "      <td>849</td>\n",
       "      <td>537</td>\n",
       "      <td>845</td>\n",
       "    </tr>\n",
       "    <tr>\n",
       "      <th>d</th>\n",
       "      <td>916</td>\n",
       "      <td>115</td>\n",
       "      <td>709</td>\n",
       "      <td>431</td>\n",
       "      <td>448</td>\n",
       "    </tr>\n",
       "    <tr>\n",
       "      <th>e</th>\n",
       "      <td>984</td>\n",
       "      <td>177</td>\n",
       "      <td>659</td>\n",
       "      <td>910</td>\n",
       "      <td>423</td>\n",
       "    </tr>\n",
       "    <tr>\n",
       "      <th>f</th>\n",
       "      <td>265</td>\n",
       "      <td>697</td>\n",
       "      <td>543</td>\n",
       "      <td>244</td>\n",
       "      <td>151</td>\n",
       "    </tr>\n",
       "    <tr>\n",
       "      <th>g</th>\n",
       "      <td>459</td>\n",
       "      <td>882</td>\n",
       "      <td>802</td>\n",
       "      <td>128</td>\n",
       "      <td>932</td>\n",
       "    </tr>\n",
       "    <tr>\n",
       "      <th>h</th>\n",
       "      <td>550</td>\n",
       "      <td>488</td>\n",
       "      <td>335</td>\n",
       "      <td>617</td>\n",
       "      <td>42</td>\n",
       "    </tr>\n",
       "  </tbody>\n",
       "</table>\n",
       "</div>"
      ],
      "text/plain": [
       "     r    s    v    x    y\n",
       "a  559  629  763  359    9\n",
       "b  754  804  472  396  314\n",
       "c  551   87  849  537  845\n",
       "d  916  115  709  431  448\n",
       "e  984  177  659  910  423\n",
       "f  265  697  543  244  151\n",
       "g  459  882  802  128  932\n",
       "h  550  488  335  617   42"
      ]
     },
     "execution_count": 113,
     "metadata": {},
     "output_type": "execute_result"
    }
   ],
   "source": [
    "df.dropna(axis='columns')  # now we'll drop columns that have nan values"
   ]
  },
  {
   "cell_type": "code",
   "execution_count": 115,
   "metadata": {},
   "outputs": [
    {
     "data": {
      "text/html": [
       "<div>\n",
       "<style scoped>\n",
       "    .dataframe tbody tr th:only-of-type {\n",
       "        vertical-align: middle;\n",
       "    }\n",
       "\n",
       "    .dataframe tbody tr th {\n",
       "        vertical-align: top;\n",
       "    }\n",
       "\n",
       "    .dataframe thead th {\n",
       "        text-align: right;\n",
       "    }\n",
       "</style>\n",
       "<table border=\"1\" class=\"dataframe\">\n",
       "  <thead>\n",
       "    <tr style=\"text-align: right;\">\n",
       "      <th></th>\n",
       "      <th>r</th>\n",
       "      <th>s</th>\n",
       "      <th>t</th>\n",
       "      <th>u</th>\n",
       "      <th>v</th>\n",
       "      <th>w</th>\n",
       "      <th>x</th>\n",
       "      <th>y</th>\n",
       "      <th>z</th>\n",
       "    </tr>\n",
       "  </thead>\n",
       "  <tbody>\n",
       "    <tr>\n",
       "      <th>a</th>\n",
       "      <td>559</td>\n",
       "      <td>629</td>\n",
       "      <td>NaN</td>\n",
       "      <td>835.0</td>\n",
       "      <td>763</td>\n",
       "      <td>707.0</td>\n",
       "      <td>359</td>\n",
       "      <td>9</td>\n",
       "      <td>NaN</td>\n",
       "    </tr>\n",
       "    <tr>\n",
       "      <th>b</th>\n",
       "      <td>754</td>\n",
       "      <td>804</td>\n",
       "      <td>599.0</td>\n",
       "      <td>NaN</td>\n",
       "      <td>472</td>\n",
       "      <td>600.0</td>\n",
       "      <td>396</td>\n",
       "      <td>314</td>\n",
       "      <td>705.0</td>\n",
       "    </tr>\n",
       "    <tr>\n",
       "      <th>c</th>\n",
       "      <td>551</td>\n",
       "      <td>87</td>\n",
       "      <td>174.0</td>\n",
       "      <td>600.0</td>\n",
       "      <td>849</td>\n",
       "      <td>NaN</td>\n",
       "      <td>537</td>\n",
       "      <td>845</td>\n",
       "      <td>72.0</td>\n",
       "    </tr>\n",
       "    <tr>\n",
       "      <th>d</th>\n",
       "      <td>916</td>\n",
       "      <td>115</td>\n",
       "      <td>976.0</td>\n",
       "      <td>755.0</td>\n",
       "      <td>709</td>\n",
       "      <td>847.0</td>\n",
       "      <td>431</td>\n",
       "      <td>448</td>\n",
       "      <td>850.0</td>\n",
       "    </tr>\n",
       "    <tr>\n",
       "      <th>e</th>\n",
       "      <td>984</td>\n",
       "      <td>177</td>\n",
       "      <td>755.0</td>\n",
       "      <td>797.0</td>\n",
       "      <td>659</td>\n",
       "      <td>147.0</td>\n",
       "      <td>910</td>\n",
       "      <td>423</td>\n",
       "      <td>288.0</td>\n",
       "    </tr>\n",
       "    <tr>\n",
       "      <th>f</th>\n",
       "      <td>265</td>\n",
       "      <td>697</td>\n",
       "      <td>639.0</td>\n",
       "      <td>544.0</td>\n",
       "      <td>543</td>\n",
       "      <td>714.0</td>\n",
       "      <td>244</td>\n",
       "      <td>151</td>\n",
       "      <td>675.0</td>\n",
       "    </tr>\n",
       "    <tr>\n",
       "      <th>g</th>\n",
       "      <td>459</td>\n",
       "      <td>882</td>\n",
       "      <td>183.0</td>\n",
       "      <td>28.0</td>\n",
       "      <td>802</td>\n",
       "      <td>128.0</td>\n",
       "      <td>128</td>\n",
       "      <td>932</td>\n",
       "      <td>53.0</td>\n",
       "    </tr>\n",
       "    <tr>\n",
       "      <th>h</th>\n",
       "      <td>550</td>\n",
       "      <td>488</td>\n",
       "      <td>756.0</td>\n",
       "      <td>273.0</td>\n",
       "      <td>335</td>\n",
       "      <td>388.0</td>\n",
       "      <td>617</td>\n",
       "      <td>42</td>\n",
       "      <td>442.0</td>\n",
       "    </tr>\n",
       "  </tbody>\n",
       "</table>\n",
       "</div>"
      ],
      "text/plain": [
       "     r    s      t      u    v      w    x    y      z\n",
       "a  559  629    NaN  835.0  763  707.0  359    9    NaN\n",
       "b  754  804  599.0    NaN  472  600.0  396  314  705.0\n",
       "c  551   87  174.0  600.0  849    NaN  537  845   72.0\n",
       "d  916  115  976.0  755.0  709  847.0  431  448  850.0\n",
       "e  984  177  755.0  797.0  659  147.0  910  423  288.0\n",
       "f  265  697  639.0  544.0  543  714.0  244  151  675.0\n",
       "g  459  882  183.0   28.0  802  128.0  128  932   53.0\n",
       "h  550  488  756.0  273.0  335  388.0  617   42  442.0"
      ]
     },
     "execution_count": 115,
     "metadata": {},
     "output_type": "execute_result"
    }
   ],
   "source": [
    "df.dropna(thresh=7, axis='columns')   #  if we have at least 7 good values in the column, keep it"
   ]
  },
  {
   "cell_type": "code",
   "execution_count": 112,
   "metadata": {},
   "outputs": [
    {
     "name": "stdout",
     "output_type": "stream",
     "text": [
      "Help on method dropna in module pandas.core.frame:\n",
      "\n",
      "dropna(\n",
      "    *,\n",
      "    axis: 'Axis' = 0,\n",
      "    how: 'AnyAll | lib.NoDefault' = <no_default>,\n",
      "    thresh: 'int | lib.NoDefault' = <no_default>,\n",
      "    subset: 'IndexLabel | None' = None,\n",
      "    inplace: 'bool' = False,\n",
      "    ignore_index: 'bool' = False\n",
      ") -> 'DataFrame | None' method of pandas.core.frame.DataFrame instance\n",
      "    Remove missing values.\n",
      "\n",
      "    See the :ref:`User Guide <missing_data>` for more on which values are\n",
      "    considered missing, and how to work with missing data.\n",
      "\n",
      "    Parameters\n",
      "    ----------\n",
      "    axis : {0 or 'index', 1 or 'columns'}, default 0\n",
      "        Determine if rows or columns which contain missing values are\n",
      "        removed.\n",
      "\n",
      "        * 0, or 'index' : Drop rows which contain missing values.\n",
      "        * 1, or 'columns' : Drop columns which contain missing value.\n",
      "\n",
      "        Only a single axis is allowed.\n",
      "\n",
      "    how : {'any', 'all'}, default 'any'\n",
      "        Determine if row or column is removed from DataFrame, when we have\n",
      "        at least one NA or all NA.\n",
      "\n",
      "        * 'any' : If any NA values are present, drop that row or column.\n",
      "        * 'all' : If all values are NA, drop that row or column.\n",
      "\n",
      "    thresh : int, optional\n",
      "        Require that many non-NA values. Cannot be combined with how.\n",
      "    subset : column label or sequence of labels, optional\n",
      "        Labels along other axis to consider, e.g. if you are dropping rows\n",
      "        these would be a list of columns to include.\n",
      "    inplace : bool, default False\n",
      "        Whether to modify the DataFrame rather than creating a new one.\n",
      "    ignore_index : bool, default ``False``\n",
      "        If ``True``, the resulting axis will be labeled 0, 1, …, n - 1.\n",
      "\n",
      "        .. versionadded:: 2.0.0\n",
      "\n",
      "    Returns\n",
      "    -------\n",
      "    DataFrame or None\n",
      "        DataFrame with NA entries dropped from it or None if ``inplace=True``.\n",
      "\n",
      "    See Also\n",
      "    --------\n",
      "    DataFrame.isna: Indicate missing values.\n",
      "    DataFrame.notna : Indicate existing (non-missing) values.\n",
      "    DataFrame.fillna : Replace missing values.\n",
      "    Series.dropna : Drop missing values.\n",
      "    Index.dropna : Drop missing indices.\n",
      "\n",
      "    Examples\n",
      "    --------\n",
      "    >>> df = pd.DataFrame({\"name\": ['Alfred', 'Batman', 'Catwoman'],\n",
      "    ...                    \"toy\": [np.nan, 'Batmobile', 'Bullwhip'],\n",
      "    ...                    \"born\": [pd.NaT, pd.Timestamp(\"1940-04-25\"),\n",
      "    ...                             pd.NaT]})\n",
      "    >>> df\n",
      "           name        toy       born\n",
      "    0    Alfred        NaN        NaT\n",
      "    1    Batman  Batmobile 1940-04-25\n",
      "    2  Catwoman   Bullwhip        NaT\n",
      "\n",
      "    Drop the rows where at least one element is missing.\n",
      "\n",
      "    >>> df.dropna()\n",
      "         name        toy       born\n",
      "    1  Batman  Batmobile 1940-04-25\n",
      "\n",
      "    Drop the columns where at least one element is missing.\n",
      "\n",
      "    >>> df.dropna(axis='columns')\n",
      "           name\n",
      "    0    Alfred\n",
      "    1    Batman\n",
      "    2  Catwoman\n",
      "\n",
      "    Drop the rows where all elements are missing.\n",
      "\n",
      "    >>> df.dropna(how='all')\n",
      "           name        toy       born\n",
      "    0    Alfred        NaN        NaT\n",
      "    1    Batman  Batmobile 1940-04-25\n",
      "    2  Catwoman   Bullwhip        NaT\n",
      "\n",
      "    Keep only the rows with at least 2 non-NA values.\n",
      "\n",
      "    >>> df.dropna(thresh=2)\n",
      "           name        toy       born\n",
      "    1    Batman  Batmobile 1940-04-25\n",
      "    2  Catwoman   Bullwhip        NaT\n",
      "\n",
      "    Define in which columns to look for missing values.\n",
      "\n",
      "    >>> df.dropna(subset=['name', 'toy'])\n",
      "           name        toy       born\n",
      "    1    Batman  Batmobile 1940-04-25\n",
      "    2  Catwoman   Bullwhip        NaT\n",
      "\n"
     ]
    }
   ],
   "source": [
    "help(df.dropna)"
   ]
  },
  {
   "cell_type": "code",
   "execution_count": 116,
   "metadata": {
    "scrolled": true
   },
   "outputs": [
    {
     "data": {
      "text/html": [
       "<div>\n",
       "<style scoped>\n",
       "    .dataframe tbody tr th:only-of-type {\n",
       "        vertical-align: middle;\n",
       "    }\n",
       "\n",
       "    .dataframe tbody tr th {\n",
       "        vertical-align: top;\n",
       "    }\n",
       "\n",
       "    .dataframe thead th {\n",
       "        text-align: right;\n",
       "    }\n",
       "</style>\n",
       "<table border=\"1\" class=\"dataframe\">\n",
       "  <thead>\n",
       "    <tr style=\"text-align: right;\">\n",
       "      <th></th>\n",
       "      <th>a</th>\n",
       "      <th>b</th>\n",
       "      <th>c</th>\n",
       "      <th>d</th>\n",
       "      <th>e</th>\n",
       "      <th>f</th>\n",
       "      <th>g</th>\n",
       "      <th>h</th>\n",
       "    </tr>\n",
       "  </thead>\n",
       "  <tbody>\n",
       "    <tr>\n",
       "      <th>q</th>\n",
       "      <td>684.0</td>\n",
       "      <td>277.0</td>\n",
       "      <td>486.0</td>\n",
       "      <td>777.0</td>\n",
       "      <td>99.0</td>\n",
       "      <td>NaN</td>\n",
       "      <td>NaN</td>\n",
       "      <td>901.0</td>\n",
       "    </tr>\n",
       "    <tr>\n",
       "      <th>r</th>\n",
       "      <td>559.0</td>\n",
       "      <td>754.0</td>\n",
       "      <td>551.0</td>\n",
       "      <td>916.0</td>\n",
       "      <td>984.0</td>\n",
       "      <td>265.0</td>\n",
       "      <td>459.0</td>\n",
       "      <td>550.0</td>\n",
       "    </tr>\n",
       "    <tr>\n",
       "      <th>s</th>\n",
       "      <td>629.0</td>\n",
       "      <td>804.0</td>\n",
       "      <td>87.0</td>\n",
       "      <td>115.0</td>\n",
       "      <td>177.0</td>\n",
       "      <td>697.0</td>\n",
       "      <td>882.0</td>\n",
       "      <td>488.0</td>\n",
       "    </tr>\n",
       "    <tr>\n",
       "      <th>t</th>\n",
       "      <td>NaN</td>\n",
       "      <td>599.0</td>\n",
       "      <td>174.0</td>\n",
       "      <td>976.0</td>\n",
       "      <td>755.0</td>\n",
       "      <td>639.0</td>\n",
       "      <td>183.0</td>\n",
       "      <td>756.0</td>\n",
       "    </tr>\n",
       "    <tr>\n",
       "      <th>u</th>\n",
       "      <td>835.0</td>\n",
       "      <td>NaN</td>\n",
       "      <td>600.0</td>\n",
       "      <td>755.0</td>\n",
       "      <td>797.0</td>\n",
       "      <td>544.0</td>\n",
       "      <td>28.0</td>\n",
       "      <td>273.0</td>\n",
       "    </tr>\n",
       "    <tr>\n",
       "      <th>v</th>\n",
       "      <td>763.0</td>\n",
       "      <td>472.0</td>\n",
       "      <td>849.0</td>\n",
       "      <td>709.0</td>\n",
       "      <td>659.0</td>\n",
       "      <td>543.0</td>\n",
       "      <td>802.0</td>\n",
       "      <td>335.0</td>\n",
       "    </tr>\n",
       "    <tr>\n",
       "      <th>w</th>\n",
       "      <td>707.0</td>\n",
       "      <td>600.0</td>\n",
       "      <td>NaN</td>\n",
       "      <td>847.0</td>\n",
       "      <td>147.0</td>\n",
       "      <td>714.0</td>\n",
       "      <td>128.0</td>\n",
       "      <td>388.0</td>\n",
       "    </tr>\n",
       "    <tr>\n",
       "      <th>x</th>\n",
       "      <td>359.0</td>\n",
       "      <td>396.0</td>\n",
       "      <td>537.0</td>\n",
       "      <td>431.0</td>\n",
       "      <td>910.0</td>\n",
       "      <td>244.0</td>\n",
       "      <td>128.0</td>\n",
       "      <td>617.0</td>\n",
       "    </tr>\n",
       "    <tr>\n",
       "      <th>y</th>\n",
       "      <td>9.0</td>\n",
       "      <td>314.0</td>\n",
       "      <td>845.0</td>\n",
       "      <td>448.0</td>\n",
       "      <td>423.0</td>\n",
       "      <td>151.0</td>\n",
       "      <td>932.0</td>\n",
       "      <td>42.0</td>\n",
       "    </tr>\n",
       "    <tr>\n",
       "      <th>z</th>\n",
       "      <td>NaN</td>\n",
       "      <td>705.0</td>\n",
       "      <td>72.0</td>\n",
       "      <td>850.0</td>\n",
       "      <td>288.0</td>\n",
       "      <td>675.0</td>\n",
       "      <td>53.0</td>\n",
       "      <td>442.0</td>\n",
       "    </tr>\n",
       "  </tbody>\n",
       "</table>\n",
       "</div>"
      ],
      "text/plain": [
       "       a      b      c      d      e      f      g      h\n",
       "q  684.0  277.0  486.0  777.0   99.0    NaN    NaN  901.0\n",
       "r  559.0  754.0  551.0  916.0  984.0  265.0  459.0  550.0\n",
       "s  629.0  804.0   87.0  115.0  177.0  697.0  882.0  488.0\n",
       "t    NaN  599.0  174.0  976.0  755.0  639.0  183.0  756.0\n",
       "u  835.0    NaN  600.0  755.0  797.0  544.0   28.0  273.0\n",
       "v  763.0  472.0  849.0  709.0  659.0  543.0  802.0  335.0\n",
       "w  707.0  600.0    NaN  847.0  147.0  714.0  128.0  388.0\n",
       "x  359.0  396.0  537.0  431.0  910.0  244.0  128.0  617.0\n",
       "y    9.0  314.0  845.0  448.0  423.0  151.0  932.0   42.0\n",
       "z    NaN  705.0   72.0  850.0  288.0  675.0   53.0  442.0"
      ]
     },
     "execution_count": 116,
     "metadata": {},
     "output_type": "execute_result"
    }
   ],
   "source": [
    "# I'm guessing that when we say axis='columns', Pandas transposes our data frame, does the action we ask for\n",
    "# and then transposes it back.\n",
    "\n",
    "# you can do that with .transpose() or .T  (without parentheses!)\n",
    "\n",
    "df.T"
   ]
  },
  {
   "cell_type": "code",
   "execution_count": 117,
   "metadata": {
    "scrolled": true
   },
   "outputs": [
    {
     "data": {
      "text/html": [
       "<div>\n",
       "<style scoped>\n",
       "    .dataframe tbody tr th:only-of-type {\n",
       "        vertical-align: middle;\n",
       "    }\n",
       "\n",
       "    .dataframe tbody tr th {\n",
       "        vertical-align: top;\n",
       "    }\n",
       "\n",
       "    .dataframe thead th {\n",
       "        text-align: right;\n",
       "    }\n",
       "</style>\n",
       "<table border=\"1\" class=\"dataframe\">\n",
       "  <thead>\n",
       "    <tr style=\"text-align: right;\">\n",
       "      <th></th>\n",
       "      <th>q</th>\n",
       "      <th>r</th>\n",
       "      <th>s</th>\n",
       "      <th>t</th>\n",
       "      <th>u</th>\n",
       "      <th>v</th>\n",
       "      <th>w</th>\n",
       "      <th>x</th>\n",
       "      <th>y</th>\n",
       "      <th>z</th>\n",
       "    </tr>\n",
       "  </thead>\n",
       "  <tbody>\n",
       "    <tr>\n",
       "      <th>a</th>\n",
       "      <td>684.0</td>\n",
       "      <td>559</td>\n",
       "      <td>629</td>\n",
       "      <td>NaN</td>\n",
       "      <td>835.0</td>\n",
       "      <td>763</td>\n",
       "      <td>707.0</td>\n",
       "      <td>359</td>\n",
       "      <td>9</td>\n",
       "      <td>NaN</td>\n",
       "    </tr>\n",
       "    <tr>\n",
       "      <th>b</th>\n",
       "      <td>277.0</td>\n",
       "      <td>754</td>\n",
       "      <td>804</td>\n",
       "      <td>599.0</td>\n",
       "      <td>NaN</td>\n",
       "      <td>472</td>\n",
       "      <td>600.0</td>\n",
       "      <td>396</td>\n",
       "      <td>314</td>\n",
       "      <td>705.0</td>\n",
       "    </tr>\n",
       "    <tr>\n",
       "      <th>c</th>\n",
       "      <td>486.0</td>\n",
       "      <td>551</td>\n",
       "      <td>87</td>\n",
       "      <td>174.0</td>\n",
       "      <td>600.0</td>\n",
       "      <td>849</td>\n",
       "      <td>NaN</td>\n",
       "      <td>537</td>\n",
       "      <td>845</td>\n",
       "      <td>72.0</td>\n",
       "    </tr>\n",
       "    <tr>\n",
       "      <th>d</th>\n",
       "      <td>777.0</td>\n",
       "      <td>916</td>\n",
       "      <td>115</td>\n",
       "      <td>976.0</td>\n",
       "      <td>755.0</td>\n",
       "      <td>709</td>\n",
       "      <td>847.0</td>\n",
       "      <td>431</td>\n",
       "      <td>448</td>\n",
       "      <td>850.0</td>\n",
       "    </tr>\n",
       "    <tr>\n",
       "      <th>e</th>\n",
       "      <td>99.0</td>\n",
       "      <td>984</td>\n",
       "      <td>177</td>\n",
       "      <td>755.0</td>\n",
       "      <td>797.0</td>\n",
       "      <td>659</td>\n",
       "      <td>147.0</td>\n",
       "      <td>910</td>\n",
       "      <td>423</td>\n",
       "      <td>288.0</td>\n",
       "    </tr>\n",
       "    <tr>\n",
       "      <th>f</th>\n",
       "      <td>NaN</td>\n",
       "      <td>265</td>\n",
       "      <td>697</td>\n",
       "      <td>639.0</td>\n",
       "      <td>544.0</td>\n",
       "      <td>543</td>\n",
       "      <td>714.0</td>\n",
       "      <td>244</td>\n",
       "      <td>151</td>\n",
       "      <td>675.0</td>\n",
       "    </tr>\n",
       "    <tr>\n",
       "      <th>g</th>\n",
       "      <td>NaN</td>\n",
       "      <td>459</td>\n",
       "      <td>882</td>\n",
       "      <td>183.0</td>\n",
       "      <td>28.0</td>\n",
       "      <td>802</td>\n",
       "      <td>128.0</td>\n",
       "      <td>128</td>\n",
       "      <td>932</td>\n",
       "      <td>53.0</td>\n",
       "    </tr>\n",
       "    <tr>\n",
       "      <th>h</th>\n",
       "      <td>901.0</td>\n",
       "      <td>550</td>\n",
       "      <td>488</td>\n",
       "      <td>756.0</td>\n",
       "      <td>273.0</td>\n",
       "      <td>335</td>\n",
       "      <td>388.0</td>\n",
       "      <td>617</td>\n",
       "      <td>42</td>\n",
       "      <td>442.0</td>\n",
       "    </tr>\n",
       "  </tbody>\n",
       "</table>\n",
       "</div>"
      ],
      "text/plain": [
       "       q    r    s      t      u    v      w    x    y      z\n",
       "a  684.0  559  629    NaN  835.0  763  707.0  359    9    NaN\n",
       "b  277.0  754  804  599.0    NaN  472  600.0  396  314  705.0\n",
       "c  486.0  551   87  174.0  600.0  849    NaN  537  845   72.0\n",
       "d  777.0  916  115  976.0  755.0  709  847.0  431  448  850.0\n",
       "e   99.0  984  177  755.0  797.0  659  147.0  910  423  288.0\n",
       "f    NaN  265  697  639.0  544.0  543  714.0  244  151  675.0\n",
       "g    NaN  459  882  183.0   28.0  802  128.0  128  932   53.0\n",
       "h  901.0  550  488  756.0  273.0  335  388.0  617   42  442.0"
      ]
     },
     "execution_count": 117,
     "metadata": {},
     "output_type": "execute_result"
    }
   ],
   "source": [
    "df"
   ]
  },
  {
   "cell_type": "code",
   "execution_count": 118,
   "metadata": {},
   "outputs": [
    {
     "data": {
      "text/html": [
       "<div>\n",
       "<style scoped>\n",
       "    .dataframe tbody tr th:only-of-type {\n",
       "        vertical-align: middle;\n",
       "    }\n",
       "\n",
       "    .dataframe tbody tr th {\n",
       "        vertical-align: top;\n",
       "    }\n",
       "\n",
       "    .dataframe thead th {\n",
       "        text-align: right;\n",
       "    }\n",
       "</style>\n",
       "<table border=\"1\" class=\"dataframe\">\n",
       "  <thead>\n",
       "    <tr style=\"text-align: right;\">\n",
       "      <th></th>\n",
       "      <th>q</th>\n",
       "      <th>r</th>\n",
       "      <th>s</th>\n",
       "      <th>t</th>\n",
       "      <th>u</th>\n",
       "      <th>v</th>\n",
       "      <th>w</th>\n",
       "      <th>x</th>\n",
       "      <th>y</th>\n",
       "      <th>z</th>\n",
       "    </tr>\n",
       "  </thead>\n",
       "  <tbody>\n",
       "    <tr>\n",
       "      <th>a</th>\n",
       "      <td>684.0</td>\n",
       "      <td>559</td>\n",
       "      <td>629</td>\n",
       "      <td>99999.0</td>\n",
       "      <td>835.0</td>\n",
       "      <td>763</td>\n",
       "      <td>707.0</td>\n",
       "      <td>359</td>\n",
       "      <td>9</td>\n",
       "      <td>99999.0</td>\n",
       "    </tr>\n",
       "    <tr>\n",
       "      <th>b</th>\n",
       "      <td>277.0</td>\n",
       "      <td>754</td>\n",
       "      <td>804</td>\n",
       "      <td>599.0</td>\n",
       "      <td>99999.0</td>\n",
       "      <td>472</td>\n",
       "      <td>600.0</td>\n",
       "      <td>396</td>\n",
       "      <td>314</td>\n",
       "      <td>705.0</td>\n",
       "    </tr>\n",
       "    <tr>\n",
       "      <th>c</th>\n",
       "      <td>486.0</td>\n",
       "      <td>551</td>\n",
       "      <td>87</td>\n",
       "      <td>174.0</td>\n",
       "      <td>600.0</td>\n",
       "      <td>849</td>\n",
       "      <td>99999.0</td>\n",
       "      <td>537</td>\n",
       "      <td>845</td>\n",
       "      <td>72.0</td>\n",
       "    </tr>\n",
       "    <tr>\n",
       "      <th>d</th>\n",
       "      <td>777.0</td>\n",
       "      <td>916</td>\n",
       "      <td>115</td>\n",
       "      <td>976.0</td>\n",
       "      <td>755.0</td>\n",
       "      <td>709</td>\n",
       "      <td>847.0</td>\n",
       "      <td>431</td>\n",
       "      <td>448</td>\n",
       "      <td>850.0</td>\n",
       "    </tr>\n",
       "    <tr>\n",
       "      <th>e</th>\n",
       "      <td>99.0</td>\n",
       "      <td>984</td>\n",
       "      <td>177</td>\n",
       "      <td>755.0</td>\n",
       "      <td>797.0</td>\n",
       "      <td>659</td>\n",
       "      <td>147.0</td>\n",
       "      <td>910</td>\n",
       "      <td>423</td>\n",
       "      <td>288.0</td>\n",
       "    </tr>\n",
       "    <tr>\n",
       "      <th>f</th>\n",
       "      <td>99999.0</td>\n",
       "      <td>265</td>\n",
       "      <td>697</td>\n",
       "      <td>639.0</td>\n",
       "      <td>544.0</td>\n",
       "      <td>543</td>\n",
       "      <td>714.0</td>\n",
       "      <td>244</td>\n",
       "      <td>151</td>\n",
       "      <td>675.0</td>\n",
       "    </tr>\n",
       "    <tr>\n",
       "      <th>g</th>\n",
       "      <td>99999.0</td>\n",
       "      <td>459</td>\n",
       "      <td>882</td>\n",
       "      <td>183.0</td>\n",
       "      <td>28.0</td>\n",
       "      <td>802</td>\n",
       "      <td>128.0</td>\n",
       "      <td>128</td>\n",
       "      <td>932</td>\n",
       "      <td>53.0</td>\n",
       "    </tr>\n",
       "    <tr>\n",
       "      <th>h</th>\n",
       "      <td>901.0</td>\n",
       "      <td>550</td>\n",
       "      <td>488</td>\n",
       "      <td>756.0</td>\n",
       "      <td>273.0</td>\n",
       "      <td>335</td>\n",
       "      <td>388.0</td>\n",
       "      <td>617</td>\n",
       "      <td>42</td>\n",
       "      <td>442.0</td>\n",
       "    </tr>\n",
       "  </tbody>\n",
       "</table>\n",
       "</div>"
      ],
      "text/plain": [
       "         q    r    s        t        u    v        w    x    y        z\n",
       "a    684.0  559  629  99999.0    835.0  763    707.0  359    9  99999.0\n",
       "b    277.0  754  804    599.0  99999.0  472    600.0  396  314    705.0\n",
       "c    486.0  551   87    174.0    600.0  849  99999.0  537  845     72.0\n",
       "d    777.0  916  115    976.0    755.0  709    847.0  431  448    850.0\n",
       "e     99.0  984  177    755.0    797.0  659    147.0  910  423    288.0\n",
       "f  99999.0  265  697    639.0    544.0  543    714.0  244  151    675.0\n",
       "g  99999.0  459  882    183.0     28.0  802    128.0  128  932     53.0\n",
       "h    901.0  550  488    756.0    273.0  335    388.0  617   42    442.0"
      ]
     },
     "execution_count": 118,
     "metadata": {},
     "output_type": "execute_result"
    }
   ],
   "source": [
    "# we can use fillna with a single value\n",
    "\n",
    "df.fillna(99999)"
   ]
  },
  {
   "cell_type": "code",
   "execution_count": 119,
   "metadata": {
    "scrolled": true
   },
   "outputs": [
    {
     "data": {
      "text/plain": [
       "q    537.333333\n",
       "r    629.750000\n",
       "s    484.875000\n",
       "t    583.142857\n",
       "u    547.428571\n",
       "v    641.500000\n",
       "w    504.428571\n",
       "x    452.750000\n",
       "y    395.500000\n",
       "z    440.714286\n",
       "dtype: float64"
      ]
     },
     "execution_count": 119,
     "metadata": {},
     "output_type": "execute_result"
    }
   ],
   "source": [
    "df.mean()"
   ]
  },
  {
   "cell_type": "code",
   "execution_count": 120,
   "metadata": {},
   "outputs": [
    {
     "data": {
      "text/html": [
       "<div>\n",
       "<style scoped>\n",
       "    .dataframe tbody tr th:only-of-type {\n",
       "        vertical-align: middle;\n",
       "    }\n",
       "\n",
       "    .dataframe tbody tr th {\n",
       "        vertical-align: top;\n",
       "    }\n",
       "\n",
       "    .dataframe thead th {\n",
       "        text-align: right;\n",
       "    }\n",
       "</style>\n",
       "<table border=\"1\" class=\"dataframe\">\n",
       "  <thead>\n",
       "    <tr style=\"text-align: right;\">\n",
       "      <th></th>\n",
       "      <th>q</th>\n",
       "      <th>r</th>\n",
       "      <th>s</th>\n",
       "      <th>t</th>\n",
       "      <th>u</th>\n",
       "      <th>v</th>\n",
       "      <th>w</th>\n",
       "      <th>x</th>\n",
       "      <th>y</th>\n",
       "      <th>z</th>\n",
       "    </tr>\n",
       "  </thead>\n",
       "  <tbody>\n",
       "    <tr>\n",
       "      <th>a</th>\n",
       "      <td>684.000000</td>\n",
       "      <td>559</td>\n",
       "      <td>629</td>\n",
       "      <td>583.142857</td>\n",
       "      <td>835.000000</td>\n",
       "      <td>763</td>\n",
       "      <td>707.000000</td>\n",
       "      <td>359</td>\n",
       "      <td>9</td>\n",
       "      <td>440.714286</td>\n",
       "    </tr>\n",
       "    <tr>\n",
       "      <th>b</th>\n",
       "      <td>277.000000</td>\n",
       "      <td>754</td>\n",
       "      <td>804</td>\n",
       "      <td>599.000000</td>\n",
       "      <td>547.428571</td>\n",
       "      <td>472</td>\n",
       "      <td>600.000000</td>\n",
       "      <td>396</td>\n",
       "      <td>314</td>\n",
       "      <td>705.000000</td>\n",
       "    </tr>\n",
       "    <tr>\n",
       "      <th>c</th>\n",
       "      <td>486.000000</td>\n",
       "      <td>551</td>\n",
       "      <td>87</td>\n",
       "      <td>174.000000</td>\n",
       "      <td>600.000000</td>\n",
       "      <td>849</td>\n",
       "      <td>504.428571</td>\n",
       "      <td>537</td>\n",
       "      <td>845</td>\n",
       "      <td>72.000000</td>\n",
       "    </tr>\n",
       "    <tr>\n",
       "      <th>d</th>\n",
       "      <td>777.000000</td>\n",
       "      <td>916</td>\n",
       "      <td>115</td>\n",
       "      <td>976.000000</td>\n",
       "      <td>755.000000</td>\n",
       "      <td>709</td>\n",
       "      <td>847.000000</td>\n",
       "      <td>431</td>\n",
       "      <td>448</td>\n",
       "      <td>850.000000</td>\n",
       "    </tr>\n",
       "    <tr>\n",
       "      <th>e</th>\n",
       "      <td>99.000000</td>\n",
       "      <td>984</td>\n",
       "      <td>177</td>\n",
       "      <td>755.000000</td>\n",
       "      <td>797.000000</td>\n",
       "      <td>659</td>\n",
       "      <td>147.000000</td>\n",
       "      <td>910</td>\n",
       "      <td>423</td>\n",
       "      <td>288.000000</td>\n",
       "    </tr>\n",
       "    <tr>\n",
       "      <th>f</th>\n",
       "      <td>537.333333</td>\n",
       "      <td>265</td>\n",
       "      <td>697</td>\n",
       "      <td>639.000000</td>\n",
       "      <td>544.000000</td>\n",
       "      <td>543</td>\n",
       "      <td>714.000000</td>\n",
       "      <td>244</td>\n",
       "      <td>151</td>\n",
       "      <td>675.000000</td>\n",
       "    </tr>\n",
       "    <tr>\n",
       "      <th>g</th>\n",
       "      <td>537.333333</td>\n",
       "      <td>459</td>\n",
       "      <td>882</td>\n",
       "      <td>183.000000</td>\n",
       "      <td>28.000000</td>\n",
       "      <td>802</td>\n",
       "      <td>128.000000</td>\n",
       "      <td>128</td>\n",
       "      <td>932</td>\n",
       "      <td>53.000000</td>\n",
       "    </tr>\n",
       "    <tr>\n",
       "      <th>h</th>\n",
       "      <td>901.000000</td>\n",
       "      <td>550</td>\n",
       "      <td>488</td>\n",
       "      <td>756.000000</td>\n",
       "      <td>273.000000</td>\n",
       "      <td>335</td>\n",
       "      <td>388.000000</td>\n",
       "      <td>617</td>\n",
       "      <td>42</td>\n",
       "      <td>442.000000</td>\n",
       "    </tr>\n",
       "  </tbody>\n",
       "</table>\n",
       "</div>"
      ],
      "text/plain": [
       "            q    r    s           t           u    v           w    x    y  \\\n",
       "a  684.000000  559  629  583.142857  835.000000  763  707.000000  359    9   \n",
       "b  277.000000  754  804  599.000000  547.428571  472  600.000000  396  314   \n",
       "c  486.000000  551   87  174.000000  600.000000  849  504.428571  537  845   \n",
       "d  777.000000  916  115  976.000000  755.000000  709  847.000000  431  448   \n",
       "e   99.000000  984  177  755.000000  797.000000  659  147.000000  910  423   \n",
       "f  537.333333  265  697  639.000000  544.000000  543  714.000000  244  151   \n",
       "g  537.333333  459  882  183.000000   28.000000  802  128.000000  128  932   \n",
       "h  901.000000  550  488  756.000000  273.000000  335  388.000000  617   42   \n",
       "\n",
       "            z  \n",
       "a  440.714286  \n",
       "b  705.000000  \n",
       "c   72.000000  \n",
       "d  850.000000  \n",
       "e  288.000000  \n",
       "f  675.000000  \n",
       "g   53.000000  \n",
       "h  442.000000  "
      ]
     },
     "execution_count": 120,
     "metadata": {},
     "output_type": "execute_result"
    }
   ],
   "source": [
    "df.fillna(df.mean())   # each colum's nan values will be replaced with the mean *of that column*"
   ]
  },
  {
   "cell_type": "code",
   "execution_count": 121,
   "metadata": {},
   "outputs": [
    {
     "data": {
      "text/html": [
       "<div>\n",
       "<style scoped>\n",
       "    .dataframe tbody tr th:only-of-type {\n",
       "        vertical-align: middle;\n",
       "    }\n",
       "\n",
       "    .dataframe tbody tr th {\n",
       "        vertical-align: top;\n",
       "    }\n",
       "\n",
       "    .dataframe thead th {\n",
       "        text-align: right;\n",
       "    }\n",
       "</style>\n",
       "<table border=\"1\" class=\"dataframe\">\n",
       "  <thead>\n",
       "    <tr style=\"text-align: right;\">\n",
       "      <th></th>\n",
       "      <th>q</th>\n",
       "      <th>r</th>\n",
       "      <th>s</th>\n",
       "      <th>t</th>\n",
       "      <th>u</th>\n",
       "      <th>v</th>\n",
       "      <th>w</th>\n",
       "      <th>x</th>\n",
       "      <th>y</th>\n",
       "      <th>z</th>\n",
       "    </tr>\n",
       "  </thead>\n",
       "  <tbody>\n",
       "    <tr>\n",
       "      <th>a</th>\n",
       "      <td>684.0</td>\n",
       "      <td>559</td>\n",
       "      <td>629</td>\n",
       "      <td>4444.0</td>\n",
       "      <td>835.0</td>\n",
       "      <td>763</td>\n",
       "      <td>707.0</td>\n",
       "      <td>359</td>\n",
       "      <td>9</td>\n",
       "      <td>101010.0</td>\n",
       "    </tr>\n",
       "    <tr>\n",
       "      <th>b</th>\n",
       "      <td>277.0</td>\n",
       "      <td>754</td>\n",
       "      <td>804</td>\n",
       "      <td>599.0</td>\n",
       "      <td>5555.0</td>\n",
       "      <td>472</td>\n",
       "      <td>600.0</td>\n",
       "      <td>396</td>\n",
       "      <td>314</td>\n",
       "      <td>705.0</td>\n",
       "    </tr>\n",
       "    <tr>\n",
       "      <th>c</th>\n",
       "      <td>486.0</td>\n",
       "      <td>551</td>\n",
       "      <td>87</td>\n",
       "      <td>174.0</td>\n",
       "      <td>600.0</td>\n",
       "      <td>849</td>\n",
       "      <td>7777.0</td>\n",
       "      <td>537</td>\n",
       "      <td>845</td>\n",
       "      <td>72.0</td>\n",
       "    </tr>\n",
       "    <tr>\n",
       "      <th>d</th>\n",
       "      <td>777.0</td>\n",
       "      <td>916</td>\n",
       "      <td>115</td>\n",
       "      <td>976.0</td>\n",
       "      <td>755.0</td>\n",
       "      <td>709</td>\n",
       "      <td>847.0</td>\n",
       "      <td>431</td>\n",
       "      <td>448</td>\n",
       "      <td>850.0</td>\n",
       "    </tr>\n",
       "    <tr>\n",
       "      <th>e</th>\n",
       "      <td>99.0</td>\n",
       "      <td>984</td>\n",
       "      <td>177</td>\n",
       "      <td>755.0</td>\n",
       "      <td>797.0</td>\n",
       "      <td>659</td>\n",
       "      <td>147.0</td>\n",
       "      <td>910</td>\n",
       "      <td>423</td>\n",
       "      <td>288.0</td>\n",
       "    </tr>\n",
       "    <tr>\n",
       "      <th>f</th>\n",
       "      <td>1111.0</td>\n",
       "      <td>265</td>\n",
       "      <td>697</td>\n",
       "      <td>639.0</td>\n",
       "      <td>544.0</td>\n",
       "      <td>543</td>\n",
       "      <td>714.0</td>\n",
       "      <td>244</td>\n",
       "      <td>151</td>\n",
       "      <td>675.0</td>\n",
       "    </tr>\n",
       "    <tr>\n",
       "      <th>g</th>\n",
       "      <td>1111.0</td>\n",
       "      <td>459</td>\n",
       "      <td>882</td>\n",
       "      <td>183.0</td>\n",
       "      <td>28.0</td>\n",
       "      <td>802</td>\n",
       "      <td>128.0</td>\n",
       "      <td>128</td>\n",
       "      <td>932</td>\n",
       "      <td>53.0</td>\n",
       "    </tr>\n",
       "    <tr>\n",
       "      <th>h</th>\n",
       "      <td>901.0</td>\n",
       "      <td>550</td>\n",
       "      <td>488</td>\n",
       "      <td>756.0</td>\n",
       "      <td>273.0</td>\n",
       "      <td>335</td>\n",
       "      <td>388.0</td>\n",
       "      <td>617</td>\n",
       "      <td>42</td>\n",
       "      <td>442.0</td>\n",
       "    </tr>\n",
       "  </tbody>\n",
       "</table>\n",
       "</div>"
      ],
      "text/plain": [
       "        q    r    s       t       u    v       w    x    y         z\n",
       "a   684.0  559  629  4444.0   835.0  763   707.0  359    9  101010.0\n",
       "b   277.0  754  804   599.0  5555.0  472   600.0  396  314     705.0\n",
       "c   486.0  551   87   174.0   600.0  849  7777.0  537  845      72.0\n",
       "d   777.0  916  115   976.0   755.0  709   847.0  431  448     850.0\n",
       "e    99.0  984  177   755.0   797.0  659   147.0  910  423     288.0\n",
       "f  1111.0  265  697   639.0   544.0  543   714.0  244  151     675.0\n",
       "g  1111.0  459  882   183.0    28.0  802   128.0  128  932      53.0\n",
       "h   901.0  550  488   756.0   273.0  335   388.0  617   42     442.0"
      ]
     },
     "execution_count": 121,
     "metadata": {},
     "output_type": "execute_result"
    }
   ],
   "source": [
    "df.fillna({'q':1111, 'r':2222, 's':3333, 't':4444, 'u':5555, 'v':66666, 'w':7777, 'x':8888, 'y':9999, 'z':101010})"
   ]
  },
  {
   "cell_type": "code",
   "execution_count": 122,
   "metadata": {
    "scrolled": true
   },
   "outputs": [
    {
     "name": "stdout",
     "output_type": "stream",
     "text": [
      "Help on method fillna in module pandas.core.generic:\n",
      "\n",
      "fillna(\n",
      "    value: 'Hashable | Mapping | Series | DataFrame | None' = None,\n",
      "    *,\n",
      "    method: 'FillnaOptions | None' = None,\n",
      "    axis: 'Axis | None' = None,\n",
      "    inplace: 'bool_t' = False,\n",
      "    limit: 'int | None' = None,\n",
      "    downcast: 'dict | None | lib.NoDefault' = <no_default>\n",
      ") -> 'Self | None' method of pandas.core.frame.DataFrame instance\n",
      "    Fill NA/NaN values using the specified method.\n",
      "\n",
      "    Parameters\n",
      "    ----------\n",
      "    value : scalar, dict, Series, or DataFrame\n",
      "        Value to use to fill holes (e.g. 0), alternately a\n",
      "        dict/Series/DataFrame of values specifying which value to use for\n",
      "        each index (for a Series) or column (for a DataFrame).  Values not\n",
      "        in the dict/Series/DataFrame will not be filled. This value cannot\n",
      "        be a list.\n",
      "    method : {'backfill', 'bfill', 'ffill', None}, default None\n",
      "        Method to use for filling holes in reindexed Series:\n",
      "\n",
      "        * ffill: propagate last valid observation forward to next valid.\n",
      "        * backfill / bfill: use next valid observation to fill gap.\n",
      "\n",
      "        .. deprecated:: 2.1.0\n",
      "            Use ffill or bfill instead.\n",
      "\n",
      "    axis : {0 or 'index'} for Series, {0 or 'index', 1 or 'columns'} for DataFrame\n",
      "        Axis along which to fill missing values. For `Series`\n",
      "        this parameter is unused and defaults to 0.\n",
      "    inplace : bool, default False\n",
      "        If True, fill in-place. Note: this will modify any\n",
      "        other views on this object (e.g., a no-copy slice for a column in a\n",
      "        DataFrame).\n",
      "    limit : int, default None\n",
      "        If method is specified, this is the maximum number of consecutive\n",
      "        NaN values to forward/backward fill. In other words, if there is\n",
      "        a gap with more than this number of consecutive NaNs, it will only\n",
      "        be partially filled. If method is not specified, this is the\n",
      "        maximum number of entries along the entire axis where NaNs will be\n",
      "        filled. Must be greater than 0 if not None.\n",
      "    downcast : dict, default is None\n",
      "        A dict of item->dtype of what to downcast if possible,\n",
      "        or the string 'infer' which will try to downcast to an appropriate\n",
      "        equal type (e.g. float64 to int64 if possible).\n",
      "\n",
      "        .. deprecated:: 2.2.0\n",
      "\n",
      "    Returns\n",
      "    -------\n",
      "    Series/DataFrame or None\n",
      "        Object with missing values filled or None if ``inplace=True``.\n",
      "\n",
      "    See Also\n",
      "    --------\n",
      "    ffill : Fill values by propagating the last valid observation to next valid.\n",
      "    bfill : Fill values by using the next valid observation to fill the gap.\n",
      "    interpolate : Fill NaN values using interpolation.\n",
      "    reindex : Conform object to new index.\n",
      "    asfreq : Convert TimeSeries to specified frequency.\n",
      "\n",
      "    Examples\n",
      "    --------\n",
      "    >>> df = pd.DataFrame([[np.nan, 2, np.nan, 0],\n",
      "    ...                    [3, 4, np.nan, 1],\n",
      "    ...                    [np.nan, np.nan, np.nan, np.nan],\n",
      "    ...                    [np.nan, 3, np.nan, 4]],\n",
      "    ...                   columns=list(\"ABCD\"))\n",
      "    >>> df\n",
      "         A    B   C    D\n",
      "    0  NaN  2.0 NaN  0.0\n",
      "    1  3.0  4.0 NaN  1.0\n",
      "    2  NaN  NaN NaN  NaN\n",
      "    3  NaN  3.0 NaN  4.0\n",
      "\n",
      "    Replace all NaN elements with 0s.\n",
      "\n",
      "    >>> df.fillna(0)\n",
      "         A    B    C    D\n",
      "    0  0.0  2.0  0.0  0.0\n",
      "    1  3.0  4.0  0.0  1.0\n",
      "    2  0.0  0.0  0.0  0.0\n",
      "    3  0.0  3.0  0.0  4.0\n",
      "\n",
      "    Replace all NaN elements in column 'A', 'B', 'C', and 'D', with 0, 1,\n",
      "    2, and 3 respectively.\n",
      "\n",
      "    >>> values = {\"A\": 0, \"B\": 1, \"C\": 2, \"D\": 3}\n",
      "    >>> df.fillna(value=values)\n",
      "         A    B    C    D\n",
      "    0  0.0  2.0  2.0  0.0\n",
      "    1  3.0  4.0  2.0  1.0\n",
      "    2  0.0  1.0  2.0  3.0\n",
      "    3  0.0  3.0  2.0  4.0\n",
      "\n",
      "    Only replace the first NaN element.\n",
      "\n",
      "    >>> df.fillna(value=values, limit=1)\n",
      "         A    B    C    D\n",
      "    0  0.0  2.0  2.0  0.0\n",
      "    1  3.0  4.0  NaN  1.0\n",
      "    2  NaN  1.0  NaN  3.0\n",
      "    3  NaN  3.0  NaN  4.0\n",
      "\n",
      "    When filling using a DataFrame, replacement happens along\n",
      "    the same column names and same indices\n",
      "\n",
      "    >>> df2 = pd.DataFrame(np.zeros((4, 4)), columns=list(\"ABCE\"))\n",
      "    >>> df.fillna(df2)\n",
      "         A    B    C    D\n",
      "    0  0.0  2.0  0.0  0.0\n",
      "    1  3.0  4.0  0.0  1.0\n",
      "    2  0.0  0.0  0.0  NaN\n",
      "    3  0.0  3.0  0.0  4.0\n",
      "\n",
      "    Note that column D is not affected since it is not present in df2.\n",
      "\n"
     ]
    }
   ],
   "source": [
    "help(df.fillna)"
   ]
  },
  {
   "cell_type": "markdown",
   "metadata": {},
   "source": [
    "# Next up\n",
    "\n",
    "- Files\n",
    "- Reading/writing\n",
    "\n",
    "Resume :35"
   ]
  },
  {
   "cell_type": "markdown",
   "metadata": {},
   "source": [
    "# Reading files\n",
    "\n",
    "Pandas handles a *huge* number of different file formats.  We'll start with CSV, then a bit about Excel, and then a few other formats, as well.\n",
    "\n",
    "# CSV \n",
    "\n",
    "Used to stand for \"comma-separated values,\" but now it's more generically \"character-separated values\". The idea is pretty simple:\n",
    "\n",
    "- The file is all text\n",
    "- Every line is a record\n",
    "- Fields on each line are separated (by default) by commas\n",
    "- The first line of the file can (sometimes) be the names of the columns we want\n",
    "\n",
    "Lots of problems with this:\n",
    "- What if the data contains commas?\n",
    "- How are we supposed to know if the first line is column names or just \n"
   ]
  },
  {
   "cell_type": "code",
   "execution_count": null,
   "metadata": {},
   "outputs": [],
   "source": []
  }
 ],
 "metadata": {
  "kernelspec": {
   "display_name": "Python 3 (ipykernel)",
   "language": "python",
   "name": "python3"
  },
  "language_info": {
   "codemirror_mode": {
    "name": "ipython",
    "version": 3
   },
   "file_extension": ".py",
   "mimetype": "text/x-python",
   "name": "python",
   "nbconvert_exporter": "python",
   "pygments_lexer": "ipython3",
   "version": "3.13.0"
  }
 },
 "nbformat": 4,
 "nbformat_minor": 4
}
