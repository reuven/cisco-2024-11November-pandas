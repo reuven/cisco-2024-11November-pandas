{
 "cells": [
  {
   "cell_type": "markdown",
   "id": "c622dbb0-340b-4e65-a944-f190df55739c",
   "metadata": {},
   "source": [
    "# Agenda\n",
    "\n",
    "1. Dates and times\n",
    "2. Visualization\n",
    "3. Optimization of queries\n",
    "    - Memory usage (dtypes and categories)\n",
    "    - Techniques for improving query speed\n",
    "    - PyArrow"
   ]
  },
  {
   "cell_type": "markdown",
   "id": "2dca77c1-c709-4e99-8e5d-a5da93e5e4e0",
   "metadata": {},
   "source": [
    "# Dates and times\n",
    "\n",
    "When we use the word \"time\" in a human language, we actually mean two different things:\n",
    "\n",
    "- A specific point in time, unique in the universe's history. We point to that time with a particular year, month, date, hour, minute, second, etc., depending on how fine-grained we want our measurement to be.  This is how we indicate when a class starts, or when a meeting ends, or when someone was born. "
   ]
  }
 ],
 "metadata": {
  "kernelspec": {
   "display_name": "Python 3 (ipykernel)",
   "language": "python",
   "name": "python3"
  },
  "language_info": {
   "codemirror_mode": {
    "name": "ipython",
    "version": 3
   },
   "file_extension": ".py",
   "mimetype": "text/x-python",
   "name": "python",
   "nbconvert_exporter": "python",
   "pygments_lexer": "ipython3",
   "version": "3.13.0"
  }
 },
 "nbformat": 4,
 "nbformat_minor": 5
}
