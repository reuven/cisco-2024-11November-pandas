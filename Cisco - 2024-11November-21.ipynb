{
 "cells": [
  {
   "cell_type": "markdown",
   "id": "c622dbb0-340b-4e65-a944-f190df55739c",
   "metadata": {},
   "source": [
    "# Agenda\n",
    "\n",
    "1. Dates and times\n",
    "2. Visualization\n",
    "3. Optimization of queries\n",
    "    - Memory usage (and categories)\n",
    "    - Techniques for improving query speed\n",
    "    - PyArrow"
   ]
  },
  {
   "cell_type": "code",
   "execution_count": null,
   "id": "5c05f23a-265e-4dc9-9680-9f8e165f5aeb",
   "metadata": {},
   "outputs": [],
   "source": []
  }
 ],
 "metadata": {
  "kernelspec": {
   "display_name": "Python 3 (ipykernel)",
   "language": "python",
   "name": "python3"
  },
  "language_info": {
   "codemirror_mode": {
    "name": "ipython",
    "version": 3
   },
   "file_extension": ".py",
   "mimetype": "text/x-python",
   "name": "python",
   "nbconvert_exporter": "python",
   "pygments_lexer": "ipython3",
   "version": "3.13.0"
  }
 },
 "nbformat": 4,
 "nbformat_minor": 5
}
