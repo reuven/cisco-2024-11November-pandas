{
 "cells": [
  {
   "cell_type": "markdown",
   "metadata": {},
   "source": [
    "# Agenda\n",
    "\n",
    "1. Jupyter basics\n",
    "2. NumPy\n",
    "    - NumPy arrays\n",
    "    - Data types (dtypes)\n",
    "    - Operations, including broadcasting\n",
    "    - Boolean/mask arrays\n",
    "    - Sorting and retrieving data\n",
    "    - 2D data (a little)\n",
    "3. Pandas\n",
    "    - Series and DataFrame (the two main Pandas data structures)\n",
    "    - Setting and retrieving data\n",
    "    - How are these different from NumPy data structures?\n",
    "    - Indexes and columns\n",
    "4. Grouping and sorting\n",
    "5. Joining multiple data frames together\n",
    "6. Memory usage and optimization of Pandas\n",
    "7. Working with strings\n",
    "8. Working with dates and times\n",
    "9. Visualization of our data"
   ]
  }
 ],
 "metadata": {
  "kernelspec": {
   "display_name": "Python 3 (ipykernel)",
   "language": "python",
   "name": "python3"
  },
  "language_info": {
   "codemirror_mode": {
    "name": "ipython",
    "version": 3
   },
   "file_extension": ".py",
   "mimetype": "text/x-python",
   "name": "python",
   "nbconvert_exporter": "python",
   "pygments_lexer": "ipython3",
   "version": "3.13.0"
  }
 },
 "nbformat": 4,
 "nbformat_minor": 4
}
