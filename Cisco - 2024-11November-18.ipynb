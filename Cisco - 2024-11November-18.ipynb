{
 "cells": [
  {
   "cell_type": "markdown",
   "metadata": {},
   "source": [
    "# Agenda\n",
    "\n",
    "1. Jupyter basics\n",
    "2. NumPy\n",
    "    - NumPy arrays\n",
    "    - Data types (dtypes)\n",
    "    - Operations, including broadcasting\n",
    "    - Boolean/mask arrays\n",
    "    - Sorting and retrieving data\n",
    "    - 2D data (a little)\n",
    "3. Pandas\n",
    "    - Series and DataFrame (the two main Pandas data structures)\n",
    "    - Setting and retrieving data\n",
    "    - How are these different from NumPy data structures?\n",
    "    - Indexes and columns\n",
    "4. Grouping and sorting\n",
    "5. Joining multiple data frames together\n",
    "6. Memory usage and optimization of Pandas\n",
    "7. Working with strings\n",
    "8. Working with dates and times\n",
    "9. Visualization of our data"
   ]
  },
  {
   "cell_type": "markdown",
   "metadata": {},
   "source": [
    "# Jupyter\n",
    "\n",
    "Jupyter is the latest evolution of IPython, a command-line replacement for the standard `python` interactive shell. It gives you the illusion that Python is running in your browser, and lets you run code in it. Really, though, there's a backend Python process that is running all of the code.\n",
    "\n",
    "Jupyter handles code, but it also handles documentation in Markdown format (like I'm writing here), which lets us write HTML-formatted text easily.\n",
    "\n",
    "The biggest thing to know about Jupyter is that it's based on *cells*. Right now, I'm typing into a cell. When you type into a cell, one of two things can happen, depending on the mode:\n",
    "\n",
    "- In *edit mode*, which I'm in now, typing adds text to the current cell. You can enter edit mode by clicking in the cell or by pressing ENTER. This is how we add code and/or documentation.\n",
    "- In *command mode*, anything we type (typically one-letter commands) is sent to Jupyter to give it instructions. You can enter command mode by clicking to the left of the cell or by pressing ESC.\n",
    "\n",
    "What h"
   ]
  }
 ],
 "metadata": {
  "kernelspec": {
   "display_name": "Python 3 (ipykernel)",
   "language": "python",
   "name": "python3"
  },
  "language_info": {
   "codemirror_mode": {
    "name": "ipython",
    "version": 3
   },
   "file_extension": ".py",
   "mimetype": "text/x-python",
   "name": "python",
   "nbconvert_exporter": "python",
   "pygments_lexer": "ipython3",
   "version": "3.13.0"
  }
 },
 "nbformat": 4,
 "nbformat_minor": 4
}
